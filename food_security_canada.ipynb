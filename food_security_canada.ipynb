{
 "cells": [
  {
   "cell_type": "code",
   "execution_count": 514,
   "metadata": {},
   "outputs": [],
   "source": [
    "import pandas as pd\n",
    "import matplotlib.pyplot as plt\n",
    "import plotly.express as px\n",
    "import plotly.graph_objects as go\n",
    "import matplotlib.cm as cm\n",
    "import numpy as np\n",
    "pd.set_option('mode.chained_assignment', None)"
   ]
  },
  {
   "cell_type": "code",
   "execution_count": 482,
   "metadata": {},
   "outputs": [
    {
     "data": {
      "text/html": [
       "<div>\n",
       "<style scoped>\n",
       "    .dataframe tbody tr th:only-of-type {\n",
       "        vertical-align: middle;\n",
       "    }\n",
       "\n",
       "    .dataframe tbody tr th {\n",
       "        vertical-align: top;\n",
       "    }\n",
       "\n",
       "    .dataframe thead th {\n",
       "        text-align: right;\n",
       "    }\n",
       "</style>\n",
       "<table border=\"1\" class=\"dataframe\">\n",
       "  <thead>\n",
       "    <tr style=\"text-align: right;\">\n",
       "      <th></th>\n",
       "      <th>REF_DATE</th>\n",
       "      <th>GEO</th>\n",
       "      <th>DGUID</th>\n",
       "      <th>Demographic characteristics</th>\n",
       "      <th>Household food security status</th>\n",
       "      <th>Statistics</th>\n",
       "      <th>UOM</th>\n",
       "      <th>UOM_ID</th>\n",
       "      <th>SCALAR_FACTOR</th>\n",
       "      <th>SCALAR_ID</th>\n",
       "      <th>VECTOR</th>\n",
       "      <th>COORDINATE</th>\n",
       "      <th>VALUE</th>\n",
       "      <th>STATUS</th>\n",
       "      <th>SYMBOL</th>\n",
       "      <th>TERMINATED</th>\n",
       "      <th>DECIMALS</th>\n",
       "    </tr>\n",
       "  </thead>\n",
       "  <tbody>\n",
       "    <tr>\n",
       "      <th>0</th>\n",
       "      <td>2018</td>\n",
       "      <td>Canada</td>\n",
       "      <td>2016A000011124</td>\n",
       "      <td>All persons</td>\n",
       "      <td>Food secure</td>\n",
       "      <td>Number of persons</td>\n",
       "      <td>Number</td>\n",
       "      <td>223</td>\n",
       "      <td>thousands</td>\n",
       "      <td>3</td>\n",
       "      <td>v1288342804</td>\n",
       "      <td>1.1.1.1</td>\n",
       "      <td>30238.0</td>\n",
       "      <td>A</td>\n",
       "      <td>NaN</td>\n",
       "      <td>NaN</td>\n",
       "      <td>0</td>\n",
       "    </tr>\n",
       "    <tr>\n",
       "      <th>1</th>\n",
       "      <td>2018</td>\n",
       "      <td>Canada</td>\n",
       "      <td>2016A000011124</td>\n",
       "      <td>All persons</td>\n",
       "      <td>Food secure</td>\n",
       "      <td>Percentage of persons</td>\n",
       "      <td>Percent</td>\n",
       "      <td>239</td>\n",
       "      <td>units</td>\n",
       "      <td>0</td>\n",
       "      <td>v1288342805</td>\n",
       "      <td>1.1.1.2</td>\n",
       "      <td>83.2</td>\n",
       "      <td>A</td>\n",
       "      <td>NaN</td>\n",
       "      <td>NaN</td>\n",
       "      <td>1</td>\n",
       "    </tr>\n",
       "    <tr>\n",
       "      <th>2</th>\n",
       "      <td>2018</td>\n",
       "      <td>Canada</td>\n",
       "      <td>2016A000011124</td>\n",
       "      <td>All persons</td>\n",
       "      <td>Food insecure</td>\n",
       "      <td>Number of persons</td>\n",
       "      <td>Number</td>\n",
       "      <td>223</td>\n",
       "      <td>thousands</td>\n",
       "      <td>3</td>\n",
       "      <td>v1529611792</td>\n",
       "      <td>1.1.6.1</td>\n",
       "      <td>6099.0</td>\n",
       "      <td>B</td>\n",
       "      <td>NaN</td>\n",
       "      <td>NaN</td>\n",
       "      <td>0</td>\n",
       "    </tr>\n",
       "    <tr>\n",
       "      <th>3</th>\n",
       "      <td>2018</td>\n",
       "      <td>Canada</td>\n",
       "      <td>2016A000011124</td>\n",
       "      <td>All persons</td>\n",
       "      <td>Food insecure</td>\n",
       "      <td>Percentage of persons</td>\n",
       "      <td>Percent</td>\n",
       "      <td>239</td>\n",
       "      <td>units</td>\n",
       "      <td>0</td>\n",
       "      <td>v1529611793</td>\n",
       "      <td>1.1.6.2</td>\n",
       "      <td>16.8</td>\n",
       "      <td>B</td>\n",
       "      <td>NaN</td>\n",
       "      <td>NaN</td>\n",
       "      <td>1</td>\n",
       "    </tr>\n",
       "    <tr>\n",
       "      <th>4</th>\n",
       "      <td>2018</td>\n",
       "      <td>Canada</td>\n",
       "      <td>2016A000011124</td>\n",
       "      <td>All persons</td>\n",
       "      <td>Food insecure, marginal</td>\n",
       "      <td>Number of persons</td>\n",
       "      <td>Number</td>\n",
       "      <td>223</td>\n",
       "      <td>thousands</td>\n",
       "      <td>3</td>\n",
       "      <td>v1288342806</td>\n",
       "      <td>1.1.2.1</td>\n",
       "      <td>1879.0</td>\n",
       "      <td>C</td>\n",
       "      <td>NaN</td>\n",
       "      <td>NaN</td>\n",
       "      <td>0</td>\n",
       "    </tr>\n",
       "    <tr>\n",
       "      <th>...</th>\n",
       "      <td>...</td>\n",
       "      <td>...</td>\n",
       "      <td>...</td>\n",
       "      <td>...</td>\n",
       "      <td>...</td>\n",
       "      <td>...</td>\n",
       "      <td>...</td>\n",
       "      <td>...</td>\n",
       "      <td>...</td>\n",
       "      <td>...</td>\n",
       "      <td>...</td>\n",
       "      <td>...</td>\n",
       "      <td>...</td>\n",
       "      <td>...</td>\n",
       "      <td>...</td>\n",
       "      <td>...</td>\n",
       "      <td>...</td>\n",
       "    </tr>\n",
       "    <tr>\n",
       "      <th>24331</th>\n",
       "      <td>2021</td>\n",
       "      <td>British Columbia</td>\n",
       "      <td>2016A000259</td>\n",
       "      <td>Persons aged 16 years and over born in Canada</td>\n",
       "      <td>Food insecure, moderate or severe</td>\n",
       "      <td>Percentage of persons</td>\n",
       "      <td>Percent</td>\n",
       "      <td>239</td>\n",
       "      <td>units</td>\n",
       "      <td>0</td>\n",
       "      <td>v1529615659</td>\n",
       "      <td>13.39.3.2</td>\n",
       "      <td>11.7</td>\n",
       "      <td>C</td>\n",
       "      <td>NaN</td>\n",
       "      <td>NaN</td>\n",
       "      <td>1</td>\n",
       "    </tr>\n",
       "    <tr>\n",
       "      <th>24332</th>\n",
       "      <td>2021</td>\n",
       "      <td>British Columbia</td>\n",
       "      <td>2016A000259</td>\n",
       "      <td>Persons aged 16 years and over born in Canada</td>\n",
       "      <td>Food insecure, moderate</td>\n",
       "      <td>Number of persons</td>\n",
       "      <td>Number</td>\n",
       "      <td>223</td>\n",
       "      <td>thousands</td>\n",
       "      <td>3</td>\n",
       "      <td>v1529615660</td>\n",
       "      <td>13.39.4.1</td>\n",
       "      <td>192.0</td>\n",
       "      <td>D</td>\n",
       "      <td>NaN</td>\n",
       "      <td>NaN</td>\n",
       "      <td>0</td>\n",
       "    </tr>\n",
       "    <tr>\n",
       "      <th>24333</th>\n",
       "      <td>2021</td>\n",
       "      <td>British Columbia</td>\n",
       "      <td>2016A000259</td>\n",
       "      <td>Persons aged 16 years and over born in Canada</td>\n",
       "      <td>Food insecure, moderate</td>\n",
       "      <td>Percentage of persons</td>\n",
       "      <td>Percent</td>\n",
       "      <td>239</td>\n",
       "      <td>units</td>\n",
       "      <td>0</td>\n",
       "      <td>v1529615661</td>\n",
       "      <td>13.39.4.2</td>\n",
       "      <td>7.2</td>\n",
       "      <td>D</td>\n",
       "      <td>NaN</td>\n",
       "      <td>NaN</td>\n",
       "      <td>1</td>\n",
       "    </tr>\n",
       "    <tr>\n",
       "      <th>24334</th>\n",
       "      <td>2021</td>\n",
       "      <td>British Columbia</td>\n",
       "      <td>2016A000259</td>\n",
       "      <td>Persons aged 16 years and over born in Canada</td>\n",
       "      <td>Food insecure, severe</td>\n",
       "      <td>Number of persons</td>\n",
       "      <td>Number</td>\n",
       "      <td>223</td>\n",
       "      <td>thousands</td>\n",
       "      <td>3</td>\n",
       "      <td>v1529615662</td>\n",
       "      <td>13.39.5.1</td>\n",
       "      <td>121.0</td>\n",
       "      <td>D</td>\n",
       "      <td>NaN</td>\n",
       "      <td>NaN</td>\n",
       "      <td>0</td>\n",
       "    </tr>\n",
       "    <tr>\n",
       "      <th>24335</th>\n",
       "      <td>2021</td>\n",
       "      <td>British Columbia</td>\n",
       "      <td>2016A000259</td>\n",
       "      <td>Persons aged 16 years and over born in Canada</td>\n",
       "      <td>Food insecure, severe</td>\n",
       "      <td>Percentage of persons</td>\n",
       "      <td>Percent</td>\n",
       "      <td>239</td>\n",
       "      <td>units</td>\n",
       "      <td>0</td>\n",
       "      <td>v1529615663</td>\n",
       "      <td>13.39.5.2</td>\n",
       "      <td>4.5</td>\n",
       "      <td>D</td>\n",
       "      <td>NaN</td>\n",
       "      <td>NaN</td>\n",
       "      <td>1</td>\n",
       "    </tr>\n",
       "  </tbody>\n",
       "</table>\n",
       "<p>24336 rows × 17 columns</p>\n",
       "</div>"
      ],
      "text/plain": [
       "       REF_DATE               GEO           DGUID  \\\n",
       "0          2018            Canada  2016A000011124   \n",
       "1          2018            Canada  2016A000011124   \n",
       "2          2018            Canada  2016A000011124   \n",
       "3          2018            Canada  2016A000011124   \n",
       "4          2018            Canada  2016A000011124   \n",
       "...         ...               ...             ...   \n",
       "24331      2021  British Columbia     2016A000259   \n",
       "24332      2021  British Columbia     2016A000259   \n",
       "24333      2021  British Columbia     2016A000259   \n",
       "24334      2021  British Columbia     2016A000259   \n",
       "24335      2021  British Columbia     2016A000259   \n",
       "\n",
       "                         Demographic characteristics  \\\n",
       "0                                        All persons   \n",
       "1                                        All persons   \n",
       "2                                        All persons   \n",
       "3                                        All persons   \n",
       "4                                        All persons   \n",
       "...                                              ...   \n",
       "24331  Persons aged 16 years and over born in Canada   \n",
       "24332  Persons aged 16 years and over born in Canada   \n",
       "24333  Persons aged 16 years and over born in Canada   \n",
       "24334  Persons aged 16 years and over born in Canada   \n",
       "24335  Persons aged 16 years and over born in Canada   \n",
       "\n",
       "          Household food security status             Statistics      UOM  \\\n",
       "0                            Food secure      Number of persons   Number   \n",
       "1                            Food secure  Percentage of persons  Percent   \n",
       "2                          Food insecure      Number of persons   Number   \n",
       "3                          Food insecure  Percentage of persons  Percent   \n",
       "4                Food insecure, marginal      Number of persons   Number   \n",
       "...                                  ...                    ...      ...   \n",
       "24331  Food insecure, moderate or severe  Percentage of persons  Percent   \n",
       "24332            Food insecure, moderate      Number of persons   Number   \n",
       "24333            Food insecure, moderate  Percentage of persons  Percent   \n",
       "24334              Food insecure, severe      Number of persons   Number   \n",
       "24335              Food insecure, severe  Percentage of persons  Percent   \n",
       "\n",
       "       UOM_ID SCALAR_FACTOR  SCALAR_ID       VECTOR COORDINATE    VALUE  \\\n",
       "0         223     thousands          3  v1288342804    1.1.1.1  30238.0   \n",
       "1         239         units          0  v1288342805    1.1.1.2     83.2   \n",
       "2         223     thousands          3  v1529611792    1.1.6.1   6099.0   \n",
       "3         239         units          0  v1529611793    1.1.6.2     16.8   \n",
       "4         223     thousands          3  v1288342806    1.1.2.1   1879.0   \n",
       "...       ...           ...        ...          ...        ...      ...   \n",
       "24331     239         units          0  v1529615659  13.39.3.2     11.7   \n",
       "24332     223     thousands          3  v1529615660  13.39.4.1    192.0   \n",
       "24333     239         units          0  v1529615661  13.39.4.2      7.2   \n",
       "24334     223     thousands          3  v1529615662  13.39.5.1    121.0   \n",
       "24335     239         units          0  v1529615663  13.39.5.2      4.5   \n",
       "\n",
       "      STATUS  SYMBOL  TERMINATED  DECIMALS  \n",
       "0          A     NaN         NaN         0  \n",
       "1          A     NaN         NaN         1  \n",
       "2          B     NaN         NaN         0  \n",
       "3          B     NaN         NaN         1  \n",
       "4          C     NaN         NaN         0  \n",
       "...      ...     ...         ...       ...  \n",
       "24331      C     NaN         NaN         1  \n",
       "24332      D     NaN         NaN         0  \n",
       "24333      D     NaN         NaN         1  \n",
       "24334      D     NaN         NaN         0  \n",
       "24335      D     NaN         NaN         1  \n",
       "\n",
       "[24336 rows x 17 columns]"
      ]
     },
     "execution_count": 482,
     "metadata": {},
     "output_type": "execute_result"
    }
   ],
   "source": [
    "food_df = pd.read_csv(\"C:/Users/Simona/Desktop/Data Analysis/Raw Data/13100835-eng/13100835.csv\")\n",
    "food_df"
   ]
  },
  {
   "cell_type": "code",
   "execution_count": 483,
   "metadata": {},
   "outputs": [
    {
     "data": {
      "text/plain": [
       "REF_DATE                              0\n",
       "GEO                                   0\n",
       "DGUID                                 0\n",
       "Demographic characteristics           0\n",
       "Household food security status        0\n",
       "Statistics                            0\n",
       "UOM                                   0\n",
       "UOM_ID                                0\n",
       "SCALAR_FACTOR                         0\n",
       "SCALAR_ID                             0\n",
       "VECTOR                                0\n",
       "COORDINATE                            0\n",
       "VALUE                              7917\n",
       "STATUS                                0\n",
       "SYMBOL                            24336\n",
       "TERMINATED                        24336\n",
       "DECIMALS                              0\n",
       "dtype: int64"
      ]
     },
     "execution_count": 483,
     "metadata": {},
     "output_type": "execute_result"
    }
   ],
   "source": [
    "food_df.isna().sum()"
   ]
  },
  {
   "cell_type": "code",
   "execution_count": 484,
   "metadata": {},
   "outputs": [],
   "source": [
    "food_df.drop(columns=['SYMBOL', 'TERMINATED'], inplace=True)"
   ]
  },
  {
   "cell_type": "code",
   "execution_count": 485,
   "metadata": {},
   "outputs": [
    {
     "data": {
      "text/html": [
       "<div>\n",
       "<style scoped>\n",
       "    .dataframe tbody tr th:only-of-type {\n",
       "        vertical-align: middle;\n",
       "    }\n",
       "\n",
       "    .dataframe tbody tr th {\n",
       "        vertical-align: top;\n",
       "    }\n",
       "\n",
       "    .dataframe thead th {\n",
       "        text-align: right;\n",
       "    }\n",
       "</style>\n",
       "<table border=\"1\" class=\"dataframe\">\n",
       "  <thead>\n",
       "    <tr style=\"text-align: right;\">\n",
       "      <th></th>\n",
       "      <th>REF_DATE</th>\n",
       "      <th>GEO</th>\n",
       "      <th>DGUID</th>\n",
       "      <th>Demographic characteristics</th>\n",
       "      <th>Household food security status</th>\n",
       "      <th>Statistics</th>\n",
       "      <th>UOM</th>\n",
       "      <th>UOM_ID</th>\n",
       "      <th>SCALAR_FACTOR</th>\n",
       "      <th>SCALAR_ID</th>\n",
       "      <th>VECTOR</th>\n",
       "      <th>COORDINATE</th>\n",
       "      <th>VALUE</th>\n",
       "      <th>STATUS</th>\n",
       "      <th>DECIMALS</th>\n",
       "    </tr>\n",
       "  </thead>\n",
       "  <tbody>\n",
       "    <tr>\n",
       "      <th>0</th>\n",
       "      <td>2018</td>\n",
       "      <td>Canada</td>\n",
       "      <td>2016A000011124</td>\n",
       "      <td>All persons</td>\n",
       "      <td>Food secure</td>\n",
       "      <td>Number of persons</td>\n",
       "      <td>Number</td>\n",
       "      <td>223</td>\n",
       "      <td>thousands</td>\n",
       "      <td>3</td>\n",
       "      <td>v1288342804</td>\n",
       "      <td>1.1.1.1</td>\n",
       "      <td>30238.0</td>\n",
       "      <td>A</td>\n",
       "      <td>0</td>\n",
       "    </tr>\n",
       "    <tr>\n",
       "      <th>1</th>\n",
       "      <td>2018</td>\n",
       "      <td>Canada</td>\n",
       "      <td>2016A000011124</td>\n",
       "      <td>All persons</td>\n",
       "      <td>Food secure</td>\n",
       "      <td>Percentage of persons</td>\n",
       "      <td>Percent</td>\n",
       "      <td>239</td>\n",
       "      <td>units</td>\n",
       "      <td>0</td>\n",
       "      <td>v1288342805</td>\n",
       "      <td>1.1.1.2</td>\n",
       "      <td>83.2</td>\n",
       "      <td>A</td>\n",
       "      <td>1</td>\n",
       "    </tr>\n",
       "    <tr>\n",
       "      <th>2</th>\n",
       "      <td>2018</td>\n",
       "      <td>Canada</td>\n",
       "      <td>2016A000011124</td>\n",
       "      <td>All persons</td>\n",
       "      <td>Food insecure</td>\n",
       "      <td>Number of persons</td>\n",
       "      <td>Number</td>\n",
       "      <td>223</td>\n",
       "      <td>thousands</td>\n",
       "      <td>3</td>\n",
       "      <td>v1529611792</td>\n",
       "      <td>1.1.6.1</td>\n",
       "      <td>6099.0</td>\n",
       "      <td>B</td>\n",
       "      <td>0</td>\n",
       "    </tr>\n",
       "    <tr>\n",
       "      <th>3</th>\n",
       "      <td>2018</td>\n",
       "      <td>Canada</td>\n",
       "      <td>2016A000011124</td>\n",
       "      <td>All persons</td>\n",
       "      <td>Food insecure</td>\n",
       "      <td>Percentage of persons</td>\n",
       "      <td>Percent</td>\n",
       "      <td>239</td>\n",
       "      <td>units</td>\n",
       "      <td>0</td>\n",
       "      <td>v1529611793</td>\n",
       "      <td>1.1.6.2</td>\n",
       "      <td>16.8</td>\n",
       "      <td>B</td>\n",
       "      <td>1</td>\n",
       "    </tr>\n",
       "    <tr>\n",
       "      <th>4</th>\n",
       "      <td>2018</td>\n",
       "      <td>Canada</td>\n",
       "      <td>2016A000011124</td>\n",
       "      <td>All persons</td>\n",
       "      <td>Food insecure, marginal</td>\n",
       "      <td>Number of persons</td>\n",
       "      <td>Number</td>\n",
       "      <td>223</td>\n",
       "      <td>thousands</td>\n",
       "      <td>3</td>\n",
       "      <td>v1288342806</td>\n",
       "      <td>1.1.2.1</td>\n",
       "      <td>1879.0</td>\n",
       "      <td>C</td>\n",
       "      <td>0</td>\n",
       "    </tr>\n",
       "    <tr>\n",
       "      <th>...</th>\n",
       "      <td>...</td>\n",
       "      <td>...</td>\n",
       "      <td>...</td>\n",
       "      <td>...</td>\n",
       "      <td>...</td>\n",
       "      <td>...</td>\n",
       "      <td>...</td>\n",
       "      <td>...</td>\n",
       "      <td>...</td>\n",
       "      <td>...</td>\n",
       "      <td>...</td>\n",
       "      <td>...</td>\n",
       "      <td>...</td>\n",
       "      <td>...</td>\n",
       "      <td>...</td>\n",
       "    </tr>\n",
       "    <tr>\n",
       "      <th>24331</th>\n",
       "      <td>2021</td>\n",
       "      <td>British Columbia</td>\n",
       "      <td>2016A000259</td>\n",
       "      <td>Persons aged 16 years and over born in Canada</td>\n",
       "      <td>Food insecure, moderate or severe</td>\n",
       "      <td>Percentage of persons</td>\n",
       "      <td>Percent</td>\n",
       "      <td>239</td>\n",
       "      <td>units</td>\n",
       "      <td>0</td>\n",
       "      <td>v1529615659</td>\n",
       "      <td>13.39.3.2</td>\n",
       "      <td>11.7</td>\n",
       "      <td>C</td>\n",
       "      <td>1</td>\n",
       "    </tr>\n",
       "    <tr>\n",
       "      <th>24332</th>\n",
       "      <td>2021</td>\n",
       "      <td>British Columbia</td>\n",
       "      <td>2016A000259</td>\n",
       "      <td>Persons aged 16 years and over born in Canada</td>\n",
       "      <td>Food insecure, moderate</td>\n",
       "      <td>Number of persons</td>\n",
       "      <td>Number</td>\n",
       "      <td>223</td>\n",
       "      <td>thousands</td>\n",
       "      <td>3</td>\n",
       "      <td>v1529615660</td>\n",
       "      <td>13.39.4.1</td>\n",
       "      <td>192.0</td>\n",
       "      <td>D</td>\n",
       "      <td>0</td>\n",
       "    </tr>\n",
       "    <tr>\n",
       "      <th>24333</th>\n",
       "      <td>2021</td>\n",
       "      <td>British Columbia</td>\n",
       "      <td>2016A000259</td>\n",
       "      <td>Persons aged 16 years and over born in Canada</td>\n",
       "      <td>Food insecure, moderate</td>\n",
       "      <td>Percentage of persons</td>\n",
       "      <td>Percent</td>\n",
       "      <td>239</td>\n",
       "      <td>units</td>\n",
       "      <td>0</td>\n",
       "      <td>v1529615661</td>\n",
       "      <td>13.39.4.2</td>\n",
       "      <td>7.2</td>\n",
       "      <td>D</td>\n",
       "      <td>1</td>\n",
       "    </tr>\n",
       "    <tr>\n",
       "      <th>24334</th>\n",
       "      <td>2021</td>\n",
       "      <td>British Columbia</td>\n",
       "      <td>2016A000259</td>\n",
       "      <td>Persons aged 16 years and over born in Canada</td>\n",
       "      <td>Food insecure, severe</td>\n",
       "      <td>Number of persons</td>\n",
       "      <td>Number</td>\n",
       "      <td>223</td>\n",
       "      <td>thousands</td>\n",
       "      <td>3</td>\n",
       "      <td>v1529615662</td>\n",
       "      <td>13.39.5.1</td>\n",
       "      <td>121.0</td>\n",
       "      <td>D</td>\n",
       "      <td>0</td>\n",
       "    </tr>\n",
       "    <tr>\n",
       "      <th>24335</th>\n",
       "      <td>2021</td>\n",
       "      <td>British Columbia</td>\n",
       "      <td>2016A000259</td>\n",
       "      <td>Persons aged 16 years and over born in Canada</td>\n",
       "      <td>Food insecure, severe</td>\n",
       "      <td>Percentage of persons</td>\n",
       "      <td>Percent</td>\n",
       "      <td>239</td>\n",
       "      <td>units</td>\n",
       "      <td>0</td>\n",
       "      <td>v1529615663</td>\n",
       "      <td>13.39.5.2</td>\n",
       "      <td>4.5</td>\n",
       "      <td>D</td>\n",
       "      <td>1</td>\n",
       "    </tr>\n",
       "  </tbody>\n",
       "</table>\n",
       "<p>16419 rows × 15 columns</p>\n",
       "</div>"
      ],
      "text/plain": [
       "       REF_DATE               GEO           DGUID  \\\n",
       "0          2018            Canada  2016A000011124   \n",
       "1          2018            Canada  2016A000011124   \n",
       "2          2018            Canada  2016A000011124   \n",
       "3          2018            Canada  2016A000011124   \n",
       "4          2018            Canada  2016A000011124   \n",
       "...         ...               ...             ...   \n",
       "24331      2021  British Columbia     2016A000259   \n",
       "24332      2021  British Columbia     2016A000259   \n",
       "24333      2021  British Columbia     2016A000259   \n",
       "24334      2021  British Columbia     2016A000259   \n",
       "24335      2021  British Columbia     2016A000259   \n",
       "\n",
       "                         Demographic characteristics  \\\n",
       "0                                        All persons   \n",
       "1                                        All persons   \n",
       "2                                        All persons   \n",
       "3                                        All persons   \n",
       "4                                        All persons   \n",
       "...                                              ...   \n",
       "24331  Persons aged 16 years and over born in Canada   \n",
       "24332  Persons aged 16 years and over born in Canada   \n",
       "24333  Persons aged 16 years and over born in Canada   \n",
       "24334  Persons aged 16 years and over born in Canada   \n",
       "24335  Persons aged 16 years and over born in Canada   \n",
       "\n",
       "          Household food security status             Statistics      UOM  \\\n",
       "0                            Food secure      Number of persons   Number   \n",
       "1                            Food secure  Percentage of persons  Percent   \n",
       "2                          Food insecure      Number of persons   Number   \n",
       "3                          Food insecure  Percentage of persons  Percent   \n",
       "4                Food insecure, marginal      Number of persons   Number   \n",
       "...                                  ...                    ...      ...   \n",
       "24331  Food insecure, moderate or severe  Percentage of persons  Percent   \n",
       "24332            Food insecure, moderate      Number of persons   Number   \n",
       "24333            Food insecure, moderate  Percentage of persons  Percent   \n",
       "24334              Food insecure, severe      Number of persons   Number   \n",
       "24335              Food insecure, severe  Percentage of persons  Percent   \n",
       "\n",
       "       UOM_ID SCALAR_FACTOR  SCALAR_ID       VECTOR COORDINATE    VALUE  \\\n",
       "0         223     thousands          3  v1288342804    1.1.1.1  30238.0   \n",
       "1         239         units          0  v1288342805    1.1.1.2     83.2   \n",
       "2         223     thousands          3  v1529611792    1.1.6.1   6099.0   \n",
       "3         239         units          0  v1529611793    1.1.6.2     16.8   \n",
       "4         223     thousands          3  v1288342806    1.1.2.1   1879.0   \n",
       "...       ...           ...        ...          ...        ...      ...   \n",
       "24331     239         units          0  v1529615659  13.39.3.2     11.7   \n",
       "24332     223     thousands          3  v1529615660  13.39.4.1    192.0   \n",
       "24333     239         units          0  v1529615661  13.39.4.2      7.2   \n",
       "24334     223     thousands          3  v1529615662  13.39.5.1    121.0   \n",
       "24335     239         units          0  v1529615663  13.39.5.2      4.5   \n",
       "\n",
       "      STATUS  DECIMALS  \n",
       "0          A         0  \n",
       "1          A         1  \n",
       "2          B         0  \n",
       "3          B         1  \n",
       "4          C         0  \n",
       "...      ...       ...  \n",
       "24331      C         1  \n",
       "24332      D         0  \n",
       "24333      D         1  \n",
       "24334      D         0  \n",
       "24335      D         1  \n",
       "\n",
       "[16419 rows x 15 columns]"
      ]
     },
     "execution_count": 485,
     "metadata": {},
     "output_type": "execute_result"
    }
   ],
   "source": [
    "food_df.dropna(subset='VALUE', inplace=True)\n",
    "food_df"
   ]
  },
  {
   "cell_type": "code",
   "execution_count": 486,
   "metadata": {},
   "outputs": [
    {
     "data": {
      "text/html": [
       "<div>\n",
       "<style scoped>\n",
       "    .dataframe tbody tr th:only-of-type {\n",
       "        vertical-align: middle;\n",
       "    }\n",
       "\n",
       "    .dataframe tbody tr th {\n",
       "        vertical-align: top;\n",
       "    }\n",
       "\n",
       "    .dataframe thead th {\n",
       "        text-align: right;\n",
       "    }\n",
       "</style>\n",
       "<table border=\"1\" class=\"dataframe\">\n",
       "  <thead>\n",
       "    <tr style=\"text-align: right;\">\n",
       "      <th>Household food security status</th>\n",
       "      <th>Food insecure</th>\n",
       "      <th>Food insecure, marginal</th>\n",
       "      <th>Food insecure, moderate</th>\n",
       "      <th>Food insecure, moderate or severe</th>\n",
       "      <th>Food insecure, severe</th>\n",
       "      <th>Food secure</th>\n",
       "    </tr>\n",
       "    <tr>\n",
       "      <th>Demographic characteristics</th>\n",
       "      <th></th>\n",
       "      <th></th>\n",
       "      <th></th>\n",
       "      <th></th>\n",
       "      <th></th>\n",
       "      <th></th>\n",
       "    </tr>\n",
       "  </thead>\n",
       "  <tbody>\n",
       "    <tr>\n",
       "      <th>All persons</th>\n",
       "      <td>56380.0</td>\n",
       "      <td>17021.0</td>\n",
       "      <td>26952.0</td>\n",
       "      <td>39362.0</td>\n",
       "      <td>12412.0</td>\n",
       "      <td>275378.0</td>\n",
       "    </tr>\n",
       "    <tr>\n",
       "      <th>All persons aged 16 years and over</th>\n",
       "      <td>43763.0</td>\n",
       "      <td>12982.0</td>\n",
       "      <td>20598.0</td>\n",
       "      <td>30783.0</td>\n",
       "      <td>10191.0</td>\n",
       "      <td>230552.0</td>\n",
       "    </tr>\n",
       "    <tr>\n",
       "      <th>Non-Indigenous population aged 16 years and over</th>\n",
       "      <td>41603.0</td>\n",
       "      <td>12534.0</td>\n",
       "      <td>19611.0</td>\n",
       "      <td>29067.0</td>\n",
       "      <td>9460.0</td>\n",
       "      <td>225281.0</td>\n",
       "    </tr>\n",
       "    <tr>\n",
       "      <th>Persons 18 to 64 years</th>\n",
       "      <td>37053.0</td>\n",
       "      <td>10614.0</td>\n",
       "      <td>17450.0</td>\n",
       "      <td>26444.0</td>\n",
       "      <td>8994.0</td>\n",
       "      <td>171941.0</td>\n",
       "    </tr>\n",
       "    <tr>\n",
       "      <th>Persons aged 16 years and over born in Canada</th>\n",
       "      <td>28699.0</td>\n",
       "      <td>8021.0</td>\n",
       "      <td>12921.0</td>\n",
       "      <td>20680.0</td>\n",
       "      <td>7761.0</td>\n",
       "      <td>164807.0</td>\n",
       "    </tr>\n",
       "    <tr>\n",
       "      <th>Females</th>\n",
       "      <td>28802.0</td>\n",
       "      <td>8680.0</td>\n",
       "      <td>13854.0</td>\n",
       "      <td>20125.0</td>\n",
       "      <td>6270.0</td>\n",
       "      <td>138285.0</td>\n",
       "    </tr>\n",
       "    <tr>\n",
       "      <th>Males</th>\n",
       "      <td>27578.0</td>\n",
       "      <td>8338.0</td>\n",
       "      <td>13094.0</td>\n",
       "      <td>19241.0</td>\n",
       "      <td>6146.0</td>\n",
       "      <td>137090.0</td>\n",
       "    </tr>\n",
       "    <tr>\n",
       "      <th>Non-Indigenous population</th>\n",
       "      <td>27544.0</td>\n",
       "      <td>8191.0</td>\n",
       "      <td>13251.0</td>\n",
       "      <td>19354.0</td>\n",
       "      <td>6100.0</td>\n",
       "      <td>134780.0</td>\n",
       "    </tr>\n",
       "    <tr>\n",
       "      <th>Not a visible minority</th>\n",
       "      <td>18710.0</td>\n",
       "      <td>5417.0</td>\n",
       "      <td>8473.0</td>\n",
       "      <td>13288.0</td>\n",
       "      <td>4815.0</td>\n",
       "      <td>102828.0</td>\n",
       "    </tr>\n",
       "    <tr>\n",
       "      <th>Not a visible minority nor Indigenous</th>\n",
       "      <td>17086.0</td>\n",
       "      <td>5058.0</td>\n",
       "      <td>7726.0</td>\n",
       "      <td>12031.0</td>\n",
       "      <td>4301.0</td>\n",
       "      <td>99349.0</td>\n",
       "    </tr>\n",
       "    <tr>\n",
       "      <th>Males, 18 to 64 years</th>\n",
       "      <td>17949.0</td>\n",
       "      <td>5112.0</td>\n",
       "      <td>8380.0</td>\n",
       "      <td>12843.0</td>\n",
       "      <td>4443.0</td>\n",
       "      <td>86770.0</td>\n",
       "    </tr>\n",
       "    <tr>\n",
       "      <th>Females, 18 to 64 years</th>\n",
       "      <td>19103.0</td>\n",
       "      <td>5499.0</td>\n",
       "      <td>9064.0</td>\n",
       "      <td>13602.0</td>\n",
       "      <td>4539.0</td>\n",
       "      <td>85167.0</td>\n",
       "    </tr>\n",
       "    <tr>\n",
       "      <th>Immigrants aged 16 years and over</th>\n",
       "      <td>13633.0</td>\n",
       "      <td>4436.0</td>\n",
       "      <td>6917.0</td>\n",
       "      <td>9115.0</td>\n",
       "      <td>2059.0</td>\n",
       "      <td>59234.0</td>\n",
       "    </tr>\n",
       "    <tr>\n",
       "      <th>Persons 65 years and over</th>\n",
       "      <td>5215.0</td>\n",
       "      <td>1893.0</td>\n",
       "      <td>2400.0</td>\n",
       "      <td>3314.0</td>\n",
       "      <td>855.0</td>\n",
       "      <td>52941.0</td>\n",
       "    </tr>\n",
       "    <tr>\n",
       "      <th>Persons under 18 years</th>\n",
       "      <td>14113.0</td>\n",
       "      <td>4502.0</td>\n",
       "      <td>7106.0</td>\n",
       "      <td>9605.0</td>\n",
       "      <td>2449.0</td>\n",
       "      <td>50497.0</td>\n",
       "    </tr>\n",
       "    <tr>\n",
       "      <th>Persons 55 to 64 years</th>\n",
       "      <td>6531.0</td>\n",
       "      <td>1758.0</td>\n",
       "      <td>2985.0</td>\n",
       "      <td>4735.0</td>\n",
       "      <td>1726.0</td>\n",
       "      <td>39759.0</td>\n",
       "    </tr>\n",
       "    <tr>\n",
       "      <th>Persons 25 to 34 years</th>\n",
       "      <td>8633.0</td>\n",
       "      <td>2363.0</td>\n",
       "      <td>4073.0</td>\n",
       "      <td>6247.0</td>\n",
       "      <td>2133.0</td>\n",
       "      <td>37599.0</td>\n",
       "    </tr>\n",
       "    <tr>\n",
       "      <th>Persons 35 to 44 years</th>\n",
       "      <td>9000.0</td>\n",
       "      <td>2783.0</td>\n",
       "      <td>4251.0</td>\n",
       "      <td>6199.0</td>\n",
       "      <td>1915.0</td>\n",
       "      <td>35796.0</td>\n",
       "    </tr>\n",
       "    <tr>\n",
       "      <th>Visible minority population</th>\n",
       "      <td>10430.0</td>\n",
       "      <td>3089.0</td>\n",
       "      <td>5487.0</td>\n",
       "      <td>7277.0</td>\n",
       "      <td>1714.0</td>\n",
       "      <td>35434.0</td>\n",
       "    </tr>\n",
       "    <tr>\n",
       "      <th>Persons 45 to 54 years</th>\n",
       "      <td>7394.0</td>\n",
       "      <td>2028.0</td>\n",
       "      <td>3488.0</td>\n",
       "      <td>5349.0</td>\n",
       "      <td>1825.0</td>\n",
       "      <td>35195.0</td>\n",
       "    </tr>\n",
       "    <tr>\n",
       "      <th>Females, 65 years and over</th>\n",
       "      <td>2857.0</td>\n",
       "      <td>990.0</td>\n",
       "      <td>1309.0</td>\n",
       "      <td>1823.0</td>\n",
       "      <td>390.0</td>\n",
       "      <td>28170.0</td>\n",
       "    </tr>\n",
       "    <tr>\n",
       "      <th>Males, under 18 years</th>\n",
       "      <td>7273.0</td>\n",
       "      <td>2329.0</td>\n",
       "      <td>3648.0</td>\n",
       "      <td>4915.0</td>\n",
       "      <td>1205.0</td>\n",
       "      <td>25543.0</td>\n",
       "    </tr>\n",
       "    <tr>\n",
       "      <th>Females, under 18 years</th>\n",
       "      <td>6840.0</td>\n",
       "      <td>2121.0</td>\n",
       "      <td>3446.0</td>\n",
       "      <td>4692.0</td>\n",
       "      <td>1139.0</td>\n",
       "      <td>24957.0</td>\n",
       "    </tr>\n",
       "    <tr>\n",
       "      <th>Males, 65 years and over</th>\n",
       "      <td>2347.0</td>\n",
       "      <td>805.0</td>\n",
       "      <td>1025.0</td>\n",
       "      <td>1470.0</td>\n",
       "      <td>306.0</td>\n",
       "      <td>24770.0</td>\n",
       "    </tr>\n",
       "    <tr>\n",
       "      <th>Persons 18 to 24 years</th>\n",
       "      <td>5489.0</td>\n",
       "      <td>1411.0</td>\n",
       "      <td>2599.0</td>\n",
       "      <td>3896.0</td>\n",
       "      <td>1156.0</td>\n",
       "      <td>23595.0</td>\n",
       "    </tr>\n",
       "    <tr>\n",
       "      <th>Recent immigrants (10 years or less) aged 16 years and over</th>\n",
       "      <td>5484.0</td>\n",
       "      <td>1736.0</td>\n",
       "      <td>2689.0</td>\n",
       "      <td>3538.0</td>\n",
       "      <td>455.0</td>\n",
       "      <td>16980.0</td>\n",
       "    </tr>\n",
       "    <tr>\n",
       "      <th>South Asian</th>\n",
       "      <td>2079.0</td>\n",
       "      <td>462.0</td>\n",
       "      <td>1127.0</td>\n",
       "      <td>1444.0</td>\n",
       "      <td>177.0</td>\n",
       "      <td>9495.0</td>\n",
       "    </tr>\n",
       "    <tr>\n",
       "      <th>Very recent immigrants (5 years or less) aged 16 years and over</th>\n",
       "      <td>2872.0</td>\n",
       "      <td>766.0</td>\n",
       "      <td>1260.0</td>\n",
       "      <td>1746.0</td>\n",
       "      <td>243.0</td>\n",
       "      <td>9448.0</td>\n",
       "    </tr>\n",
       "    <tr>\n",
       "      <th>Chinese</th>\n",
       "      <td>1332.0</td>\n",
       "      <td>327.0</td>\n",
       "      <td>600.0</td>\n",
       "      <td>875.0</td>\n",
       "      <td>163.0</td>\n",
       "      <td>7211.0</td>\n",
       "    </tr>\n",
       "    <tr>\n",
       "      <th>Indigenous population aged 16 years and over</th>\n",
       "      <td>2136.0</td>\n",
       "      <td>349.0</td>\n",
       "      <td>947.0</td>\n",
       "      <td>1662.0</td>\n",
       "      <td>666.0</td>\n",
       "      <td>5266.0</td>\n",
       "    </tr>\n",
       "    <tr>\n",
       "      <th>Black</th>\n",
       "      <td>1995.0</td>\n",
       "      <td>383.0</td>\n",
       "      <td>894.0</td>\n",
       "      <td>1450.0</td>\n",
       "      <td>343.0</td>\n",
       "      <td>4570.0</td>\n",
       "    </tr>\n",
       "    <tr>\n",
       "      <th>Other visible minority</th>\n",
       "      <td>872.0</td>\n",
       "      <td>194.0</td>\n",
       "      <td>433.0</td>\n",
       "      <td>580.0</td>\n",
       "      <td>NaN</td>\n",
       "      <td>3735.0</td>\n",
       "    </tr>\n",
       "    <tr>\n",
       "      <th>Filipino</th>\n",
       "      <td>1372.0</td>\n",
       "      <td>255.0</td>\n",
       "      <td>605.0</td>\n",
       "      <td>933.0</td>\n",
       "      <td>NaN</td>\n",
       "      <td>3628.0</td>\n",
       "    </tr>\n",
       "    <tr>\n",
       "      <th>Indigenous population</th>\n",
       "      <td>1617.0</td>\n",
       "      <td>278.0</td>\n",
       "      <td>716.0</td>\n",
       "      <td>1249.0</td>\n",
       "      <td>458.0</td>\n",
       "      <td>3475.0</td>\n",
       "    </tr>\n",
       "    <tr>\n",
       "      <th>Métis aged 16 years and over</th>\n",
       "      <td>927.0</td>\n",
       "      <td>132.0</td>\n",
       "      <td>317.0</td>\n",
       "      <td>703.0</td>\n",
       "      <td>229.0</td>\n",
       "      <td>2719.0</td>\n",
       "    </tr>\n",
       "    <tr>\n",
       "      <th>Arab</th>\n",
       "      <td>808.0</td>\n",
       "      <td>247.0</td>\n",
       "      <td>281.0</td>\n",
       "      <td>408.0</td>\n",
       "      <td>42.0</td>\n",
       "      <td>2550.0</td>\n",
       "    </tr>\n",
       "    <tr>\n",
       "      <th>First Nations aged 16 years and over</th>\n",
       "      <td>1059.0</td>\n",
       "      <td>115.0</td>\n",
       "      <td>463.0</td>\n",
       "      <td>838.0</td>\n",
       "      <td>257.0</td>\n",
       "      <td>2370.0</td>\n",
       "    </tr>\n",
       "    <tr>\n",
       "      <th>Latin American</th>\n",
       "      <td>565.0</td>\n",
       "      <td>70.0</td>\n",
       "      <td>233.0</td>\n",
       "      <td>347.0</td>\n",
       "      <td>67.0</td>\n",
       "      <td>1973.0</td>\n",
       "    </tr>\n",
       "    <tr>\n",
       "      <th>Southeast Asian</th>\n",
       "      <td>445.0</td>\n",
       "      <td>25.0</td>\n",
       "      <td>184.0</td>\n",
       "      <td>247.0</td>\n",
       "      <td>23.0</td>\n",
       "      <td>1917.0</td>\n",
       "    </tr>\n",
       "  </tbody>\n",
       "</table>\n",
       "</div>"
      ],
      "text/plain": [
       "Household food security status                      Food insecure  \\\n",
       "Demographic characteristics                                         \n",
       "All persons                                               56380.0   \n",
       "All persons aged 16 years and over                        43763.0   \n",
       "Non-Indigenous population aged 16 years and over          41603.0   \n",
       "Persons 18 to 64 years                                    37053.0   \n",
       "Persons aged 16 years and over born in Canada             28699.0   \n",
       "Females                                                   28802.0   \n",
       "Males                                                     27578.0   \n",
       "Non-Indigenous population                                 27544.0   \n",
       "Not a visible minority                                    18710.0   \n",
       "Not a visible minority nor Indigenous                     17086.0   \n",
       "Males, 18 to 64 years                                     17949.0   \n",
       "Females, 18 to 64 years                                   19103.0   \n",
       "Immigrants aged 16 years and over                         13633.0   \n",
       "Persons 65 years and over                                  5215.0   \n",
       "Persons under 18 years                                    14113.0   \n",
       "Persons 55 to 64 years                                     6531.0   \n",
       "Persons 25 to 34 years                                     8633.0   \n",
       "Persons 35 to 44 years                                     9000.0   \n",
       "Visible minority population                               10430.0   \n",
       "Persons 45 to 54 years                                     7394.0   \n",
       "Females, 65 years and over                                 2857.0   \n",
       "Males, under 18 years                                      7273.0   \n",
       "Females, under 18 years                                    6840.0   \n",
       "Males, 65 years and over                                   2347.0   \n",
       "Persons 18 to 24 years                                     5489.0   \n",
       "Recent immigrants (10 years or less) aged 16 ye...         5484.0   \n",
       "South Asian                                                2079.0   \n",
       "Very recent immigrants (5 years or less) aged 1...         2872.0   \n",
       "Chinese                                                    1332.0   \n",
       "Indigenous population aged 16 years and over               2136.0   \n",
       "Black                                                      1995.0   \n",
       "Other visible minority                                      872.0   \n",
       "Filipino                                                   1372.0   \n",
       "Indigenous population                                      1617.0   \n",
       "Métis aged 16 years and over                                927.0   \n",
       "Arab                                                        808.0   \n",
       "First Nations aged 16 years and over                       1059.0   \n",
       "Latin American                                              565.0   \n",
       "Southeast Asian                                             445.0   \n",
       "\n",
       "Household food security status                      Food insecure, marginal  \\\n",
       "Demographic characteristics                                                   \n",
       "All persons                                                         17021.0   \n",
       "All persons aged 16 years and over                                  12982.0   \n",
       "Non-Indigenous population aged 16 years and over                    12534.0   \n",
       "Persons 18 to 64 years                                              10614.0   \n",
       "Persons aged 16 years and over born in Canada                        8021.0   \n",
       "Females                                                              8680.0   \n",
       "Males                                                                8338.0   \n",
       "Non-Indigenous population                                            8191.0   \n",
       "Not a visible minority                                               5417.0   \n",
       "Not a visible minority nor Indigenous                                5058.0   \n",
       "Males, 18 to 64 years                                                5112.0   \n",
       "Females, 18 to 64 years                                              5499.0   \n",
       "Immigrants aged 16 years and over                                    4436.0   \n",
       "Persons 65 years and over                                            1893.0   \n",
       "Persons under 18 years                                               4502.0   \n",
       "Persons 55 to 64 years                                               1758.0   \n",
       "Persons 25 to 34 years                                               2363.0   \n",
       "Persons 35 to 44 years                                               2783.0   \n",
       "Visible minority population                                          3089.0   \n",
       "Persons 45 to 54 years                                               2028.0   \n",
       "Females, 65 years and over                                            990.0   \n",
       "Males, under 18 years                                                2329.0   \n",
       "Females, under 18 years                                              2121.0   \n",
       "Males, 65 years and over                                              805.0   \n",
       "Persons 18 to 24 years                                               1411.0   \n",
       "Recent immigrants (10 years or less) aged 16 ye...                   1736.0   \n",
       "South Asian                                                           462.0   \n",
       "Very recent immigrants (5 years or less) aged 1...                    766.0   \n",
       "Chinese                                                               327.0   \n",
       "Indigenous population aged 16 years and over                          349.0   \n",
       "Black                                                                 383.0   \n",
       "Other visible minority                                                194.0   \n",
       "Filipino                                                              255.0   \n",
       "Indigenous population                                                 278.0   \n",
       "Métis aged 16 years and over                                          132.0   \n",
       "Arab                                                                  247.0   \n",
       "First Nations aged 16 years and over                                  115.0   \n",
       "Latin American                                                         70.0   \n",
       "Southeast Asian                                                        25.0   \n",
       "\n",
       "Household food security status                      Food insecure, moderate  \\\n",
       "Demographic characteristics                                                   \n",
       "All persons                                                         26952.0   \n",
       "All persons aged 16 years and over                                  20598.0   \n",
       "Non-Indigenous population aged 16 years and over                    19611.0   \n",
       "Persons 18 to 64 years                                              17450.0   \n",
       "Persons aged 16 years and over born in Canada                       12921.0   \n",
       "Females                                                             13854.0   \n",
       "Males                                                               13094.0   \n",
       "Non-Indigenous population                                           13251.0   \n",
       "Not a visible minority                                               8473.0   \n",
       "Not a visible minority nor Indigenous                                7726.0   \n",
       "Males, 18 to 64 years                                                8380.0   \n",
       "Females, 18 to 64 years                                              9064.0   \n",
       "Immigrants aged 16 years and over                                    6917.0   \n",
       "Persons 65 years and over                                            2400.0   \n",
       "Persons under 18 years                                               7106.0   \n",
       "Persons 55 to 64 years                                               2985.0   \n",
       "Persons 25 to 34 years                                               4073.0   \n",
       "Persons 35 to 44 years                                               4251.0   \n",
       "Visible minority population                                          5487.0   \n",
       "Persons 45 to 54 years                                               3488.0   \n",
       "Females, 65 years and over                                           1309.0   \n",
       "Males, under 18 years                                                3648.0   \n",
       "Females, under 18 years                                              3446.0   \n",
       "Males, 65 years and over                                             1025.0   \n",
       "Persons 18 to 24 years                                               2599.0   \n",
       "Recent immigrants (10 years or less) aged 16 ye...                   2689.0   \n",
       "South Asian                                                          1127.0   \n",
       "Very recent immigrants (5 years or less) aged 1...                   1260.0   \n",
       "Chinese                                                               600.0   \n",
       "Indigenous population aged 16 years and over                          947.0   \n",
       "Black                                                                 894.0   \n",
       "Other visible minority                                                433.0   \n",
       "Filipino                                                              605.0   \n",
       "Indigenous population                                                 716.0   \n",
       "Métis aged 16 years and over                                          317.0   \n",
       "Arab                                                                  281.0   \n",
       "First Nations aged 16 years and over                                  463.0   \n",
       "Latin American                                                        233.0   \n",
       "Southeast Asian                                                       184.0   \n",
       "\n",
       "Household food security status                      Food insecure, moderate or severe  \\\n",
       "Demographic characteristics                                                             \n",
       "All persons                                                                   39362.0   \n",
       "All persons aged 16 years and over                                            30783.0   \n",
       "Non-Indigenous population aged 16 years and over                              29067.0   \n",
       "Persons 18 to 64 years                                                        26444.0   \n",
       "Persons aged 16 years and over born in Canada                                 20680.0   \n",
       "Females                                                                       20125.0   \n",
       "Males                                                                         19241.0   \n",
       "Non-Indigenous population                                                     19354.0   \n",
       "Not a visible minority                                                        13288.0   \n",
       "Not a visible minority nor Indigenous                                         12031.0   \n",
       "Males, 18 to 64 years                                                         12843.0   \n",
       "Females, 18 to 64 years                                                       13602.0   \n",
       "Immigrants aged 16 years and over                                              9115.0   \n",
       "Persons 65 years and over                                                      3314.0   \n",
       "Persons under 18 years                                                         9605.0   \n",
       "Persons 55 to 64 years                                                         4735.0   \n",
       "Persons 25 to 34 years                                                         6247.0   \n",
       "Persons 35 to 44 years                                                         6199.0   \n",
       "Visible minority population                                                    7277.0   \n",
       "Persons 45 to 54 years                                                         5349.0   \n",
       "Females, 65 years and over                                                     1823.0   \n",
       "Males, under 18 years                                                          4915.0   \n",
       "Females, under 18 years                                                        4692.0   \n",
       "Males, 65 years and over                                                       1470.0   \n",
       "Persons 18 to 24 years                                                         3896.0   \n",
       "Recent immigrants (10 years or less) aged 16 ye...                             3538.0   \n",
       "South Asian                                                                    1444.0   \n",
       "Very recent immigrants (5 years or less) aged 1...                             1746.0   \n",
       "Chinese                                                                         875.0   \n",
       "Indigenous population aged 16 years and over                                   1662.0   \n",
       "Black                                                                          1450.0   \n",
       "Other visible minority                                                          580.0   \n",
       "Filipino                                                                        933.0   \n",
       "Indigenous population                                                          1249.0   \n",
       "Métis aged 16 years and over                                                    703.0   \n",
       "Arab                                                                            408.0   \n",
       "First Nations aged 16 years and over                                            838.0   \n",
       "Latin American                                                                  347.0   \n",
       "Southeast Asian                                                                 247.0   \n",
       "\n",
       "Household food security status                      Food insecure, severe  \\\n",
       "Demographic characteristics                                                 \n",
       "All persons                                                       12412.0   \n",
       "All persons aged 16 years and over                                10191.0   \n",
       "Non-Indigenous population aged 16 years and over                   9460.0   \n",
       "Persons 18 to 64 years                                             8994.0   \n",
       "Persons aged 16 years and over born in Canada                      7761.0   \n",
       "Females                                                            6270.0   \n",
       "Males                                                              6146.0   \n",
       "Non-Indigenous population                                          6100.0   \n",
       "Not a visible minority                                             4815.0   \n",
       "Not a visible minority nor Indigenous                              4301.0   \n",
       "Males, 18 to 64 years                                              4443.0   \n",
       "Females, 18 to 64 years                                            4539.0   \n",
       "Immigrants aged 16 years and over                                  2059.0   \n",
       "Persons 65 years and over                                           855.0   \n",
       "Persons under 18 years                                             2449.0   \n",
       "Persons 55 to 64 years                                             1726.0   \n",
       "Persons 25 to 34 years                                             2133.0   \n",
       "Persons 35 to 44 years                                             1915.0   \n",
       "Visible minority population                                        1714.0   \n",
       "Persons 45 to 54 years                                             1825.0   \n",
       "Females, 65 years and over                                          390.0   \n",
       "Males, under 18 years                                              1205.0   \n",
       "Females, under 18 years                                            1139.0   \n",
       "Males, 65 years and over                                            306.0   \n",
       "Persons 18 to 24 years                                             1156.0   \n",
       "Recent immigrants (10 years or less) aged 16 ye...                  455.0   \n",
       "South Asian                                                         177.0   \n",
       "Very recent immigrants (5 years or less) aged 1...                  243.0   \n",
       "Chinese                                                             163.0   \n",
       "Indigenous population aged 16 years and over                        666.0   \n",
       "Black                                                               343.0   \n",
       "Other visible minority                                                NaN   \n",
       "Filipino                                                              NaN   \n",
       "Indigenous population                                               458.0   \n",
       "Métis aged 16 years and over                                        229.0   \n",
       "Arab                                                                 42.0   \n",
       "First Nations aged 16 years and over                                257.0   \n",
       "Latin American                                                       67.0   \n",
       "Southeast Asian                                                      23.0   \n",
       "\n",
       "Household food security status                      Food secure  \n",
       "Demographic characteristics                                      \n",
       "All persons                                            275378.0  \n",
       "All persons aged 16 years and over                     230552.0  \n",
       "Non-Indigenous population aged 16 years and over       225281.0  \n",
       "Persons 18 to 64 years                                 171941.0  \n",
       "Persons aged 16 years and over born in Canada          164807.0  \n",
       "Females                                                138285.0  \n",
       "Males                                                  137090.0  \n",
       "Non-Indigenous population                              134780.0  \n",
       "Not a visible minority                                 102828.0  \n",
       "Not a visible minority nor Indigenous                   99349.0  \n",
       "Males, 18 to 64 years                                   86770.0  \n",
       "Females, 18 to 64 years                                 85167.0  \n",
       "Immigrants aged 16 years and over                       59234.0  \n",
       "Persons 65 years and over                               52941.0  \n",
       "Persons under 18 years                                  50497.0  \n",
       "Persons 55 to 64 years                                  39759.0  \n",
       "Persons 25 to 34 years                                  37599.0  \n",
       "Persons 35 to 44 years                                  35796.0  \n",
       "Visible minority population                             35434.0  \n",
       "Persons 45 to 54 years                                  35195.0  \n",
       "Females, 65 years and over                              28170.0  \n",
       "Males, under 18 years                                   25543.0  \n",
       "Females, under 18 years                                 24957.0  \n",
       "Males, 65 years and over                                24770.0  \n",
       "Persons 18 to 24 years                                  23595.0  \n",
       "Recent immigrants (10 years or less) aged 16 ye...      16980.0  \n",
       "South Asian                                              9495.0  \n",
       "Very recent immigrants (5 years or less) aged 1...       9448.0  \n",
       "Chinese                                                  7211.0  \n",
       "Indigenous population aged 16 years and over             5266.0  \n",
       "Black                                                    4570.0  \n",
       "Other visible minority                                   3735.0  \n",
       "Filipino                                                 3628.0  \n",
       "Indigenous population                                    3475.0  \n",
       "Métis aged 16 years and over                             2719.0  \n",
       "Arab                                                     2550.0  \n",
       "First Nations aged 16 years and over                     2370.0  \n",
       "Latin American                                           1973.0  \n",
       "Southeast Asian                                          1917.0  "
      ]
     },
     "execution_count": 486,
     "metadata": {},
     "output_type": "execute_result"
    }
   ],
   "source": [
    "security_status_grp = food_df[food_df['UOM']=='Number'].groupby(['Household food security status', 'Demographic characteristics']).sum(numeric_only=True)[['VALUE']].unstack('Household food security status')\n",
    "security_status_grp = security_status_grp['VALUE']\n",
    "security_status_grp = security_status_grp.sort_values(['Food secure', 'Food insecure', 'Food insecure, marginal', 'Food insecure, moderate', 'Food insecure, moderate or severe', 'Food insecure, severe'], ascending=False)\n",
    "security_status_grp"
   ]
  },
  {
   "cell_type": "code",
   "execution_count": 487,
   "metadata": {},
   "outputs": [
    {
     "data": {
      "image/png": "[encoded data removed]",
      "text/plain": [
       "<Figure size 2000x1000 with 1 Axes>"
      ]
     },
     "metadata": {},
     "output_type": "display_data"
    }
   ],
   "source": [
    "security_status_grp.plot(kind='bar', stacked=True, figsize=(20,10), colormap='tab20')\n",
    "plt.xticks(rotation=45, ha='right')\n",
    "plt.ylabel('Number of People')\n",
    "plt.title('Household Food Security Status by Demographic Characteristics', loc='center')\n",
    "plt.tight_layout()"
   ]
  },
  {
   "cell_type": "code",
   "execution_count": 488,
   "metadata": {},
   "outputs": [
    {
     "data": {
      "application/vnd.plotly.v1+json": {
       "config": {
        "plotlyServerURL": "https://plot.ly"
       },
       "data": [
        {
         "name": "Food insecure",
         "type": "bar",
         "x": [
          "All persons",
          "All persons aged 16 years and over",
          "Non-Indigenous population aged 16 years and over",
          "Persons 18 to 64 years",
          "Persons aged 16 years and over born in Canada",
          "Females",
          "Males",
          "Non-Indigenous population",
          "Not a visible minority",
          "Not a visible minority nor Indigenous",
          "Males, 18 to 64 years",
          "Females, 18 to 64 years",
          "Immigrants aged 16 years and over",
          "Persons 65 years and over",
          "Persons under 18 years",
          "Persons 55 to 64 years",
          "Persons 25 to 34 years",
          "Persons 35 to 44 years",
          "Visible minority population",
          "Persons 45 to 54 years",
          "Females, 65 years and over",
          "Males, under 18 years",
          "Females, under 18 years",
          "Males, 65 years and over",
          "Persons 18 to 24 years",
          "Recent immigrants (10 years or less) aged 16 years and over",
          "South Asian",
          "Very recent immigrants (5 years or less) aged 16 years and over",
          "Chinese",
          "Indigenous population aged 16 years and over",
          "Black",
          "Other visible minority",
          "Filipino",
          "Indigenous population",
          "Métis aged 16 years and over",
          "Arab",
          "First Nations aged 16 years and over",
          "Latin American",
          "Southeast Asian"
         ],
         "y": [
          56380,
          43763,
          41603,
          37053,
          28699,
          28802,
          27578,
          27544,
          18710,
          17086,
          17949,
          19103,
          13633,
          5215,
          14113,
          6531,
          8633,
          9000,
          10430,
          7394,
          2857,
          7273,
          6840,
          2347,
          5489,
          5484,
          2079,
          2872,
          1332,
          2136,
          1995,
          872,
          1372,
          1617,
          927,
          808,
          1059,
          565,
          445
         ]
        },
        {
         "name": "Food insecure, marginal",
         "type": "bar",
         "x": [
          "All persons",
          "All persons aged 16 years and over",
          "Non-Indigenous population aged 16 years and over",
          "Persons 18 to 64 years",
          "Persons aged 16 years and over born in Canada",
          "Females",
          "Males",
          "Non-Indigenous population",
          "Not a visible minority",
          "Not a visible minority nor Indigenous",
          "Males, 18 to 64 years",
          "Females, 18 to 64 years",
          "Immigrants aged 16 years and over",
          "Persons 65 years and over",
          "Persons under 18 years",
          "Persons 55 to 64 years",
          "Persons 25 to 34 years",
          "Persons 35 to 44 years",
          "Visible minority population",
          "Persons 45 to 54 years",
          "Females, 65 years and over",
          "Males, under 18 years",
          "Females, under 18 years",
          "Males, 65 years and over",
          "Persons 18 to 24 years",
          "Recent immigrants (10 years or less) aged 16 years and over",
          "South Asian",
          "Very recent immigrants (5 years or less) aged 16 years and over",
          "Chinese",
          "Indigenous population aged 16 years and over",
          "Black",
          "Other visible minority",
          "Filipino",
          "Indigenous population",
          "Métis aged 16 years and over",
          "Arab",
          "First Nations aged 16 years and over",
          "Latin American",
          "Southeast Asian"
         ],
         "y": [
          17021,
          12982,
          12534,
          10614,
          8021,
          8680,
          8338,
          8191,
          5417,
          5058,
          5112,
          5499,
          4436,
          1893,
          4502,
          1758,
          2363,
          2783,
          3089,
          2028,
          990,
          2329,
          2121,
          805,
          1411,
          1736,
          462,
          766,
          327,
          349,
          383,
          194,
          255,
          278,
          132,
          247,
          115,
          70,
          25
         ]
        },
        {
         "name": "Food insecure, moderate",
         "type": "bar",
         "x": [
          "All persons",
          "All persons aged 16 years and over",
          "Non-Indigenous population aged 16 years and over",
          "Persons 18 to 64 years",
          "Persons aged 16 years and over born in Canada",
          "Females",
          "Males",
          "Non-Indigenous population",
          "Not a visible minority",
          "Not a visible minority nor Indigenous",
          "Males, 18 to 64 years",
          "Females, 18 to 64 years",
          "Immigrants aged 16 years and over",
          "Persons 65 years and over",
          "Persons under 18 years",
          "Persons 55 to 64 years",
          "Persons 25 to 34 years",
          "Persons 35 to 44 years",
          "Visible minority population",
          "Persons 45 to 54 years",
          "Females, 65 years and over",
          "Males, under 18 years",
          "Females, under 18 years",
          "Males, 65 years and over",
          "Persons 18 to 24 years",
          "Recent immigrants (10 years or less) aged 16 years and over",
          "South Asian",
          "Very recent immigrants (5 years or less) aged 16 years and over",
          "Chinese",
          "Indigenous population aged 16 years and over",
          "Black",
          "Other visible minority",
          "Filipino",
          "Indigenous population",
          "Métis aged 16 years and over",
          "Arab",
          "First Nations aged 16 years and over",
          "Latin American",
          "Southeast Asian"
         ],
         "y": [
          26952,
          20598,
          19611,
          17450,
          12921,
          13854,
          13094,
          13251,
          8473,
          7726,
          8380,
          9064,
          6917,
          2400,
          7106,
          2985,
          4073,
          4251,
          5487,
          3488,
          1309,
          3648,
          3446,
          1025,
          2599,
          2689,
          1127,
          1260,
          600,
          947,
          894,
          433,
          605,
          716,
          317,
          281,
          463,
          233,
          184
         ]
        },
        {
         "name": "Food insecure, moderate or severe",
         "type": "bar",
         "x": [
          "All persons",
          "All persons aged 16 years and over",
          "Non-Indigenous population aged 16 years and over",
          "Persons 18 to 64 years",
          "Persons aged 16 years and over born in Canada",
          "Females",
          "Males",
          "Non-Indigenous population",
          "Not a visible minority",
          "Not a visible minority nor Indigenous",
          "Males, 18 to 64 years",
          "Females, 18 to 64 years",
          "Immigrants aged 16 years and over",
          "Persons 65 years and over",
          "Persons under 18 years",
          "Persons 55 to 64 years",
          "Persons 25 to 34 years",
          "Persons 35 to 44 years",
          "Visible minority population",
          "Persons 45 to 54 years",
          "Females, 65 years and over",
          "Males, under 18 years",
          "Females, under 18 years",
          "Males, 65 years and over",
          "Persons 18 to 24 years",
          "Recent immigrants (10 years or less) aged 16 years and over",
          "South Asian",
          "Very recent immigrants (5 years or less) aged 16 years and over",
          "Chinese",
          "Indigenous population aged 16 years and over",
          "Black",
          "Other visible minority",
          "Filipino",
          "Indigenous population",
          "Métis aged 16 years and over",
          "Arab",
          "First Nations aged 16 years and over",
          "Latin American",
          "Southeast Asian"
         ],
         "y": [
          39362,
          30783,
          29067,
          26444,
          20680,
          20125,
          19241,
          19354,
          13288,
          12031,
          12843,
          13602,
          9115,
          3314,
          9605,
          4735,
          6247,
          6199,
          7277,
          5349,
          1823,
          4915,
          4692,
          1470,
          3896,
          3538,
          1444,
          1746,
          875,
          1662,
          1450,
          580,
          933,
          1249,
          703,
          408,
          838,
          347,
          247
         ]
        },
        {
         "name": "Food insecure, severe",
         "type": "bar",
         "x": [
          "All persons",
          "All persons aged 16 years and over",
          "Non-Indigenous population aged 16 years and over",
          "Persons 18 to 64 years",
          "Persons aged 16 years and over born in Canada",
          "Females",
          "Males",
          "Non-Indigenous population",
          "Not a visible minority",
          "Not a visible minority nor Indigenous",
          "Males, 18 to 64 years",
          "Females, 18 to 64 years",
          "Immigrants aged 16 years and over",
          "Persons 65 years and over",
          "Persons under 18 years",
          "Persons 55 to 64 years",
          "Persons 25 to 34 years",
          "Persons 35 to 44 years",
          "Visible minority population",
          "Persons 45 to 54 years",
          "Females, 65 years and over",
          "Males, under 18 years",
          "Females, under 18 years",
          "Males, 65 years and over",
          "Persons 18 to 24 years",
          "Recent immigrants (10 years or less) aged 16 years and over",
          "South Asian",
          "Very recent immigrants (5 years or less) aged 16 years and over",
          "Chinese",
          "Indigenous population aged 16 years and over",
          "Black",
          "Other visible minority",
          "Filipino",
          "Indigenous population",
          "Métis aged 16 years and over",
          "Arab",
          "First Nations aged 16 years and over",
          "Latin American",
          "Southeast Asian"
         ],
         "y": [
          12412,
          10191,
          9460,
          8994,
          7761,
          6270,
          6146,
          6100,
          4815,
          4301,
          4443,
          4539,
          2059,
          855,
          2449,
          1726,
          2133,
          1915,
          1714,
          1825,
          390,
          1205,
          1139,
          306,
          1156,
          455,
          177,
          243,
          163,
          666,
          343,
          null,
          null,
          458,
          229,
          42,
          257,
          67,
          23
         ]
        },
        {
         "name": "Food secure",
         "type": "bar",
         "x": [
          "All persons",
          "All persons aged 16 years and over",
          "Non-Indigenous population aged 16 years and over",
          "Persons 18 to 64 years",
          "Persons aged 16 years and over born in Canada",
          "Females",
          "Males",
          "Non-Indigenous population",
          "Not a visible minority",
          "Not a visible minority nor Indigenous",
          "Males, 18 to 64 years",
          "Females, 18 to 64 years",
          "Immigrants aged 16 years and over",
          "Persons 65 years and over",
          "Persons under 18 years",
          "Persons 55 to 64 years",
          "Persons 25 to 34 years",
          "Persons 35 to 44 years",
          "Visible minority population",
          "Persons 45 to 54 years",
          "Females, 65 years and over",
          "Males, under 18 years",
          "Females, under 18 years",
          "Males, 65 years and over",
          "Persons 18 to 24 years",
          "Recent immigrants (10 years or less) aged 16 years and over",
          "South Asian",
          "Very recent immigrants (5 years or less) aged 16 years and over",
          "Chinese",
          "Indigenous population aged 16 years and over",
          "Black",
          "Other visible minority",
          "Filipino",
          "Indigenous population",
          "Métis aged 16 years and over",
          "Arab",
          "First Nations aged 16 years and over",
          "Latin American",
          "Southeast Asian"
         ],
         "y": [
          275378,
          230552,
          225281,
          171941,
          164807,
          138285,
          137090,
          134780,
          102828,
          99349,
          86770,
          85167,
          59234,
          52941,
          50497,
          39759,
          37599,
          35796,
          35434,
          35195,
          28170,
          25543,
          24957,
          24770,
          23595,
          16980,
          9495,
          9448,
          7211,
          5266,
          4570,
          3735,
          3628,
          3475,
          2719,
          2550,
          2370,
          1973,
          1917
         ]
        }
       ],
       "layout": {
        "barmode": "stack",
        "height": 1000,
        "template": {
         "data": {
          "bar": [
           {
            "error_x": {
             "color": "#2a3f5f"
            },
            "error_y": {
             "color": "#2a3f5f"
            },
            "marker": {
             "line": {
              "color": "#E5ECF6",
              "width": 0.5
             },
             "pattern": {
              "fillmode": "overlay",
              "size": 10,
              "solidity": 0.2
             }
            },
            "type": "bar"
           }
          ],
          "barpolar": [
           {
            "marker": {
             "line": {
              "color": "#E5ECF6",
              "width": 0.5
             },
             "pattern": {
              "fillmode": "overlay",
              "size": 10,
              "solidity": 0.2
             }
            },
            "type": "barpolar"
           }
          ],
          "carpet": [
           {
            "aaxis": {
             "endlinecolor": "#2a3f5f",
             "gridcolor": "white",
             "linecolor": "white",
             "minorgridcolor": "white",
             "startlinecolor": "#2a3f5f"
            },
            "baxis": {
             "endlinecolor": "#2a3f5f",
             "gridcolor": "white",
             "linecolor": "white",
             "minorgridcolor": "white",
             "startlinecolor": "#2a3f5f"
            },
            "type": "carpet"
           }
          ],
          "choropleth": [
           {
            "colorbar": {
             "outlinewidth": 0,
             "ticks": ""
            },
            "type": "choropleth"
           }
          ],
          "contour": [
           {
            "colorbar": {
             "outlinewidth": 0,
             "ticks": ""
            },
            "colorscale": [
             [
              0,
              "#0d0887"
             ],
             [
              0.1111111111111111,
              "#46039f"
             ],
             [
              0.2222222222222222,
              "#7201a8"
             ],
             [
              0.3333333333333333,
              "#9c179e"
             ],
             [
              0.4444444444444444,
              "#bd3786"
             ],
             [
              0.5555555555555556,
              "#d8576b"
             ],
             [
              0.6666666666666666,
              "#ed7953"
             ],
             [
              0.7777777777777778,
              "#fb9f3a"
             ],
             [
              0.8888888888888888,
              "#fdca26"
             ],
             [
              1,
              "#f0f921"
             ]
            ],
            "type": "contour"
           }
          ],
          "contourcarpet": [
           {
            "colorbar": {
             "outlinewidth": 0,
             "ticks": ""
            },
            "type": "contourcarpet"
           }
          ],
          "heatmap": [
           {
            "colorbar": {
             "outlinewidth": 0,
             "ticks": ""
            },
            "colorscale": [
             [
              0,
              "#0d0887"
             ],
             [
              0.1111111111111111,
              "#46039f"
             ],
             [
              0.2222222222222222,
              "#7201a8"
             ],
             [
              0.3333333333333333,
              "#9c179e"
             ],
             [
              0.4444444444444444,
              "#bd3786"
             ],
             [
              0.5555555555555556,
              "#d8576b"
             ],
             [
              0.6666666666666666,
              "#ed7953"
             ],
             [
              0.7777777777777778,
              "#fb9f3a"
             ],
             [
              0.8888888888888888,
              "#fdca26"
             ],
             [
              1,
              "#f0f921"
             ]
            ],
            "type": "heatmap"
           }
          ],
          "heatmapgl": [
           {
            "colorbar": {
             "outlinewidth": 0,
             "ticks": ""
            },
            "colorscale": [
             [
              0,
              "#0d0887"
             ],
             [
              0.1111111111111111,
              "#46039f"
             ],
             [
              0.2222222222222222,
              "#7201a8"
             ],
             [
              0.3333333333333333,
              "#9c179e"
             ],
             [
              0.4444444444444444,
              "#bd3786"
             ],
             [
              0.5555555555555556,
              "#d8576b"
             ],
             [
              0.6666666666666666,
              "#ed7953"
             ],
             [
              0.7777777777777778,
              "#fb9f3a"
             ],
             [
              0.8888888888888888,
              "#fdca26"
             ],
             [
              1,
              "#f0f921"
             ]
            ],
            "type": "heatmapgl"
           }
          ],
          "histogram": [
           {
            "marker": {
             "pattern": {
              "fillmode": "overlay",
              "size": 10,
              "solidity": 0.2
             }
            },
            "type": "histogram"
           }
          ],
          "histogram2d": [
           {
            "colorbar": {
             "outlinewidth": 0,
             "ticks": ""
            },
            "colorscale": [
             [
              0,
              "#0d0887"
             ],
             [
              0.1111111111111111,
              "#46039f"
             ],
             [
              0.2222222222222222,
              "#7201a8"
             ],
             [
              0.3333333333333333,
              "#9c179e"
             ],
             [
              0.4444444444444444,
              "#bd3786"
             ],
             [
              0.5555555555555556,
              "#d8576b"
             ],
             [
              0.6666666666666666,
              "#ed7953"
             ],
             [
              0.7777777777777778,
              "#fb9f3a"
             ],
             [
              0.8888888888888888,
              "#fdca26"
             ],
             [
              1,
              "#f0f921"
             ]
            ],
            "type": "histogram2d"
           }
          ],
          "histogram2dcontour": [
           {
            "colorbar": {
             "outlinewidth": 0,
             "ticks": ""
            },
            "colorscale": [
             [
              0,
              "#0d0887"
             ],
             [
              0.1111111111111111,
              "#46039f"
             ],
             [
              0.2222222222222222,
              "#7201a8"
             ],
             [
              0.3333333333333333,
              "#9c179e"
             ],
             [
              0.4444444444444444,
              "#bd3786"
             ],
             [
              0.5555555555555556,
              "#d8576b"
             ],
             [
              0.6666666666666666,
              "#ed7953"
             ],
             [
              0.7777777777777778,
              "#fb9f3a"
             ],
             [
              0.8888888888888888,
              "#fdca26"
             ],
             [
              1,
              "#f0f921"
             ]
            ],
            "type": "histogram2dcontour"
           }
          ],
          "mesh3d": [
           {
            "colorbar": {
             "outlinewidth": 0,
             "ticks": ""
            },
            "type": "mesh3d"
           }
          ],
          "parcoords": [
           {
            "line": {
             "colorbar": {
              "outlinewidth": 0,
              "ticks": ""
             }
            },
            "type": "parcoords"
           }
          ],
          "pie": [
           {
            "automargin": true,
            "type": "pie"
           }
          ],
          "scatter": [
           {
            "fillpattern": {
             "fillmode": "overlay",
             "size": 10,
             "solidity": 0.2
            },
            "type": "scatter"
           }
          ],
          "scatter3d": [
           {
            "line": {
             "colorbar": {
              "outlinewidth": 0,
              "ticks": ""
             }
            },
            "marker": {
             "colorbar": {
              "outlinewidth": 0,
              "ticks": ""
             }
            },
            "type": "scatter3d"
           }
          ],
          "scattercarpet": [
           {
            "marker": {
             "colorbar": {
              "outlinewidth": 0,
              "ticks": ""
             }
            },
            "type": "scattercarpet"
           }
          ],
          "scattergeo": [
           {
            "marker": {
             "colorbar": {
              "outlinewidth": 0,
              "ticks": ""
             }
            },
            "type": "scattergeo"
           }
          ],
          "scattergl": [
           {
            "marker": {
             "colorbar": {
              "outlinewidth": 0,
              "ticks": ""
             }
            },
            "type": "scattergl"
           }
          ],
          "scattermapbox": [
           {
            "marker": {
             "colorbar": {
              "outlinewidth": 0,
              "ticks": ""
             }
            },
            "type": "scattermapbox"
           }
          ],
          "scatterpolar": [
           {
            "marker": {
             "colorbar": {
              "outlinewidth": 0,
              "ticks": ""
             }
            },
            "type": "scatterpolar"
           }
          ],
          "scatterpolargl": [
           {
            "marker": {
             "colorbar": {
              "outlinewidth": 0,
              "ticks": ""
             }
            },
            "type": "scatterpolargl"
           }
          ],
          "scatterternary": [
           {
            "marker": {
             "colorbar": {
              "outlinewidth": 0,
              "ticks": ""
             }
            },
            "type": "scatterternary"
           }
          ],
          "surface": [
           {
            "colorbar": {
             "outlinewidth": 0,
             "ticks": ""
            },
            "colorscale": [
             [
              0,
              "#0d0887"
             ],
             [
              0.1111111111111111,
              "#46039f"
             ],
             [
              0.2222222222222222,
              "#7201a8"
             ],
             [
              0.3333333333333333,
              "#9c179e"
             ],
             [
              0.4444444444444444,
              "#bd3786"
             ],
             [
              0.5555555555555556,
              "#d8576b"
             ],
             [
              0.6666666666666666,
              "#ed7953"
             ],
             [
              0.7777777777777778,
              "#fb9f3a"
             ],
             [
              0.8888888888888888,
              "#fdca26"
             ],
             [
              1,
              "#f0f921"
             ]
            ],
            "type": "surface"
           }
          ],
          "table": [
           {
            "cells": {
             "fill": {
              "color": "#EBF0F8"
             },
             "line": {
              "color": "white"
             }
            },
            "header": {
             "fill": {
              "color": "#C8D4E3"
             },
             "line": {
              "color": "white"
             }
            },
            "type": "table"
           }
          ]
         },
         "layout": {
          "annotationdefaults": {
           "arrowcolor": "#2a3f5f",
           "arrowhead": 0,
           "arrowwidth": 1
          },
          "autotypenumbers": "strict",
          "coloraxis": {
           "colorbar": {
            "outlinewidth": 0,
            "ticks": ""
           }
          },
          "colorscale": {
           "diverging": [
            [
             0,
             "#8e0152"
            ],
            [
             0.1,
             "#c51b7d"
            ],
            [
             0.2,
             "#de77ae"
            ],
            [
             0.3,
             "#f1b6da"
            ],
            [
             0.4,
             "#fde0ef"
            ],
            [
             0.5,
             "#f7f7f7"
            ],
            [
             0.6,
             "#e6f5d0"
            ],
            [
             0.7,
             "#b8e186"
            ],
            [
             0.8,
             "#7fbc41"
            ],
            [
             0.9,
             "#4d9221"
            ],
            [
             1,
             "#276419"
            ]
           ],
           "sequential": [
            [
             0,
             "#0d0887"
            ],
            [
             0.1111111111111111,
             "#46039f"
            ],
            [
             0.2222222222222222,
             "#7201a8"
            ],
            [
             0.3333333333333333,
             "#9c179e"
            ],
            [
             0.4444444444444444,
             "#bd3786"
            ],
            [
             0.5555555555555556,
             "#d8576b"
            ],
            [
             0.6666666666666666,
             "#ed7953"
            ],
            [
             0.7777777777777778,
             "#fb9f3a"
            ],
            [
             0.8888888888888888,
             "#fdca26"
            ],
            [
             1,
             "#f0f921"
            ]
           ],
           "sequentialminus": [
            [
             0,
             "#0d0887"
            ],
            [
             0.1111111111111111,
             "#46039f"
            ],
            [
             0.2222222222222222,
             "#7201a8"
            ],
            [
             0.3333333333333333,
             "#9c179e"
            ],
            [
             0.4444444444444444,
             "#bd3786"
            ],
            [
             0.5555555555555556,
             "#d8576b"
            ],
            [
             0.6666666666666666,
             "#ed7953"
            ],
            [
             0.7777777777777778,
             "#fb9f3a"
            ],
            [
             0.8888888888888888,
             "#fdca26"
            ],
            [
             1,
             "#f0f921"
            ]
           ]
          },
          "colorway": [
           "#636efa",
           "#EF553B",
           "#00cc96",
           "#ab63fa",
           "#FFA15A",
           "#19d3f3",
           "#FF6692",
           "#B6E880",
           "#FF97FF",
           "#FECB52"
          ],
          "font": {
           "color": "#2a3f5f"
          },
          "geo": {
           "bgcolor": "white",
           "lakecolor": "white",
           "landcolor": "#E5ECF6",
           "showlakes": true,
           "showland": true,
           "subunitcolor": "white"
          },
          "hoverlabel": {
           "align": "left"
          },
          "hovermode": "closest",
          "mapbox": {
           "style": "light"
          },
          "paper_bgcolor": "white",
          "plot_bgcolor": "#E5ECF6",
          "polar": {
           "angularaxis": {
            "gridcolor": "white",
            "linecolor": "white",
            "ticks": ""
           },
           "bgcolor": "#E5ECF6",
           "radialaxis": {
            "gridcolor": "white",
            "linecolor": "white",
            "ticks": ""
           }
          },
          "scene": {
           "xaxis": {
            "backgroundcolor": "#E5ECF6",
            "gridcolor": "white",
            "gridwidth": 2,
            "linecolor": "white",
            "showbackground": true,
            "ticks": "",
            "zerolinecolor": "white"
           },
           "yaxis": {
            "backgroundcolor": "#E5ECF6",
            "gridcolor": "white",
            "gridwidth": 2,
            "linecolor": "white",
            "showbackground": true,
            "ticks": "",
            "zerolinecolor": "white"
           },
           "zaxis": {
            "backgroundcolor": "#E5ECF6",
            "gridcolor": "white",
            "gridwidth": 2,
            "linecolor": "white",
            "showbackground": true,
            "ticks": "",
            "zerolinecolor": "white"
           }
          },
          "shapedefaults": {
           "line": {
            "color": "#2a3f5f"
           }
          },
          "ternary": {
           "aaxis": {
            "gridcolor": "white",
            "linecolor": "white",
            "ticks": ""
           },
           "baxis": {
            "gridcolor": "white",
            "linecolor": "white",
            "ticks": ""
           },
           "bgcolor": "#E5ECF6",
           "caxis": {
            "gridcolor": "white",
            "linecolor": "white",
            "ticks": ""
           }
          },
          "title": {
           "x": 0.05
          },
          "xaxis": {
           "automargin": true,
           "gridcolor": "white",
           "linecolor": "white",
           "ticks": "",
           "title": {
            "standoff": 15
           },
           "zerolinecolor": "white",
           "zerolinewidth": 2
          },
          "yaxis": {
           "automargin": true,
           "gridcolor": "white",
           "linecolor": "white",
           "ticks": "",
           "title": {
            "standoff": 15
           },
           "zerolinecolor": "white",
           "zerolinewidth": 2
          }
         }
        },
        "title": {
         "text": "Household Food Security Status by Demographic Characteristics"
        },
        "width": 2000,
        "xaxis": {
         "title": {
          "text": "Demographic Characteristics"
         }
        },
        "yaxis": {
         "title": {
          "text": "Number of People"
         }
        }
       }
      }
     },
     "metadata": {},
     "output_type": "display_data"
    }
   ],
   "source": [
    "x_labels = security_status_grp.index.tolist()\n",
    "categories = security_status_grp.columns\n",
    "y_values = [security_status_grp[category].tolist() for category in categories]\n",
    "\n",
    "fig = go.Figure()\n",
    "for i, category in enumerate(categories):\n",
    "    fig.add_trace(go.Bar(x=x_labels, y=y_values[i], name=category))\n",
    "\n",
    "fig.update_layout(\n",
    "    barmode='stack',\n",
    "    title='Household Food Security Status by Ethnicity',\n",
    "    xaxis_title='Demographic Characteristics',\n",
    "    yaxis_title='Number of People',\n",
    "    width=2000,\n",
    "    height=1000\n",
    ")\n",
    "\n",
    "fig.write_json('security_status_grp.json')\n",
    "    \n",
    "fig.show()"
   ]
  },
  {
   "cell_type": "code",
   "execution_count": 502,
   "metadata": {},
   "outputs": [
    {
     "data": {
      "application/vnd.plotly.v1+json": {
       "config": {
        "plotlyServerURL": "https://plot.ly"
       },
       "data": [
        {
         "name": "Food insecure",
         "type": "bar",
         "x": [
          "Persons 18 to 64 years",
          "Persons under 18 years",
          "Persons 65 years and over",
          "Persons 25 to 34 years",
          "Persons 35 to 44 years",
          "Persons 55 to 64 years",
          "Persons 45 to 54 years",
          "Persons 18 to 24 years"
         ],
         "y": [
          37053,
          14113,
          5215,
          8633,
          9000,
          6531,
          7394,
          5489
         ]
        },
        {
         "name": "Food insecure, marginal",
         "type": "bar",
         "x": [
          "Persons 18 to 64 years",
          "Persons under 18 years",
          "Persons 65 years and over",
          "Persons 25 to 34 years",
          "Persons 35 to 44 years",
          "Persons 55 to 64 years",
          "Persons 45 to 54 years",
          "Persons 18 to 24 years"
         ],
         "y": [
          10614,
          4502,
          1893,
          2363,
          2783,
          1758,
          2028,
          1411
         ]
        },
        {
         "name": "Food insecure, moderate",
         "type": "bar",
         "x": [
          "Persons 18 to 64 years",
          "Persons under 18 years",
          "Persons 65 years and over",
          "Persons 25 to 34 years",
          "Persons 35 to 44 years",
          "Persons 55 to 64 years",
          "Persons 45 to 54 years",
          "Persons 18 to 24 years"
         ],
         "y": [
          17450,
          7106,
          2400,
          4073,
          4251,
          2985,
          3488,
          2599
         ]
        },
        {
         "name": "Food insecure, moderate or severe",
         "type": "bar",
         "x": [
          "Persons 18 to 64 years",
          "Persons under 18 years",
          "Persons 65 years and over",
          "Persons 25 to 34 years",
          "Persons 35 to 44 years",
          "Persons 55 to 64 years",
          "Persons 45 to 54 years",
          "Persons 18 to 24 years"
         ],
         "y": [
          26444,
          9605,
          3314,
          6247,
          6199,
          4735,
          5349,
          3896
         ]
        },
        {
         "name": "Food insecure, severe",
         "type": "bar",
         "x": [
          "Persons 18 to 64 years",
          "Persons under 18 years",
          "Persons 65 years and over",
          "Persons 25 to 34 years",
          "Persons 35 to 44 years",
          "Persons 55 to 64 years",
          "Persons 45 to 54 years",
          "Persons 18 to 24 years"
         ],
         "y": [
          8994,
          2449,
          855,
          2133,
          1915,
          1726,
          1825,
          1156
         ]
        },
        {
         "name": "Food secure",
         "type": "bar",
         "x": [
          "Persons 18 to 64 years",
          "Persons under 18 years",
          "Persons 65 years and over",
          "Persons 25 to 34 years",
          "Persons 35 to 44 years",
          "Persons 55 to 64 years",
          "Persons 45 to 54 years",
          "Persons 18 to 24 years"
         ],
         "y": [
          171941,
          50497,
          52941,
          37599,
          35796,
          39759,
          35195,
          23595
         ]
        }
       ],
       "layout": {
        "barmode": "stack",
        "height": 600,
        "template": {
         "data": {
          "bar": [
           {
            "error_x": {
             "color": "#2a3f5f"
            },
            "error_y": {
             "color": "#2a3f5f"
            },
            "marker": {
             "line": {
              "color": "#E5ECF6",
              "width": 0.5
             },
             "pattern": {
              "fillmode": "overlay",
              "size": 10,
              "solidity": 0.2
             }
            },
            "type": "bar"
           }
          ],
          "barpolar": [
           {
            "marker": {
             "line": {
              "color": "#E5ECF6",
              "width": 0.5
             },
             "pattern": {
              "fillmode": "overlay",
              "size": 10,
              "solidity": 0.2
             }
            },
            "type": "barpolar"
           }
          ],
          "carpet": [
           {
            "aaxis": {
             "endlinecolor": "#2a3f5f",
             "gridcolor": "white",
             "linecolor": "white",
             "minorgridcolor": "white",
             "startlinecolor": "#2a3f5f"
            },
            "baxis": {
             "endlinecolor": "#2a3f5f",
             "gridcolor": "white",
             "linecolor": "white",
             "minorgridcolor": "white",
             "startlinecolor": "#2a3f5f"
            },
            "type": "carpet"
           }
          ],
          "choropleth": [
           {
            "colorbar": {
             "outlinewidth": 0,
             "ticks": ""
            },
            "type": "choropleth"
           }
          ],
          "contour": [
           {
            "colorbar": {
             "outlinewidth": 0,
             "ticks": ""
            },
            "colorscale": [
             [
              0,
              "#0d0887"
             ],
             [
              0.1111111111111111,
              "#46039f"
             ],
             [
              0.2222222222222222,
              "#7201a8"
             ],
             [
              0.3333333333333333,
              "#9c179e"
             ],
             [
              0.4444444444444444,
              "#bd3786"
             ],
             [
              0.5555555555555556,
              "#d8576b"
             ],
             [
              0.6666666666666666,
              "#ed7953"
             ],
             [
              0.7777777777777778,
              "#fb9f3a"
             ],
             [
              0.8888888888888888,
              "#fdca26"
             ],
             [
              1,
              "#f0f921"
             ]
            ],
            "type": "contour"
           }
          ],
          "contourcarpet": [
           {
            "colorbar": {
             "outlinewidth": 0,
             "ticks": ""
            },
            "type": "contourcarpet"
           }
          ],
          "heatmap": [
           {
            "colorbar": {
             "outlinewidth": 0,
             "ticks": ""
            },
            "colorscale": [
             [
              0,
              "#0d0887"
             ],
             [
              0.1111111111111111,
              "#46039f"
             ],
             [
              0.2222222222222222,
              "#7201a8"
             ],
             [
              0.3333333333333333,
              "#9c179e"
             ],
             [
              0.4444444444444444,
              "#bd3786"
             ],
             [
              0.5555555555555556,
              "#d8576b"
             ],
             [
              0.6666666666666666,
              "#ed7953"
             ],
             [
              0.7777777777777778,
              "#fb9f3a"
             ],
             [
              0.8888888888888888,
              "#fdca26"
             ],
             [
              1,
              "#f0f921"
             ]
            ],
            "type": "heatmap"
           }
          ],
          "heatmapgl": [
           {
            "colorbar": {
             "outlinewidth": 0,
             "ticks": ""
            },
            "colorscale": [
             [
              0,
              "#0d0887"
             ],
             [
              0.1111111111111111,
              "#46039f"
             ],
             [
              0.2222222222222222,
              "#7201a8"
             ],
             [
              0.3333333333333333,
              "#9c179e"
             ],
             [
              0.4444444444444444,
              "#bd3786"
             ],
             [
              0.5555555555555556,
              "#d8576b"
             ],
             [
              0.6666666666666666,
              "#ed7953"
             ],
             [
              0.7777777777777778,
              "#fb9f3a"
             ],
             [
              0.8888888888888888,
              "#fdca26"
             ],
             [
              1,
              "#f0f921"
             ]
            ],
            "type": "heatmapgl"
           }
          ],
          "histogram": [
           {
            "marker": {
             "pattern": {
              "fillmode": "overlay",
              "size": 10,
              "solidity": 0.2
             }
            },
            "type": "histogram"
           }
          ],
          "histogram2d": [
           {
            "colorbar": {
             "outlinewidth": 0,
             "ticks": ""
            },
            "colorscale": [
             [
              0,
              "#0d0887"
             ],
             [
              0.1111111111111111,
              "#46039f"
             ],
             [
              0.2222222222222222,
              "#7201a8"
             ],
             [
              0.3333333333333333,
              "#9c179e"
             ],
             [
              0.4444444444444444,
              "#bd3786"
             ],
             [
              0.5555555555555556,
              "#d8576b"
             ],
             [
              0.6666666666666666,
              "#ed7953"
             ],
             [
              0.7777777777777778,
              "#fb9f3a"
             ],
             [
              0.8888888888888888,
              "#fdca26"
             ],
             [
              1,
              "#f0f921"
             ]
            ],
            "type": "histogram2d"
           }
          ],
          "histogram2dcontour": [
           {
            "colorbar": {
             "outlinewidth": 0,
             "ticks": ""
            },
            "colorscale": [
             [
              0,
              "#0d0887"
             ],
             [
              0.1111111111111111,
              "#46039f"
             ],
             [
              0.2222222222222222,
              "#7201a8"
             ],
             [
              0.3333333333333333,
              "#9c179e"
             ],
             [
              0.4444444444444444,
              "#bd3786"
             ],
             [
              0.5555555555555556,
              "#d8576b"
             ],
             [
              0.6666666666666666,
              "#ed7953"
             ],
             [
              0.7777777777777778,
              "#fb9f3a"
             ],
             [
              0.8888888888888888,
              "#fdca26"
             ],
             [
              1,
              "#f0f921"
             ]
            ],
            "type": "histogram2dcontour"
           }
          ],
          "mesh3d": [
           {
            "colorbar": {
             "outlinewidth": 0,
             "ticks": ""
            },
            "type": "mesh3d"
           }
          ],
          "parcoords": [
           {
            "line": {
             "colorbar": {
              "outlinewidth": 0,
              "ticks": ""
             }
            },
            "type": "parcoords"
           }
          ],
          "pie": [
           {
            "automargin": true,
            "type": "pie"
           }
          ],
          "scatter": [
           {
            "fillpattern": {
             "fillmode": "overlay",
             "size": 10,
             "solidity": 0.2
            },
            "type": "scatter"
           }
          ],
          "scatter3d": [
           {
            "line": {
             "colorbar": {
              "outlinewidth": 0,
              "ticks": ""
             }
            },
            "marker": {
             "colorbar": {
              "outlinewidth": 0,
              "ticks": ""
             }
            },
            "type": "scatter3d"
           }
          ],
          "scattercarpet": [
           {
            "marker": {
             "colorbar": {
              "outlinewidth": 0,
              "ticks": ""
             }
            },
            "type": "scattercarpet"
           }
          ],
          "scattergeo": [
           {
            "marker": {
             "colorbar": {
              "outlinewidth": 0,
              "ticks": ""
             }
            },
            "type": "scattergeo"
           }
          ],
          "scattergl": [
           {
            "marker": {
             "colorbar": {
              "outlinewidth": 0,
              "ticks": ""
             }
            },
            "type": "scattergl"
           }
          ],
          "scattermapbox": [
           {
            "marker": {
             "colorbar": {
              "outlinewidth": 0,
              "ticks": ""
             }
            },
            "type": "scattermapbox"
           }
          ],
          "scatterpolar": [
           {
            "marker": {
             "colorbar": {
              "outlinewidth": 0,
              "ticks": ""
             }
            },
            "type": "scatterpolar"
           }
          ],
          "scatterpolargl": [
           {
            "marker": {
             "colorbar": {
              "outlinewidth": 0,
              "ticks": ""
             }
            },
            "type": "scatterpolargl"
           }
          ],
          "scatterternary": [
           {
            "marker": {
             "colorbar": {
              "outlinewidth": 0,
              "ticks": ""
             }
            },
            "type": "scatterternary"
           }
          ],
          "surface": [
           {
            "colorbar": {
             "outlinewidth": 0,
             "ticks": ""
            },
            "colorscale": [
             [
              0,
              "#0d0887"
             ],
             [
              0.1111111111111111,
              "#46039f"
             ],
             [
              0.2222222222222222,
              "#7201a8"
             ],
             [
              0.3333333333333333,
              "#9c179e"
             ],
             [
              0.4444444444444444,
              "#bd3786"
             ],
             [
              0.5555555555555556,
              "#d8576b"
             ],
             [
              0.6666666666666666,
              "#ed7953"
             ],
             [
              0.7777777777777778,
              "#fb9f3a"
             ],
             [
              0.8888888888888888,
              "#fdca26"
             ],
             [
              1,
              "#f0f921"
             ]
            ],
            "type": "surface"
           }
          ],
          "table": [
           {
            "cells": {
             "fill": {
              "color": "#EBF0F8"
             },
             "line": {
              "color": "white"
             }
            },
            "header": {
             "fill": {
              "color": "#C8D4E3"
             },
             "line": {
              "color": "white"
             }
            },
            "type": "table"
           }
          ]
         },
         "layout": {
          "annotationdefaults": {
           "arrowcolor": "#2a3f5f",
           "arrowhead": 0,
           "arrowwidth": 1
          },
          "autotypenumbers": "strict",
          "coloraxis": {
           "colorbar": {
            "outlinewidth": 0,
            "ticks": ""
           }
          },
          "colorscale": {
           "diverging": [
            [
             0,
             "#8e0152"
            ],
            [
             0.1,
             "#c51b7d"
            ],
            [
             0.2,
             "#de77ae"
            ],
            [
             0.3,
             "#f1b6da"
            ],
            [
             0.4,
             "#fde0ef"
            ],
            [
             0.5,
             "#f7f7f7"
            ],
            [
             0.6,
             "#e6f5d0"
            ],
            [
             0.7,
             "#b8e186"
            ],
            [
             0.8,
             "#7fbc41"
            ],
            [
             0.9,
             "#4d9221"
            ],
            [
             1,
             "#276419"
            ]
           ],
           "sequential": [
            [
             0,
             "#0d0887"
            ],
            [
             0.1111111111111111,
             "#46039f"
            ],
            [
             0.2222222222222222,
             "#7201a8"
            ],
            [
             0.3333333333333333,
             "#9c179e"
            ],
            [
             0.4444444444444444,
             "#bd3786"
            ],
            [
             0.5555555555555556,
             "#d8576b"
            ],
            [
             0.6666666666666666,
             "#ed7953"
            ],
            [
             0.7777777777777778,
             "#fb9f3a"
            ],
            [
             0.8888888888888888,
             "#fdca26"
            ],
            [
             1,
             "#f0f921"
            ]
           ],
           "sequentialminus": [
            [
             0,
             "#0d0887"
            ],
            [
             0.1111111111111111,
             "#46039f"
            ],
            [
             0.2222222222222222,
             "#7201a8"
            ],
            [
             0.3333333333333333,
             "#9c179e"
            ],
            [
             0.4444444444444444,
             "#bd3786"
            ],
            [
             0.5555555555555556,
             "#d8576b"
            ],
            [
             0.6666666666666666,
             "#ed7953"
            ],
            [
             0.7777777777777778,
             "#fb9f3a"
            ],
            [
             0.8888888888888888,
             "#fdca26"
            ],
            [
             1,
             "#f0f921"
            ]
           ]
          },
          "colorway": [
           "#636efa",
           "#EF553B",
           "#00cc96",
           "#ab63fa",
           "#FFA15A",
           "#19d3f3",
           "#FF6692",
           "#B6E880",
           "#FF97FF",
           "#FECB52"
          ],
          "font": {
           "color": "#2a3f5f"
          },
          "geo": {
           "bgcolor": "white",
           "lakecolor": "white",
           "landcolor": "#E5ECF6",
           "showlakes": true,
           "showland": true,
           "subunitcolor": "white"
          },
          "hoverlabel": {
           "align": "left"
          },
          "hovermode": "closest",
          "mapbox": {
           "style": "light"
          },
          "paper_bgcolor": "white",
          "plot_bgcolor": "#E5ECF6",
          "polar": {
           "angularaxis": {
            "gridcolor": "white",
            "linecolor": "white",
            "ticks": ""
           },
           "bgcolor": "#E5ECF6",
           "radialaxis": {
            "gridcolor": "white",
            "linecolor": "white",
            "ticks": ""
           }
          },
          "scene": {
           "xaxis": {
            "backgroundcolor": "#E5ECF6",
            "gridcolor": "white",
            "gridwidth": 2,
            "linecolor": "white",
            "showbackground": true,
            "ticks": "",
            "zerolinecolor": "white"
           },
           "yaxis": {
            "backgroundcolor": "#E5ECF6",
            "gridcolor": "white",
            "gridwidth": 2,
            "linecolor": "white",
            "showbackground": true,
            "ticks": "",
            "zerolinecolor": "white"
           },
           "zaxis": {
            "backgroundcolor": "#E5ECF6",
            "gridcolor": "white",
            "gridwidth": 2,
            "linecolor": "white",
            "showbackground": true,
            "ticks": "",
            "zerolinecolor": "white"
           }
          },
          "shapedefaults": {
           "line": {
            "color": "#2a3f5f"
           }
          },
          "ternary": {
           "aaxis": {
            "gridcolor": "white",
            "linecolor": "white",
            "ticks": ""
           },
           "baxis": {
            "gridcolor": "white",
            "linecolor": "white",
            "ticks": ""
           },
           "bgcolor": "#E5ECF6",
           "caxis": {
            "gridcolor": "white",
            "linecolor": "white",
            "ticks": ""
           }
          },
          "title": {
           "x": 0.05
          },
          "xaxis": {
           "automargin": true,
           "gridcolor": "white",
           "linecolor": "white",
           "ticks": "",
           "title": {
            "standoff": 15
           },
           "zerolinecolor": "white",
           "zerolinewidth": 2
          },
          "yaxis": {
           "automargin": true,
           "gridcolor": "white",
           "linecolor": "white",
           "ticks": "",
           "title": {
            "standoff": 15
           },
           "zerolinecolor": "white",
           "zerolinewidth": 2
          }
         }
        },
        "title": {
         "text": "Household Food Security Status by Age Group"
        },
        "width": 1000,
        "xaxis": {
         "title": {
          "text": "Demographic Characteristics"
         }
        },
        "yaxis": {
         "title": {
          "text": "Number of People"
         }
        }
       }
      }
     },
     "metadata": {},
     "output_type": "display_data"
    }
   ],
   "source": [
    "persons_df = food_df[food_df['Demographic characteristics'].apply(lambda row: 'Persons' in row and len(row.split(' ')) <= 5)]\n",
    "security_status_persons_grp = persons_df[persons_df['UOM']=='Number'].groupby(['Household food security status', 'Demographic characteristics']).sum(numeric_only=True)[['VALUE']].unstack('Household food security status')\n",
    "security_status_persons_grp = security_status_persons_grp['VALUE']\n",
    "security_status_persons_grp['total'] = security_status_persons_grp.T.sum()\n",
    "security_status_persons_grp = security_status_persons_grp.sort_values(['total'], ascending=False)\n",
    "security_status_persons_grp.drop(columns='total', inplace=True)\n",
    "\n",
    "x_labels = security_status_persons_grp.index.tolist()\n",
    "categories = security_status_persons_grp.columns\n",
    "y_values = [security_status_persons_grp[category].tolist() for category in categories]\n",
    "\n",
    "fig = go.Figure()\n",
    "for i, category in enumerate(categories):\n",
    "    fig.add_trace(go.Bar(x=x_labels, y=y_values[i], name=category))\n",
    "\n",
    "fig.update_layout(\n",
    "    barmode='stack',\n",
    "    title='Household Food Security Status by Age Group',\n",
    "    xaxis_title='Demographic Characteristics',\n",
    "    yaxis_title='Number of People',\n",
    "    width=1000,\n",
    "    height=600\n",
    ")\n",
    "\n",
    "fig.write_json('persons_grp.json')\n",
    "\n",
    "fig.show()"
   ]
  },
  {
   "cell_type": "code",
   "execution_count": 503,
   "metadata": {},
   "outputs": [
    {
     "data": {
      "application/vnd.plotly.v1+json": {
       "config": {
        "plotlyServerURL": "https://plot.ly"
       },
       "data": [
        {
         "name": "Food insecure",
         "type": "bar",
         "x": [
          "Females",
          "Males",
          "Females, 18 to 64 years",
          "Males, 18 to 64 years",
          "Males, under 18 years",
          "Females, under 18 years",
          "Females, 65 years and over",
          "Males, 65 years and over"
         ],
         "y": [
          28802,
          27578,
          19103,
          17949,
          7273,
          6840,
          2857,
          2347
         ]
        },
        {
         "name": "Food insecure, marginal",
         "type": "bar",
         "x": [
          "Females",
          "Males",
          "Females, 18 to 64 years",
          "Males, 18 to 64 years",
          "Males, under 18 years",
          "Females, under 18 years",
          "Females, 65 years and over",
          "Males, 65 years and over"
         ],
         "y": [
          8680,
          8338,
          5499,
          5112,
          2329,
          2121,
          990,
          805
         ]
        },
        {
         "name": "Food insecure, moderate",
         "type": "bar",
         "x": [
          "Females",
          "Males",
          "Females, 18 to 64 years",
          "Males, 18 to 64 years",
          "Males, under 18 years",
          "Females, under 18 years",
          "Females, 65 years and over",
          "Males, 65 years and over"
         ],
         "y": [
          13854,
          13094,
          9064,
          8380,
          3648,
          3446,
          1309,
          1025
         ]
        },
        {
         "name": "Food insecure, moderate or severe",
         "type": "bar",
         "x": [
          "Females",
          "Males",
          "Females, 18 to 64 years",
          "Males, 18 to 64 years",
          "Males, under 18 years",
          "Females, under 18 years",
          "Females, 65 years and over",
          "Males, 65 years and over"
         ],
         "y": [
          20125,
          19241,
          13602,
          12843,
          4915,
          4692,
          1823,
          1470
         ]
        },
        {
         "name": "Food insecure, severe",
         "type": "bar",
         "x": [
          "Females",
          "Males",
          "Females, 18 to 64 years",
          "Males, 18 to 64 years",
          "Males, under 18 years",
          "Females, under 18 years",
          "Females, 65 years and over",
          "Males, 65 years and over"
         ],
         "y": [
          6270,
          6146,
          4539,
          4443,
          1205,
          1139,
          390,
          306
         ]
        },
        {
         "name": "Food secure",
         "type": "bar",
         "x": [
          "Females",
          "Males",
          "Females, 18 to 64 years",
          "Males, 18 to 64 years",
          "Males, under 18 years",
          "Females, under 18 years",
          "Females, 65 years and over",
          "Males, 65 years and over"
         ],
         "y": [
          138285,
          137090,
          85167,
          86770,
          25543,
          24957,
          28170,
          24770
         ]
        }
       ],
       "layout": {
        "barmode": "stack",
        "height": 600,
        "template": {
         "data": {
          "bar": [
           {
            "error_x": {
             "color": "#2a3f5f"
            },
            "error_y": {
             "color": "#2a3f5f"
            },
            "marker": {
             "line": {
              "color": "#E5ECF6",
              "width": 0.5
             },
             "pattern": {
              "fillmode": "overlay",
              "size": 10,
              "solidity": 0.2
             }
            },
            "type": "bar"
           }
          ],
          "barpolar": [
           {
            "marker": {
             "line": {
              "color": "#E5ECF6",
              "width": 0.5
             },
             "pattern": {
              "fillmode": "overlay",
              "size": 10,
              "solidity": 0.2
             }
            },
            "type": "barpolar"
           }
          ],
          "carpet": [
           {
            "aaxis": {
             "endlinecolor": "#2a3f5f",
             "gridcolor": "white",
             "linecolor": "white",
             "minorgridcolor": "white",
             "startlinecolor": "#2a3f5f"
            },
            "baxis": {
             "endlinecolor": "#2a3f5f",
             "gridcolor": "white",
             "linecolor": "white",
             "minorgridcolor": "white",
             "startlinecolor": "#2a3f5f"
            },
            "type": "carpet"
           }
          ],
          "choropleth": [
           {
            "colorbar": {
             "outlinewidth": 0,
             "ticks": ""
            },
            "type": "choropleth"
           }
          ],
          "contour": [
           {
            "colorbar": {
             "outlinewidth": 0,
             "ticks": ""
            },
            "colorscale": [
             [
              0,
              "#0d0887"
             ],
             [
              0.1111111111111111,
              "#46039f"
             ],
             [
              0.2222222222222222,
              "#7201a8"
             ],
             [
              0.3333333333333333,
              "#9c179e"
             ],
             [
              0.4444444444444444,
              "#bd3786"
             ],
             [
              0.5555555555555556,
              "#d8576b"
             ],
             [
              0.6666666666666666,
              "#ed7953"
             ],
             [
              0.7777777777777778,
              "#fb9f3a"
             ],
             [
              0.8888888888888888,
              "#fdca26"
             ],
             [
              1,
              "#f0f921"
             ]
            ],
            "type": "contour"
           }
          ],
          "contourcarpet": [
           {
            "colorbar": {
             "outlinewidth": 0,
             "ticks": ""
            },
            "type": "contourcarpet"
           }
          ],
          "heatmap": [
           {
            "colorbar": {
             "outlinewidth": 0,
             "ticks": ""
            },
            "colorscale": [
             [
              0,
              "#0d0887"
             ],
             [
              0.1111111111111111,
              "#46039f"
             ],
             [
              0.2222222222222222,
              "#7201a8"
             ],
             [
              0.3333333333333333,
              "#9c179e"
             ],
             [
              0.4444444444444444,
              "#bd3786"
             ],
             [
              0.5555555555555556,
              "#d8576b"
             ],
             [
              0.6666666666666666,
              "#ed7953"
             ],
             [
              0.7777777777777778,
              "#fb9f3a"
             ],
             [
              0.8888888888888888,
              "#fdca26"
             ],
             [
              1,
              "#f0f921"
             ]
            ],
            "type": "heatmap"
           }
          ],
          "heatmapgl": [
           {
            "colorbar": {
             "outlinewidth": 0,
             "ticks": ""
            },
            "colorscale": [
             [
              0,
              "#0d0887"
             ],
             [
              0.1111111111111111,
              "#46039f"
             ],
             [
              0.2222222222222222,
              "#7201a8"
             ],
             [
              0.3333333333333333,
              "#9c179e"
             ],
             [
              0.4444444444444444,
              "#bd3786"
             ],
             [
              0.5555555555555556,
              "#d8576b"
             ],
             [
              0.6666666666666666,
              "#ed7953"
             ],
             [
              0.7777777777777778,
              "#fb9f3a"
             ],
             [
              0.8888888888888888,
              "#fdca26"
             ],
             [
              1,
              "#f0f921"
             ]
            ],
            "type": "heatmapgl"
           }
          ],
          "histogram": [
           {
            "marker": {
             "pattern": {
              "fillmode": "overlay",
              "size": 10,
              "solidity": 0.2
             }
            },
            "type": "histogram"
           }
          ],
          "histogram2d": [
           {
            "colorbar": {
             "outlinewidth": 0,
             "ticks": ""
            },
            "colorscale": [
             [
              0,
              "#0d0887"
             ],
             [
              0.1111111111111111,
              "#46039f"
             ],
             [
              0.2222222222222222,
              "#7201a8"
             ],
             [
              0.3333333333333333,
              "#9c179e"
             ],
             [
              0.4444444444444444,
              "#bd3786"
             ],
             [
              0.5555555555555556,
              "#d8576b"
             ],
             [
              0.6666666666666666,
              "#ed7953"
             ],
             [
              0.7777777777777778,
              "#fb9f3a"
             ],
             [
              0.8888888888888888,
              "#fdca26"
             ],
             [
              1,
              "#f0f921"
             ]
            ],
            "type": "histogram2d"
           }
          ],
          "histogram2dcontour": [
           {
            "colorbar": {
             "outlinewidth": 0,
             "ticks": ""
            },
            "colorscale": [
             [
              0,
              "#0d0887"
             ],
             [
              0.1111111111111111,
              "#46039f"
             ],
             [
              0.2222222222222222,
              "#7201a8"
             ],
             [
              0.3333333333333333,
              "#9c179e"
             ],
             [
              0.4444444444444444,
              "#bd3786"
             ],
             [
              0.5555555555555556,
              "#d8576b"
             ],
             [
              0.6666666666666666,
              "#ed7953"
             ],
             [
              0.7777777777777778,
              "#fb9f3a"
             ],
             [
              0.8888888888888888,
              "#fdca26"
             ],
             [
              1,
              "#f0f921"
             ]
            ],
            "type": "histogram2dcontour"
           }
          ],
          "mesh3d": [
           {
            "colorbar": {
             "outlinewidth": 0,
             "ticks": ""
            },
            "type": "mesh3d"
           }
          ],
          "parcoords": [
           {
            "line": {
             "colorbar": {
              "outlinewidth": 0,
              "ticks": ""
             }
            },
            "type": "parcoords"
           }
          ],
          "pie": [
           {
            "automargin": true,
            "type": "pie"
           }
          ],
          "scatter": [
           {
            "fillpattern": {
             "fillmode": "overlay",
             "size": 10,
             "solidity": 0.2
            },
            "type": "scatter"
           }
          ],
          "scatter3d": [
           {
            "line": {
             "colorbar": {
              "outlinewidth": 0,
              "ticks": ""
             }
            },
            "marker": {
             "colorbar": {
              "outlinewidth": 0,
              "ticks": ""
             }
            },
            "type": "scatter3d"
           }
          ],
          "scattercarpet": [
           {
            "marker": {
             "colorbar": {
              "outlinewidth": 0,
              "ticks": ""
             }
            },
            "type": "scattercarpet"
           }
          ],
          "scattergeo": [
           {
            "marker": {
             "colorbar": {
              "outlinewidth": 0,
              "ticks": ""
             }
            },
            "type": "scattergeo"
           }
          ],
          "scattergl": [
           {
            "marker": {
             "colorbar": {
              "outlinewidth": 0,
              "ticks": ""
             }
            },
            "type": "scattergl"
           }
          ],
          "scattermapbox": [
           {
            "marker": {
             "colorbar": {
              "outlinewidth": 0,
              "ticks": ""
             }
            },
            "type": "scattermapbox"
           }
          ],
          "scatterpolar": [
           {
            "marker": {
             "colorbar": {
              "outlinewidth": 0,
              "ticks": ""
             }
            },
            "type": "scatterpolar"
           }
          ],
          "scatterpolargl": [
           {
            "marker": {
             "colorbar": {
              "outlinewidth": 0,
              "ticks": ""
             }
            },
            "type": "scatterpolargl"
           }
          ],
          "scatterternary": [
           {
            "marker": {
             "colorbar": {
              "outlinewidth": 0,
              "ticks": ""
             }
            },
            "type": "scatterternary"
           }
          ],
          "surface": [
           {
            "colorbar": {
             "outlinewidth": 0,
             "ticks": ""
            },
            "colorscale": [
             [
              0,
              "#0d0887"
             ],
             [
              0.1111111111111111,
              "#46039f"
             ],
             [
              0.2222222222222222,
              "#7201a8"
             ],
             [
              0.3333333333333333,
              "#9c179e"
             ],
             [
              0.4444444444444444,
              "#bd3786"
             ],
             [
              0.5555555555555556,
              "#d8576b"
             ],
             [
              0.6666666666666666,
              "#ed7953"
             ],
             [
              0.7777777777777778,
              "#fb9f3a"
             ],
             [
              0.8888888888888888,
              "#fdca26"
             ],
             [
              1,
              "#f0f921"
             ]
            ],
            "type": "surface"
           }
          ],
          "table": [
           {
            "cells": {
             "fill": {
              "color": "#EBF0F8"
             },
             "line": {
              "color": "white"
             }
            },
            "header": {
             "fill": {
              "color": "#C8D4E3"
             },
             "line": {
              "color": "white"
             }
            },
            "type": "table"
           }
          ]
         },
         "layout": {
          "annotationdefaults": {
           "arrowcolor": "#2a3f5f",
           "arrowhead": 0,
           "arrowwidth": 1
          },
          "autotypenumbers": "strict",
          "coloraxis": {
           "colorbar": {
            "outlinewidth": 0,
            "ticks": ""
           }
          },
          "colorscale": {
           "diverging": [
            [
             0,
             "#8e0152"
            ],
            [
             0.1,
             "#c51b7d"
            ],
            [
             0.2,
             "#de77ae"
            ],
            [
             0.3,
             "#f1b6da"
            ],
            [
             0.4,
             "#fde0ef"
            ],
            [
             0.5,
             "#f7f7f7"
            ],
            [
             0.6,
             "#e6f5d0"
            ],
            [
             0.7,
             "#b8e186"
            ],
            [
             0.8,
             "#7fbc41"
            ],
            [
             0.9,
             "#4d9221"
            ],
            [
             1,
             "#276419"
            ]
           ],
           "sequential": [
            [
             0,
             "#0d0887"
            ],
            [
             0.1111111111111111,
             "#46039f"
            ],
            [
             0.2222222222222222,
             "#7201a8"
            ],
            [
             0.3333333333333333,
             "#9c179e"
            ],
            [
             0.4444444444444444,
             "#bd3786"
            ],
            [
             0.5555555555555556,
             "#d8576b"
            ],
            [
             0.6666666666666666,
             "#ed7953"
            ],
            [
             0.7777777777777778,
             "#fb9f3a"
            ],
            [
             0.8888888888888888,
             "#fdca26"
            ],
            [
             1,
             "#f0f921"
            ]
           ],
           "sequentialminus": [
            [
             0,
             "#0d0887"
            ],
            [
             0.1111111111111111,
             "#46039f"
            ],
            [
             0.2222222222222222,
             "#7201a8"
            ],
            [
             0.3333333333333333,
             "#9c179e"
            ],
            [
             0.4444444444444444,
             "#bd3786"
            ],
            [
             0.5555555555555556,
             "#d8576b"
            ],
            [
             0.6666666666666666,
             "#ed7953"
            ],
            [
             0.7777777777777778,
             "#fb9f3a"
            ],
            [
             0.8888888888888888,
             "#fdca26"
            ],
            [
             1,
             "#f0f921"
            ]
           ]
          },
          "colorway": [
           "#636efa",
           "#EF553B",
           "#00cc96",
           "#ab63fa",
           "#FFA15A",
           "#19d3f3",
           "#FF6692",
           "#B6E880",
           "#FF97FF",
           "#FECB52"
          ],
          "font": {
           "color": "#2a3f5f"
          },
          "geo": {
           "bgcolor": "white",
           "lakecolor": "white",
           "landcolor": "#E5ECF6",
           "showlakes": true,
           "showland": true,
           "subunitcolor": "white"
          },
          "hoverlabel": {
           "align": "left"
          },
          "hovermode": "closest",
          "mapbox": {
           "style": "light"
          },
          "paper_bgcolor": "white",
          "plot_bgcolor": "#E5ECF6",
          "polar": {
           "angularaxis": {
            "gridcolor": "white",
            "linecolor": "white",
            "ticks": ""
           },
           "bgcolor": "#E5ECF6",
           "radialaxis": {
            "gridcolor": "white",
            "linecolor": "white",
            "ticks": ""
           }
          },
          "scene": {
           "xaxis": {
            "backgroundcolor": "#E5ECF6",
            "gridcolor": "white",
            "gridwidth": 2,
            "linecolor": "white",
            "showbackground": true,
            "ticks": "",
            "zerolinecolor": "white"
           },
           "yaxis": {
            "backgroundcolor": "#E5ECF6",
            "gridcolor": "white",
            "gridwidth": 2,
            "linecolor": "white",
            "showbackground": true,
            "ticks": "",
            "zerolinecolor": "white"
           },
           "zaxis": {
            "backgroundcolor": "#E5ECF6",
            "gridcolor": "white",
            "gridwidth": 2,
            "linecolor": "white",
            "showbackground": true,
            "ticks": "",
            "zerolinecolor": "white"
           }
          },
          "shapedefaults": {
           "line": {
            "color": "#2a3f5f"
           }
          },
          "ternary": {
           "aaxis": {
            "gridcolor": "white",
            "linecolor": "white",
            "ticks": ""
           },
           "baxis": {
            "gridcolor": "white",
            "linecolor": "white",
            "ticks": ""
           },
           "bgcolor": "#E5ECF6",
           "caxis": {
            "gridcolor": "white",
            "linecolor": "white",
            "ticks": ""
           }
          },
          "title": {
           "x": 0.05
          },
          "xaxis": {
           "automargin": true,
           "gridcolor": "white",
           "linecolor": "white",
           "ticks": "",
           "title": {
            "standoff": 15
           },
           "zerolinecolor": "white",
           "zerolinewidth": 2
          },
          "yaxis": {
           "automargin": true,
           "gridcolor": "white",
           "linecolor": "white",
           "ticks": "",
           "title": {
            "standoff": 15
           },
           "zerolinecolor": "white",
           "zerolinewidth": 2
          }
         }
        },
        "title": {
         "text": "Household Food Security Status by Gender and Age"
        },
        "width": 1000,
        "xaxis": {
         "title": {
          "text": "Demographic Characteristics"
         }
        },
        "yaxis": {
         "title": {
          "text": "Number of People"
         }
        }
       }
      }
     },
     "metadata": {},
     "output_type": "display_data"
    }
   ],
   "source": [
    "persons_df = food_df[food_df['Demographic characteristics'].apply(lambda row: 'Males' in row or 'Females' in row)]\n",
    "security_status_persons_grp = persons_df[persons_df['UOM']=='Number'].groupby(['Household food security status', 'Demographic characteristics']).sum(numeric_only=True)[['VALUE']].unstack('Household food security status')\n",
    "security_status_persons_grp = security_status_persons_grp['VALUE']\n",
    "security_status_persons_grp['total'] = security_status_persons_grp.T.sum()\n",
    "security_status_persons_grp = security_status_persons_grp.sort_values(['total'], ascending=False)\n",
    "security_status_persons_grp.drop(columns='total', inplace=True)\n",
    "\n",
    "x_labels = security_status_persons_grp.index.tolist()\n",
    "categories = security_status_persons_grp.columns\n",
    "y_values = [security_status_persons_grp[category].tolist() for category in categories]\n",
    "\n",
    "fig = go.Figure()\n",
    "for i, category in enumerate(categories):\n",
    "    fig.add_trace(go.Bar(x=x_labels, y=y_values[i], name=category))\n",
    "\n",
    "fig.update_layout(\n",
    "    barmode='stack',\n",
    "    title='Household Food Security Status by Gender and Age',\n",
    "    xaxis_title='Demographic Characteristics',\n",
    "    yaxis_title='Number of People',\n",
    "    width=1000,\n",
    "    height=600\n",
    ")\n",
    "\n",
    "fig.write_json('gender_grp.json')\n",
    "\n",
    "fig.show()"
   ]
  },
  {
   "cell_type": "code",
   "execution_count": 513,
   "metadata": {},
   "outputs": [
    {
     "data": {
      "application/vnd.plotly.v1+json": {
       "config": {
        "plotlyServerURL": "https://plot.ly"
       },
       "data": [
        {
         "name": "Food insecure",
         "type": "bar",
         "x": [
          "Non-Indigenous population aged 16 years and over",
          "Non-Indigenous population",
          "Not a visible minority",
          "Not a visible minority nor Indigenous",
          "Immigrants aged 16 years and over",
          "Visible minority population",
          "Recent immigrants (10 years or less) aged 16 years and over",
          "Very recent immigrants (5 years or less) aged 16 years and over",
          "South Asian",
          "Indigenous population aged 16 years and over",
          "Chinese",
          "Black",
          "Indigenous population",
          "Filipino",
          "Other visible minority",
          "First Nations aged 16 years and over",
          "Métis aged 16 years and over",
          "Arab",
          "Latin American",
          "Southeast Asian"
         ],
         "y": [
          41603,
          27544,
          18710,
          17086,
          13633,
          10430,
          5484,
          2872,
          2079,
          2136,
          1332,
          1995,
          1617,
          1372,
          872,
          1059,
          927,
          808,
          565,
          445
         ]
        },
        {
         "name": "Food insecure, marginal",
         "type": "bar",
         "x": [
          "Non-Indigenous population aged 16 years and over",
          "Non-Indigenous population",
          "Not a visible minority",
          "Not a visible minority nor Indigenous",
          "Immigrants aged 16 years and over",
          "Visible minority population",
          "Recent immigrants (10 years or less) aged 16 years and over",
          "Very recent immigrants (5 years or less) aged 16 years and over",
          "South Asian",
          "Indigenous population aged 16 years and over",
          "Chinese",
          "Black",
          "Indigenous population",
          "Filipino",
          "Other visible minority",
          "First Nations aged 16 years and over",
          "Métis aged 16 years and over",
          "Arab",
          "Latin American",
          "Southeast Asian"
         ],
         "y": [
          12534,
          8191,
          5417,
          5058,
          4436,
          3089,
          1736,
          766,
          462,
          349,
          327,
          383,
          278,
          255,
          194,
          115,
          132,
          247,
          70,
          25
         ]
        },
        {
         "name": "Food insecure, moderate",
         "type": "bar",
         "x": [
          "Non-Indigenous population aged 16 years and over",
          "Non-Indigenous population",
          "Not a visible minority",
          "Not a visible minority nor Indigenous",
          "Immigrants aged 16 years and over",
          "Visible minority population",
          "Recent immigrants (10 years or less) aged 16 years and over",
          "Very recent immigrants (5 years or less) aged 16 years and over",
          "South Asian",
          "Indigenous population aged 16 years and over",
          "Chinese",
          "Black",
          "Indigenous population",
          "Filipino",
          "Other visible minority",
          "First Nations aged 16 years and over",
          "Métis aged 16 years and over",
          "Arab",
          "Latin American",
          "Southeast Asian"
         ],
         "y": [
          19611,
          13251,
          8473,
          7726,
          6917,
          5487,
          2689,
          1260,
          1127,
          947,
          600,
          894,
          716,
          605,
          433,
          463,
          317,
          281,
          233,
          184
         ]
        },
        {
         "name": "Food insecure, moderate or severe",
         "type": "bar",
         "x": [
          "Non-Indigenous population aged 16 years and over",
          "Non-Indigenous population",
          "Not a visible minority",
          "Not a visible minority nor Indigenous",
          "Immigrants aged 16 years and over",
          "Visible minority population",
          "Recent immigrants (10 years or less) aged 16 years and over",
          "Very recent immigrants (5 years or less) aged 16 years and over",
          "South Asian",
          "Indigenous population aged 16 years and over",
          "Chinese",
          "Black",
          "Indigenous population",
          "Filipino",
          "Other visible minority",
          "First Nations aged 16 years and over",
          "Métis aged 16 years and over",
          "Arab",
          "Latin American",
          "Southeast Asian"
         ],
         "y": [
          29067,
          19354,
          13288,
          12031,
          9115,
          7277,
          3538,
          1746,
          1444,
          1662,
          875,
          1450,
          1249,
          933,
          580,
          838,
          703,
          408,
          347,
          247
         ]
        },
        {
         "name": "Food insecure, severe",
         "type": "bar",
         "x": [
          "Non-Indigenous population aged 16 years and over",
          "Non-Indigenous population",
          "Not a visible minority",
          "Not a visible minority nor Indigenous",
          "Immigrants aged 16 years and over",
          "Visible minority population",
          "Recent immigrants (10 years or less) aged 16 years and over",
          "Very recent immigrants (5 years or less) aged 16 years and over",
          "South Asian",
          "Indigenous population aged 16 years and over",
          "Chinese",
          "Black",
          "Indigenous population",
          "Filipino",
          "Other visible minority",
          "First Nations aged 16 years and over",
          "Métis aged 16 years and over",
          "Arab",
          "Latin American",
          "Southeast Asian"
         ],
         "y": [
          9460,
          6100,
          4815,
          4301,
          2059,
          1714,
          455,
          243,
          177,
          666,
          163,
          343,
          458,
          null,
          null,
          257,
          229,
          42,
          67,
          23
         ]
        },
        {
         "name": "Food secure",
         "type": "bar",
         "x": [
          "Non-Indigenous population aged 16 years and over",
          "Non-Indigenous population",
          "Not a visible minority",
          "Not a visible minority nor Indigenous",
          "Immigrants aged 16 years and over",
          "Visible minority population",
          "Recent immigrants (10 years or less) aged 16 years and over",
          "Very recent immigrants (5 years or less) aged 16 years and over",
          "South Asian",
          "Indigenous population aged 16 years and over",
          "Chinese",
          "Black",
          "Indigenous population",
          "Filipino",
          "Other visible minority",
          "First Nations aged 16 years and over",
          "Métis aged 16 years and over",
          "Arab",
          "Latin American",
          "Southeast Asian"
         ],
         "y": [
          225281,
          134780,
          102828,
          99349,
          59234,
          35434,
          16980,
          9448,
          9495,
          5266,
          7211,
          4570,
          3475,
          3628,
          3735,
          2370,
          2719,
          2550,
          1973,
          1917
         ]
        }
       ],
       "layout": {
        "barmode": "stack",
        "height": 800,
        "template": {
         "data": {
          "bar": [
           {
            "error_x": {
             "color": "#2a3f5f"
            },
            "error_y": {
             "color": "#2a3f5f"
            },
            "marker": {
             "line": {
              "color": "#E5ECF6",
              "width": 0.5
             },
             "pattern": {
              "fillmode": "overlay",
              "size": 10,
              "solidity": 0.2
             }
            },
            "type": "bar"
           }
          ],
          "barpolar": [
           {
            "marker": {
             "line": {
              "color": "#E5ECF6",
              "width": 0.5
             },
             "pattern": {
              "fillmode": "overlay",
              "size": 10,
              "solidity": 0.2
             }
            },
            "type": "barpolar"
           }
          ],
          "carpet": [
           {
            "aaxis": {
             "endlinecolor": "#2a3f5f",
             "gridcolor": "white",
             "linecolor": "white",
             "minorgridcolor": "white",
             "startlinecolor": "#2a3f5f"
            },
            "baxis": {
             "endlinecolor": "#2a3f5f",
             "gridcolor": "white",
             "linecolor": "white",
             "minorgridcolor": "white",
             "startlinecolor": "#2a3f5f"
            },
            "type": "carpet"
           }
          ],
          "choropleth": [
           {
            "colorbar": {
             "outlinewidth": 0,
             "ticks": ""
            },
            "type": "choropleth"
           }
          ],
          "contour": [
           {
            "colorbar": {
             "outlinewidth": 0,
             "ticks": ""
            },
            "colorscale": [
             [
              0,
              "#0d0887"
             ],
             [
              0.1111111111111111,
              "#46039f"
             ],
             [
              0.2222222222222222,
              "#7201a8"
             ],
             [
              0.3333333333333333,
              "#9c179e"
             ],
             [
              0.4444444444444444,
              "#bd3786"
             ],
             [
              0.5555555555555556,
              "#d8576b"
             ],
             [
              0.6666666666666666,
              "#ed7953"
             ],
             [
              0.7777777777777778,
              "#fb9f3a"
             ],
             [
              0.8888888888888888,
              "#fdca26"
             ],
             [
              1,
              "#f0f921"
             ]
            ],
            "type": "contour"
           }
          ],
          "contourcarpet": [
           {
            "colorbar": {
             "outlinewidth": 0,
             "ticks": ""
            },
            "type": "contourcarpet"
           }
          ],
          "heatmap": [
           {
            "colorbar": {
             "outlinewidth": 0,
             "ticks": ""
            },
            "colorscale": [
             [
              0,
              "#0d0887"
             ],
             [
              0.1111111111111111,
              "#46039f"
             ],
             [
              0.2222222222222222,
              "#7201a8"
             ],
             [
              0.3333333333333333,
              "#9c179e"
             ],
             [
              0.4444444444444444,
              "#bd3786"
             ],
             [
              0.5555555555555556,
              "#d8576b"
             ],
             [
              0.6666666666666666,
              "#ed7953"
             ],
             [
              0.7777777777777778,
              "#fb9f3a"
             ],
             [
              0.8888888888888888,
              "#fdca26"
             ],
             [
              1,
              "#f0f921"
             ]
            ],
            "type": "heatmap"
           }
          ],
          "heatmapgl": [
           {
            "colorbar": {
             "outlinewidth": 0,
             "ticks": ""
            },
            "colorscale": [
             [
              0,
              "#0d0887"
             ],
             [
              0.1111111111111111,
              "#46039f"
             ],
             [
              0.2222222222222222,
              "#7201a8"
             ],
             [
              0.3333333333333333,
              "#9c179e"
             ],
             [
              0.4444444444444444,
              "#bd3786"
             ],
             [
              0.5555555555555556,
              "#d8576b"
             ],
             [
              0.6666666666666666,
              "#ed7953"
             ],
             [
              0.7777777777777778,
              "#fb9f3a"
             ],
             [
              0.8888888888888888,
              "#fdca26"
             ],
             [
              1,
              "#f0f921"
             ]
            ],
            "type": "heatmapgl"
           }
          ],
          "histogram": [
           {
            "marker": {
             "pattern": {
              "fillmode": "overlay",
              "size": 10,
              "solidity": 0.2
             }
            },
            "type": "histogram"
           }
          ],
          "histogram2d": [
           {
            "colorbar": {
             "outlinewidth": 0,
             "ticks": ""
            },
            "colorscale": [
             [
              0,
              "#0d0887"
             ],
             [
              0.1111111111111111,
              "#46039f"
             ],
             [
              0.2222222222222222,
              "#7201a8"
             ],
             [
              0.3333333333333333,
              "#9c179e"
             ],
             [
              0.4444444444444444,
              "#bd3786"
             ],
             [
              0.5555555555555556,
              "#d8576b"
             ],
             [
              0.6666666666666666,
              "#ed7953"
             ],
             [
              0.7777777777777778,
              "#fb9f3a"
             ],
             [
              0.8888888888888888,
              "#fdca26"
             ],
             [
              1,
              "#f0f921"
             ]
            ],
            "type": "histogram2d"
           }
          ],
          "histogram2dcontour": [
           {
            "colorbar": {
             "outlinewidth": 0,
             "ticks": ""
            },
            "colorscale": [
             [
              0,
              "#0d0887"
             ],
             [
              0.1111111111111111,
              "#46039f"
             ],
             [
              0.2222222222222222,
              "#7201a8"
             ],
             [
              0.3333333333333333,
              "#9c179e"
             ],
             [
              0.4444444444444444,
              "#bd3786"
             ],
             [
              0.5555555555555556,
              "#d8576b"
             ],
             [
              0.6666666666666666,
              "#ed7953"
             ],
             [
              0.7777777777777778,
              "#fb9f3a"
             ],
             [
              0.8888888888888888,
              "#fdca26"
             ],
             [
              1,
              "#f0f921"
             ]
            ],
            "type": "histogram2dcontour"
           }
          ],
          "mesh3d": [
           {
            "colorbar": {
             "outlinewidth": 0,
             "ticks": ""
            },
            "type": "mesh3d"
           }
          ],
          "parcoords": [
           {
            "line": {
             "colorbar": {
              "outlinewidth": 0,
              "ticks": ""
             }
            },
            "type": "parcoords"
           }
          ],
          "pie": [
           {
            "automargin": true,
            "type": "pie"
           }
          ],
          "scatter": [
           {
            "fillpattern": {
             "fillmode": "overlay",
             "size": 10,
             "solidity": 0.2
            },
            "type": "scatter"
           }
          ],
          "scatter3d": [
           {
            "line": {
             "colorbar": {
              "outlinewidth": 0,
              "ticks": ""
             }
            },
            "marker": {
             "colorbar": {
              "outlinewidth": 0,
              "ticks": ""
             }
            },
            "type": "scatter3d"
           }
          ],
          "scattercarpet": [
           {
            "marker": {
             "colorbar": {
              "outlinewidth": 0,
              "ticks": ""
             }
            },
            "type": "scattercarpet"
           }
          ],
          "scattergeo": [
           {
            "marker": {
             "colorbar": {
              "outlinewidth": 0,
              "ticks": ""
             }
            },
            "type": "scattergeo"
           }
          ],
          "scattergl": [
           {
            "marker": {
             "colorbar": {
              "outlinewidth": 0,
              "ticks": ""
             }
            },
            "type": "scattergl"
           }
          ],
          "scattermapbox": [
           {
            "marker": {
             "colorbar": {
              "outlinewidth": 0,
              "ticks": ""
             }
            },
            "type": "scattermapbox"
           }
          ],
          "scatterpolar": [
           {
            "marker": {
             "colorbar": {
              "outlinewidth": 0,
              "ticks": ""
             }
            },
            "type": "scatterpolar"
           }
          ],
          "scatterpolargl": [
           {
            "marker": {
             "colorbar": {
              "outlinewidth": 0,
              "ticks": ""
             }
            },
            "type": "scatterpolargl"
           }
          ],
          "scatterternary": [
           {
            "marker": {
             "colorbar": {
              "outlinewidth": 0,
              "ticks": ""
             }
            },
            "type": "scatterternary"
           }
          ],
          "surface": [
           {
            "colorbar": {
             "outlinewidth": 0,
             "ticks": ""
            },
            "colorscale": [
             [
              0,
              "#0d0887"
             ],
             [
              0.1111111111111111,
              "#46039f"
             ],
             [
              0.2222222222222222,
              "#7201a8"
             ],
             [
              0.3333333333333333,
              "#9c179e"
             ],
             [
              0.4444444444444444,
              "#bd3786"
             ],
             [
              0.5555555555555556,
              "#d8576b"
             ],
             [
              0.6666666666666666,
              "#ed7953"
             ],
             [
              0.7777777777777778,
              "#fb9f3a"
             ],
             [
              0.8888888888888888,
              "#fdca26"
             ],
             [
              1,
              "#f0f921"
             ]
            ],
            "type": "surface"
           }
          ],
          "table": [
           {
            "cells": {
             "fill": {
              "color": "#EBF0F8"
             },
             "line": {
              "color": "white"
             }
            },
            "header": {
             "fill": {
              "color": "#C8D4E3"
             },
             "line": {
              "color": "white"
             }
            },
            "type": "table"
           }
          ]
         },
         "layout": {
          "annotationdefaults": {
           "arrowcolor": "#2a3f5f",
           "arrowhead": 0,
           "arrowwidth": 1
          },
          "autotypenumbers": "strict",
          "coloraxis": {
           "colorbar": {
            "outlinewidth": 0,
            "ticks": ""
           }
          },
          "colorscale": {
           "diverging": [
            [
             0,
             "#8e0152"
            ],
            [
             0.1,
             "#c51b7d"
            ],
            [
             0.2,
             "#de77ae"
            ],
            [
             0.3,
             "#f1b6da"
            ],
            [
             0.4,
             "#fde0ef"
            ],
            [
             0.5,
             "#f7f7f7"
            ],
            [
             0.6,
             "#e6f5d0"
            ],
            [
             0.7,
             "#b8e186"
            ],
            [
             0.8,
             "#7fbc41"
            ],
            [
             0.9,
             "#4d9221"
            ],
            [
             1,
             "#276419"
            ]
           ],
           "sequential": [
            [
             0,
             "#0d0887"
            ],
            [
             0.1111111111111111,
             "#46039f"
            ],
            [
             0.2222222222222222,
             "#7201a8"
            ],
            [
             0.3333333333333333,
             "#9c179e"
            ],
            [
             0.4444444444444444,
             "#bd3786"
            ],
            [
             0.5555555555555556,
             "#d8576b"
            ],
            [
             0.6666666666666666,
             "#ed7953"
            ],
            [
             0.7777777777777778,
             "#fb9f3a"
            ],
            [
             0.8888888888888888,
             "#fdca26"
            ],
            [
             1,
             "#f0f921"
            ]
           ],
           "sequentialminus": [
            [
             0,
             "#0d0887"
            ],
            [
             0.1111111111111111,
             "#46039f"
            ],
            [
             0.2222222222222222,
             "#7201a8"
            ],
            [
             0.3333333333333333,
             "#9c179e"
            ],
            [
             0.4444444444444444,
             "#bd3786"
            ],
            [
             0.5555555555555556,
             "#d8576b"
            ],
            [
             0.6666666666666666,
             "#ed7953"
            ],
            [
             0.7777777777777778,
             "#fb9f3a"
            ],
            [
             0.8888888888888888,
             "#fdca26"
            ],
            [
             1,
             "#f0f921"
            ]
           ]
          },
          "colorway": [
           "#636efa",
           "#EF553B",
           "#00cc96",
           "#ab63fa",
           "#FFA15A",
           "#19d3f3",
           "#FF6692",
           "#B6E880",
           "#FF97FF",
           "#FECB52"
          ],
          "font": {
           "color": "#2a3f5f"
          },
          "geo": {
           "bgcolor": "white",
           "lakecolor": "white",
           "landcolor": "#E5ECF6",
           "showlakes": true,
           "showland": true,
           "subunitcolor": "white"
          },
          "hoverlabel": {
           "align": "left"
          },
          "hovermode": "closest",
          "mapbox": {
           "style": "light"
          },
          "paper_bgcolor": "white",
          "plot_bgcolor": "#E5ECF6",
          "polar": {
           "angularaxis": {
            "gridcolor": "white",
            "linecolor": "white",
            "ticks": ""
           },
           "bgcolor": "#E5ECF6",
           "radialaxis": {
            "gridcolor": "white",
            "linecolor": "white",
            "ticks": ""
           }
          },
          "scene": {
           "xaxis": {
            "backgroundcolor": "#E5ECF6",
            "gridcolor": "white",
            "gridwidth": 2,
            "linecolor": "white",
            "showbackground": true,
            "ticks": "",
            "zerolinecolor": "white"
           },
           "yaxis": {
            "backgroundcolor": "#E5ECF6",
            "gridcolor": "white",
            "gridwidth": 2,
            "linecolor": "white",
            "showbackground": true,
            "ticks": "",
            "zerolinecolor": "white"
           },
           "zaxis": {
            "backgroundcolor": "#E5ECF6",
            "gridcolor": "white",
            "gridwidth": 2,
            "linecolor": "white",
            "showbackground": true,
            "ticks": "",
            "zerolinecolor": "white"
           }
          },
          "shapedefaults": {
           "line": {
            "color": "#2a3f5f"
           }
          },
          "ternary": {
           "aaxis": {
            "gridcolor": "white",
            "linecolor": "white",
            "ticks": ""
           },
           "baxis": {
            "gridcolor": "white",
            "linecolor": "white",
            "ticks": ""
           },
           "bgcolor": "#E5ECF6",
           "caxis": {
            "gridcolor": "white",
            "linecolor": "white",
            "ticks": ""
           }
          },
          "title": {
           "x": 0.05
          },
          "xaxis": {
           "automargin": true,
           "gridcolor": "white",
           "linecolor": "white",
           "ticks": "",
           "title": {
            "standoff": 15
           },
           "zerolinecolor": "white",
           "zerolinewidth": 2
          },
          "yaxis": {
           "automargin": true,
           "gridcolor": "white",
           "linecolor": "white",
           "ticks": "",
           "title": {
            "standoff": 15
           },
           "zerolinecolor": "white",
           "zerolinewidth": 2
          }
         }
        },
        "title": {
         "text": "Household Food Security Status by Ethnicity"
        },
        "width": 1000,
        "xaxis": {
         "title": {
          "text": "Demographic Characteristics"
         }
        },
        "yaxis": {
         "title": {
          "text": "Number of People"
         }
        }
       }
      }
     },
     "metadata": {},
     "output_type": "display_data"
    }
   ],
   "source": [
    "persons_df = food_df[food_df['Demographic characteristics'].apply(lambda row: 'Males' not in row and 'Females' not in row and ('persons' not in row.lower()))]\n",
    "security_status_persons_grp = persons_df[persons_df['UOM']=='Number'].groupby(['Household food security status', 'Demographic characteristics']).sum(numeric_only=True)[['VALUE']].unstack('Household food security status')\n",
    "security_status_persons_grp = security_status_persons_grp['VALUE']\n",
    "security_status_persons_grp['total'] = security_status_persons_grp.T.sum()\n",
    "security_status_persons_grp = security_status_persons_grp.sort_values(['total'], ascending=False)\n",
    "security_status_persons_grp.drop(columns='total', inplace=True)\n",
    "\n",
    "x_labels = security_status_persons_grp.index.tolist()\n",
    "categories = security_status_persons_grp.columns\n",
    "y_values = [security_status_persons_grp[category].tolist() for category in categories]\n",
    "\n",
    "fig = go.Figure()\n",
    "for i, category in enumerate(categories):\n",
    "    fig.add_trace(go.Bar(x=x_labels, y=y_values[i], name=category))\n",
    "\n",
    "fig.update_layout(\n",
    "    barmode='stack',\n",
    "    title='Household Food Security Status by Ethnicity',\n",
    "    xaxis_title='Demographic Characteristics',\n",
    "    yaxis_title='Number of People',\n",
    "    width=1000,\n",
    "    height=800\n",
    ")\n",
    "\n",
    "fig.write_json('ethnicity_grp.json')\n",
    "\n",
    "fig.show()"
   ]
  },
  {
   "cell_type": "code",
   "execution_count": 508,
   "metadata": {},
   "outputs": [
    {
     "data": {
      "application/vnd.plotly.v1+json": {
       "config": {
        "plotlyServerURL": "https://plot.ly"
       },
       "data": [
        {
         "name": "Food insecure",
         "type": "bar",
         "x": [
          "Males, 65 years and over",
          "Persons 65 years and over",
          "Females, 65 years and over",
          "Persons 55 to 64 years",
          "Chinese",
          "Not a visible minority nor Indigenous",
          "Persons aged 16 years and over born in Canada",
          "Southeast Asian",
          "Not a visible minority",
          "Non-Indigenous population aged 16 years and over",
          "All persons aged 16 years and over",
          "Males",
          "Non-Indigenous population",
          "All persons",
          "Other visible minority",
          "South Asian",
          "Males, 18 to 64 years",
          "Females",
          "Persons 45 to 54 years",
          "Persons 18 to 64 years",
          "Females, 18 to 64 years",
          "Immigrants aged 16 years and over",
          "Persons 18 to 24 years",
          "Persons 25 to 34 years",
          "Latin American",
          "Persons 35 to 44 years",
          "Arab",
          "Very recent immigrants (5 years or less) aged 16 years and over",
          "Females, under 18 years",
          "Persons under 18 years",
          "Males, under 18 years",
          "Visible minority population",
          "Recent immigrants (10 years or less) aged 16 years and over",
          "Métis aged 16 years and over",
          "Filipino",
          "Indigenous population aged 16 years and over",
          "Black",
          "First Nations aged 16 years and over",
          "Indigenous population"
         ],
         "y": [
          7.639,
          7.828,
          8.039,
          11.359,
          12.676,
          11.739,
          11.816,
          15.663,
          12.186,
          12.325,
          12.544,
          13.04,
          13.165,
          13.188,
          14.998,
          14.062,
          13.247,
          13.333,
          13.376,
          13.598,
          13.946,
          14.291,
          14.389,
          14.141,
          17.358,
          15.014,
          18.635,
          17.582,
          15.835,
          15.988,
          16.194,
          16.443,
          17.758,
          18.44,
          20.197,
          19.372,
          20.706,
          20.757,
          20.749
         ]
        },
        {
         "name": "Food insecure, marginal",
         "type": "bar",
         "x": [
          "Males, 65 years and over",
          "Persons 65 years and over",
          "Females, 65 years and over",
          "Persons 55 to 64 years",
          "Chinese",
          "Not a visible minority nor Indigenous",
          "Persons aged 16 years and over born in Canada",
          "Southeast Asian",
          "Not a visible minority",
          "Non-Indigenous population aged 16 years and over",
          "All persons aged 16 years and over",
          "Males",
          "Non-Indigenous population",
          "All persons",
          "Other visible minority",
          "South Asian",
          "Males, 18 to 64 years",
          "Females",
          "Persons 45 to 54 years",
          "Persons 18 to 64 years",
          "Females, 18 to 64 years",
          "Immigrants aged 16 years and over",
          "Persons 18 to 24 years",
          "Persons 25 to 34 years",
          "Latin American",
          "Persons 35 to 44 years",
          "Arab",
          "Very recent immigrants (5 years or less) aged 16 years and over",
          "Females, under 18 years",
          "Persons under 18 years",
          "Males, under 18 years",
          "Visible minority population",
          "Recent immigrants (10 years or less) aged 16 years and over",
          "Métis aged 16 years and over",
          "Filipino",
          "Indigenous population aged 16 years and over",
          "Black",
          "First Nations aged 16 years and over",
          "Indigenous population"
         ],
         "y": [
          2.62,
          2.842,
          2.786,
          3.058,
          3.112,
          3.475,
          3.302,
          0.88,
          3.528,
          3.713,
          3.721,
          3.943,
          3.915,
          3.981,
          3.337,
          3.125,
          3.773,
          4.018,
          3.669,
          3.895,
          4.015,
          4.65,
          3.699,
          3.871,
          2.151,
          4.643,
          5.696,
          4.689,
          4.91,
          5.1,
          5.186,
          4.87,
          5.621,
          2.626,
          3.754,
          3.165,
          3.975,
          2.254,
          3.567
         ]
        },
        {
         "name": "Food insecure, moderate",
         "type": "bar",
         "x": [
          "Males, 65 years and over",
          "Persons 65 years and over",
          "Females, 65 years and over",
          "Persons 55 to 64 years",
          "Chinese",
          "Not a visible minority nor Indigenous",
          "Persons aged 16 years and over born in Canada",
          "Southeast Asian",
          "Not a visible minority",
          "Non-Indigenous population aged 16 years and over",
          "All persons aged 16 years and over",
          "Males",
          "Non-Indigenous population",
          "All persons",
          "Other visible minority",
          "South Asian",
          "Males, 18 to 64 years",
          "Females",
          "Persons 45 to 54 years",
          "Persons 18 to 64 years",
          "Females, 18 to 64 years",
          "Immigrants aged 16 years and over",
          "Persons 18 to 24 years",
          "Persons 25 to 34 years",
          "Latin American",
          "Persons 35 to 44 years",
          "Arab",
          "Very recent immigrants (5 years or less) aged 16 years and over",
          "Females, under 18 years",
          "Persons under 18 years",
          "Males, under 18 years",
          "Visible minority population",
          "Recent immigrants (10 years or less) aged 16 years and over",
          "Métis aged 16 years and over",
          "Filipino",
          "Indigenous population aged 16 years and over",
          "Black",
          "First Nations aged 16 years and over",
          "Indigenous population"
         ],
         "y": [
          3.336,
          3.603,
          3.683,
          5.192,
          5.71,
          5.308,
          5.32,
          6.477,
          5.519,
          5.81,
          5.904,
          6.191,
          6.334,
          6.304,
          7.448,
          7.623,
          6.185,
          6.413,
          6.31,
          6.404,
          6.617,
          7.251,
          6.813,
          6.672,
          7.158,
          7.092,
          6.481,
          7.713,
          7.978,
          8.05,
          8.122,
          8.65,
          8.707,
          6.306,
          8.906,
          8.589,
          9.279,
          9.075,
          9.188
         ]
        },
        {
         "name": "Food insecure, moderate or severe",
         "type": "bar",
         "x": [
          "Males, 65 years and over",
          "Persons 65 years and over",
          "Females, 65 years and over",
          "Persons 55 to 64 years",
          "Chinese",
          "Not a visible minority nor Indigenous",
          "Persons aged 16 years and over born in Canada",
          "Southeast Asian",
          "Not a visible minority",
          "Non-Indigenous population aged 16 years and over",
          "All persons aged 16 years and over",
          "Males",
          "Non-Indigenous population",
          "All persons",
          "Other visible minority",
          "South Asian",
          "Males, 18 to 64 years",
          "Females",
          "Persons 45 to 54 years",
          "Persons 18 to 64 years",
          "Females, 18 to 64 years",
          "Immigrants aged 16 years and over",
          "Persons 18 to 24 years",
          "Persons 25 to 34 years",
          "Latin American",
          "Persons 35 to 44 years",
          "Arab",
          "Very recent immigrants (5 years or less) aged 16 years and over",
          "Females, under 18 years",
          "Persons under 18 years",
          "Males, under 18 years",
          "Visible minority population",
          "Recent immigrants (10 years or less) aged 16 years and over",
          "Métis aged 16 years and over",
          "Filipino",
          "Indigenous population aged 16 years and over",
          "Black",
          "First Nations aged 16 years and over",
          "Indigenous population"
         ],
         "y": [
          4.785,
          4.975,
          5.13,
          8.236,
          8.327,
          8.266,
          8.514,
          8.694,
          8.655,
          8.611,
          8.824,
          9.098,
          9.251,
          9.207,
          9.976,
          9.767,
          9.478,
          9.316,
          9.676,
          9.704,
          9.93,
          9.555,
          10.213,
          10.233,
          10.661,
          10.341,
          9.41,
          10.689,
          10.862,
          10.881,
          10.943,
          11.472,
          11.457,
          13.984,
          13.735,
          15.073,
          15.049,
          16.425,
          16.027
         ]
        },
        {
         "name": "Food insecure, severe",
         "type": "bar",
         "x": [
          "Males, 65 years and over",
          "Persons 65 years and over",
          "Females, 65 years and over",
          "Persons 55 to 64 years",
          "Chinese",
          "Not a visible minority nor Indigenous",
          "Persons aged 16 years and over born in Canada",
          "Southeast Asian",
          "Not a visible minority",
          "Non-Indigenous population aged 16 years and over",
          "All persons aged 16 years and over",
          "Males",
          "Non-Indigenous population",
          "All persons",
          "Other visible minority",
          "South Asian",
          "Males, 18 to 64 years",
          "Females",
          "Persons 45 to 54 years",
          "Persons 18 to 64 years",
          "Females, 18 to 64 years",
          "Immigrants aged 16 years and over",
          "Persons 18 to 24 years",
          "Persons 25 to 34 years",
          "Latin American",
          "Persons 35 to 44 years",
          "Arab",
          "Very recent immigrants (5 years or less) aged 16 years and over",
          "Females, under 18 years",
          "Persons under 18 years",
          "Males, under 18 years",
          "Visible minority population",
          "Recent immigrants (10 years or less) aged 16 years and over",
          "Métis aged 16 years and over",
          "Filipino",
          "Indigenous population aged 16 years and over",
          "Black",
          "First Nations aged 16 years and over",
          "Indigenous population"
         ],
         "y": [
          0.996,
          1.283,
          1.097,
          3.002,
          1.551,
          2.955,
          3.195,
          0.81,
          3.136,
          2.802,
          2.921,
          2.906,
          2.916,
          2.903,
          null,
          1.197,
          3.279,
          2.903,
          3.301,
          3.301,
          3.314,
          2.158,
          3.03,
          3.494,
          2.058,
          3.195,
          0.969,
          1.488,
          2.637,
          2.774,
          2.683,
          2.702,
          1.473,
          4.555,
          null,
          6.04,
          3.56,
          5.037,
          5.877
         ]
        },
        {
         "name": "Food secure",
         "type": "bar",
         "x": [
          "Males, 65 years and over",
          "Persons 65 years and over",
          "Females, 65 years and over",
          "Persons 55 to 64 years",
          "Chinese",
          "Not a visible minority nor Indigenous",
          "Persons aged 16 years and over born in Canada",
          "Southeast Asian",
          "Not a visible minority",
          "Non-Indigenous population aged 16 years and over",
          "All persons aged 16 years and over",
          "Males",
          "Non-Indigenous population",
          "All persons",
          "Other visible minority",
          "South Asian",
          "Males, 18 to 64 years",
          "Females",
          "Persons 45 to 54 years",
          "Persons 18 to 64 years",
          "Females, 18 to 64 years",
          "Immigrants aged 16 years and over",
          "Persons 18 to 24 years",
          "Persons 25 to 34 years",
          "Latin American",
          "Persons 35 to 44 years",
          "Arab",
          "Very recent immigrants (5 years or less) aged 16 years and over",
          "Females, under 18 years",
          "Persons under 18 years",
          "Males, under 18 years",
          "Visible minority population",
          "Recent immigrants (10 years or less) aged 16 years and over",
          "Métis aged 16 years and over",
          "Filipino",
          "Indigenous population aged 16 years and over",
          "Black",
          "First Nations aged 16 years and over",
          "Indigenous population"
         ],
         "y": [
          80.624,
          79.47,
          79.265,
          69.153,
          68.624,
          68.257,
          67.853,
          67.476,
          66.975,
          66.739,
          66.086,
          64.822,
          64.42,
          64.415,
          64.241,
          64.225,
          64.038,
          64.016,
          63.668,
          63.099,
          62.177,
          62.094,
          61.854,
          61.589,
          60.614,
          59.716,
          58.81,
          57.839,
          57.778,
          57.206,
          56.872,
          55.862,
          54.983,
          54.088,
          53.408,
          47.76,
          47.431,
          46.452,
          44.591
         ]
        }
       ],
       "layout": {
        "barmode": "stack",
        "height": 1000,
        "template": {
         "data": {
          "bar": [
           {
            "error_x": {
             "color": "#2a3f5f"
            },
            "error_y": {
             "color": "#2a3f5f"
            },
            "marker": {
             "line": {
              "color": "#E5ECF6",
              "width": 0.5
             },
             "pattern": {
              "fillmode": "overlay",
              "size": 10,
              "solidity": 0.2
             }
            },
            "type": "bar"
           }
          ],
          "barpolar": [
           {
            "marker": {
             "line": {
              "color": "#E5ECF6",
              "width": 0.5
             },
             "pattern": {
              "fillmode": "overlay",
              "size": 10,
              "solidity": 0.2
             }
            },
            "type": "barpolar"
           }
          ],
          "carpet": [
           {
            "aaxis": {
             "endlinecolor": "#2a3f5f",
             "gridcolor": "white",
             "linecolor": "white",
             "minorgridcolor": "white",
             "startlinecolor": "#2a3f5f"
            },
            "baxis": {
             "endlinecolor": "#2a3f5f",
             "gridcolor": "white",
             "linecolor": "white",
             "minorgridcolor": "white",
             "startlinecolor": "#2a3f5f"
            },
            "type": "carpet"
           }
          ],
          "choropleth": [
           {
            "colorbar": {
             "outlinewidth": 0,
             "ticks": ""
            },
            "type": "choropleth"
           }
          ],
          "contour": [
           {
            "colorbar": {
             "outlinewidth": 0,
             "ticks": ""
            },
            "colorscale": [
             [
              0,
              "#0d0887"
             ],
             [
              0.1111111111111111,
              "#46039f"
             ],
             [
              0.2222222222222222,
              "#7201a8"
             ],
             [
              0.3333333333333333,
              "#9c179e"
             ],
             [
              0.4444444444444444,
              "#bd3786"
             ],
             [
              0.5555555555555556,
              "#d8576b"
             ],
             [
              0.6666666666666666,
              "#ed7953"
             ],
             [
              0.7777777777777778,
              "#fb9f3a"
             ],
             [
              0.8888888888888888,
              "#fdca26"
             ],
             [
              1,
              "#f0f921"
             ]
            ],
            "type": "contour"
           }
          ],
          "contourcarpet": [
           {
            "colorbar": {
             "outlinewidth": 0,
             "ticks": ""
            },
            "type": "contourcarpet"
           }
          ],
          "heatmap": [
           {
            "colorbar": {
             "outlinewidth": 0,
             "ticks": ""
            },
            "colorscale": [
             [
              0,
              "#0d0887"
             ],
             [
              0.1111111111111111,
              "#46039f"
             ],
             [
              0.2222222222222222,
              "#7201a8"
             ],
             [
              0.3333333333333333,
              "#9c179e"
             ],
             [
              0.4444444444444444,
              "#bd3786"
             ],
             [
              0.5555555555555556,
              "#d8576b"
             ],
             [
              0.6666666666666666,
              "#ed7953"
             ],
             [
              0.7777777777777778,
              "#fb9f3a"
             ],
             [
              0.8888888888888888,
              "#fdca26"
             ],
             [
              1,
              "#f0f921"
             ]
            ],
            "type": "heatmap"
           }
          ],
          "heatmapgl": [
           {
            "colorbar": {
             "outlinewidth": 0,
             "ticks": ""
            },
            "colorscale": [
             [
              0,
              "#0d0887"
             ],
             [
              0.1111111111111111,
              "#46039f"
             ],
             [
              0.2222222222222222,
              "#7201a8"
             ],
             [
              0.3333333333333333,
              "#9c179e"
             ],
             [
              0.4444444444444444,
              "#bd3786"
             ],
             [
              0.5555555555555556,
              "#d8576b"
             ],
             [
              0.6666666666666666,
              "#ed7953"
             ],
             [
              0.7777777777777778,
              "#fb9f3a"
             ],
             [
              0.8888888888888888,
              "#fdca26"
             ],
             [
              1,
              "#f0f921"
             ]
            ],
            "type": "heatmapgl"
           }
          ],
          "histogram": [
           {
            "marker": {
             "pattern": {
              "fillmode": "overlay",
              "size": 10,
              "solidity": 0.2
             }
            },
            "type": "histogram"
           }
          ],
          "histogram2d": [
           {
            "colorbar": {
             "outlinewidth": 0,
             "ticks": ""
            },
            "colorscale": [
             [
              0,
              "#0d0887"
             ],
             [
              0.1111111111111111,
              "#46039f"
             ],
             [
              0.2222222222222222,
              "#7201a8"
             ],
             [
              0.3333333333333333,
              "#9c179e"
             ],
             [
              0.4444444444444444,
              "#bd3786"
             ],
             [
              0.5555555555555556,
              "#d8576b"
             ],
             [
              0.6666666666666666,
              "#ed7953"
             ],
             [
              0.7777777777777778,
              "#fb9f3a"
             ],
             [
              0.8888888888888888,
              "#fdca26"
             ],
             [
              1,
              "#f0f921"
             ]
            ],
            "type": "histogram2d"
           }
          ],
          "histogram2dcontour": [
           {
            "colorbar": {
             "outlinewidth": 0,
             "ticks": ""
            },
            "colorscale": [
             [
              0,
              "#0d0887"
             ],
             [
              0.1111111111111111,
              "#46039f"
             ],
             [
              0.2222222222222222,
              "#7201a8"
             ],
             [
              0.3333333333333333,
              "#9c179e"
             ],
             [
              0.4444444444444444,
              "#bd3786"
             ],
             [
              0.5555555555555556,
              "#d8576b"
             ],
             [
              0.6666666666666666,
              "#ed7953"
             ],
             [
              0.7777777777777778,
              "#fb9f3a"
             ],
             [
              0.8888888888888888,
              "#fdca26"
             ],
             [
              1,
              "#f0f921"
             ]
            ],
            "type": "histogram2dcontour"
           }
          ],
          "mesh3d": [
           {
            "colorbar": {
             "outlinewidth": 0,
             "ticks": ""
            },
            "type": "mesh3d"
           }
          ],
          "parcoords": [
           {
            "line": {
             "colorbar": {
              "outlinewidth": 0,
              "ticks": ""
             }
            },
            "type": "parcoords"
           }
          ],
          "pie": [
           {
            "automargin": true,
            "type": "pie"
           }
          ],
          "scatter": [
           {
            "fillpattern": {
             "fillmode": "overlay",
             "size": 10,
             "solidity": 0.2
            },
            "type": "scatter"
           }
          ],
          "scatter3d": [
           {
            "line": {
             "colorbar": {
              "outlinewidth": 0,
              "ticks": ""
             }
            },
            "marker": {
             "colorbar": {
              "outlinewidth": 0,
              "ticks": ""
             }
            },
            "type": "scatter3d"
           }
          ],
          "scattercarpet": [
           {
            "marker": {
             "colorbar": {
              "outlinewidth": 0,
              "ticks": ""
             }
            },
            "type": "scattercarpet"
           }
          ],
          "scattergeo": [
           {
            "marker": {
             "colorbar": {
              "outlinewidth": 0,
              "ticks": ""
             }
            },
            "type": "scattergeo"
           }
          ],
          "scattergl": [
           {
            "marker": {
             "colorbar": {
              "outlinewidth": 0,
              "ticks": ""
             }
            },
            "type": "scattergl"
           }
          ],
          "scattermapbox": [
           {
            "marker": {
             "colorbar": {
              "outlinewidth": 0,
              "ticks": ""
             }
            },
            "type": "scattermapbox"
           }
          ],
          "scatterpolar": [
           {
            "marker": {
             "colorbar": {
              "outlinewidth": 0,
              "ticks": ""
             }
            },
            "type": "scatterpolar"
           }
          ],
          "scatterpolargl": [
           {
            "marker": {
             "colorbar": {
              "outlinewidth": 0,
              "ticks": ""
             }
            },
            "type": "scatterpolargl"
           }
          ],
          "scatterternary": [
           {
            "marker": {
             "colorbar": {
              "outlinewidth": 0,
              "ticks": ""
             }
            },
            "type": "scatterternary"
           }
          ],
          "surface": [
           {
            "colorbar": {
             "outlinewidth": 0,
             "ticks": ""
            },
            "colorscale": [
             [
              0,
              "#0d0887"
             ],
             [
              0.1111111111111111,
              "#46039f"
             ],
             [
              0.2222222222222222,
              "#7201a8"
             ],
             [
              0.3333333333333333,
              "#9c179e"
             ],
             [
              0.4444444444444444,
              "#bd3786"
             ],
             [
              0.5555555555555556,
              "#d8576b"
             ],
             [
              0.6666666666666666,
              "#ed7953"
             ],
             [
              0.7777777777777778,
              "#fb9f3a"
             ],
             [
              0.8888888888888888,
              "#fdca26"
             ],
             [
              1,
              "#f0f921"
             ]
            ],
            "type": "surface"
           }
          ],
          "table": [
           {
            "cells": {
             "fill": {
              "color": "#EBF0F8"
             },
             "line": {
              "color": "white"
             }
            },
            "header": {
             "fill": {
              "color": "#C8D4E3"
             },
             "line": {
              "color": "white"
             }
            },
            "type": "table"
           }
          ]
         },
         "layout": {
          "annotationdefaults": {
           "arrowcolor": "#2a3f5f",
           "arrowhead": 0,
           "arrowwidth": 1
          },
          "autotypenumbers": "strict",
          "coloraxis": {
           "colorbar": {
            "outlinewidth": 0,
            "ticks": ""
           }
          },
          "colorscale": {
           "diverging": [
            [
             0,
             "#8e0152"
            ],
            [
             0.1,
             "#c51b7d"
            ],
            [
             0.2,
             "#de77ae"
            ],
            [
             0.3,
             "#f1b6da"
            ],
            [
             0.4,
             "#fde0ef"
            ],
            [
             0.5,
             "#f7f7f7"
            ],
            [
             0.6,
             "#e6f5d0"
            ],
            [
             0.7,
             "#b8e186"
            ],
            [
             0.8,
             "#7fbc41"
            ],
            [
             0.9,
             "#4d9221"
            ],
            [
             1,
             "#276419"
            ]
           ],
           "sequential": [
            [
             0,
             "#0d0887"
            ],
            [
             0.1111111111111111,
             "#46039f"
            ],
            [
             0.2222222222222222,
             "#7201a8"
            ],
            [
             0.3333333333333333,
             "#9c179e"
            ],
            [
             0.4444444444444444,
             "#bd3786"
            ],
            [
             0.5555555555555556,
             "#d8576b"
            ],
            [
             0.6666666666666666,
             "#ed7953"
            ],
            [
             0.7777777777777778,
             "#fb9f3a"
            ],
            [
             0.8888888888888888,
             "#fdca26"
            ],
            [
             1,
             "#f0f921"
            ]
           ],
           "sequentialminus": [
            [
             0,
             "#0d0887"
            ],
            [
             0.1111111111111111,
             "#46039f"
            ],
            [
             0.2222222222222222,
             "#7201a8"
            ],
            [
             0.3333333333333333,
             "#9c179e"
            ],
            [
             0.4444444444444444,
             "#bd3786"
            ],
            [
             0.5555555555555556,
             "#d8576b"
            ],
            [
             0.6666666666666666,
             "#ed7953"
            ],
            [
             0.7777777777777778,
             "#fb9f3a"
            ],
            [
             0.8888888888888888,
             "#fdca26"
            ],
            [
             1,
             "#f0f921"
            ]
           ]
          },
          "colorway": [
           "#636efa",
           "#EF553B",
           "#00cc96",
           "#ab63fa",
           "#FFA15A",
           "#19d3f3",
           "#FF6692",
           "#B6E880",
           "#FF97FF",
           "#FECB52"
          ],
          "font": {
           "color": "#2a3f5f"
          },
          "geo": {
           "bgcolor": "white",
           "lakecolor": "white",
           "landcolor": "#E5ECF6",
           "showlakes": true,
           "showland": true,
           "subunitcolor": "white"
          },
          "hoverlabel": {
           "align": "left"
          },
          "hovermode": "closest",
          "mapbox": {
           "style": "light"
          },
          "paper_bgcolor": "white",
          "plot_bgcolor": "#E5ECF6",
          "polar": {
           "angularaxis": {
            "gridcolor": "white",
            "linecolor": "white",
            "ticks": ""
           },
           "bgcolor": "#E5ECF6",
           "radialaxis": {
            "gridcolor": "white",
            "linecolor": "white",
            "ticks": ""
           }
          },
          "scene": {
           "xaxis": {
            "backgroundcolor": "#E5ECF6",
            "gridcolor": "white",
            "gridwidth": 2,
            "linecolor": "white",
            "showbackground": true,
            "ticks": "",
            "zerolinecolor": "white"
           },
           "yaxis": {
            "backgroundcolor": "#E5ECF6",
            "gridcolor": "white",
            "gridwidth": 2,
            "linecolor": "white",
            "showbackground": true,
            "ticks": "",
            "zerolinecolor": "white"
           },
           "zaxis": {
            "backgroundcolor": "#E5ECF6",
            "gridcolor": "white",
            "gridwidth": 2,
            "linecolor": "white",
            "showbackground": true,
            "ticks": "",
            "zerolinecolor": "white"
           }
          },
          "shapedefaults": {
           "line": {
            "color": "#2a3f5f"
           }
          },
          "ternary": {
           "aaxis": {
            "gridcolor": "white",
            "linecolor": "white",
            "ticks": ""
           },
           "baxis": {
            "gridcolor": "white",
            "linecolor": "white",
            "ticks": ""
           },
           "bgcolor": "#E5ECF6",
           "caxis": {
            "gridcolor": "white",
            "linecolor": "white",
            "ticks": ""
           }
          },
          "title": {
           "x": 0.05
          },
          "xaxis": {
           "automargin": true,
           "gridcolor": "white",
           "linecolor": "white",
           "ticks": "",
           "title": {
            "standoff": 15
           },
           "zerolinecolor": "white",
           "zerolinewidth": 2
          },
          "yaxis": {
           "automargin": true,
           "gridcolor": "white",
           "linecolor": "white",
           "ticks": "",
           "title": {
            "standoff": 15
           },
           "zerolinecolor": "white",
           "zerolinewidth": 2
          }
         }
        },
        "title": {
         "text": "Household Food Security Status by Demographic Characteristics (100% Stacked)"
        },
        "width": 2000,
        "xaxis": {
         "title": {
          "text": "Demographic Characteristics"
         }
        },
        "yaxis": {
         "title": {
          "text": "Percent of People (100% Stacked)"
         }
        }
       }
      }
     },
     "metadata": {},
     "output_type": "display_data"
    }
   ],
   "source": [
    "security_status_persons_grp = food_df[food_df['UOM']=='Number'].groupby(['Household food security status', 'Demographic characteristics']).sum(numeric_only=True)[['VALUE']].unstack('Household food security status')\n",
    "security_status_persons_grp = security_status_persons_grp['VALUE']\n",
    "security_status_persons_grp['total'] = security_status_persons_grp.T.sum()\n",
    "for i in range(len(security_status_persons_grp)):\n",
    "    security_status_persons_grp['Food insecure'].iloc[i] = round(security_status_persons_grp['Food insecure'].iloc[i]/security_status_persons_grp['total'].iloc[i]*100, 3)\n",
    "    security_status_persons_grp['Food insecure, marginal'].iloc[i] = round(security_status_persons_grp['Food insecure, marginal'].iloc[i]/security_status_persons_grp['total'].iloc[i]*100, 3)\n",
    "    security_status_persons_grp['Food insecure, moderate'].iloc[i] = round(security_status_persons_grp['Food insecure, moderate'].iloc[i]/security_status_persons_grp['total'].iloc[i]*100, 3)\n",
    "    security_status_persons_grp['Food insecure, moderate or severe'].iloc[i] = round(security_status_persons_grp['Food insecure, moderate or severe'].iloc[i]/security_status_persons_grp['total'].iloc[i]*100, 3)\n",
    "    security_status_persons_grp['Food insecure, severe'].iloc[i] = round(security_status_persons_grp['Food insecure, severe'].iloc[i]/security_status_persons_grp['total'].iloc[i]*100, 3)\n",
    "    security_status_persons_grp['Food secure'].iloc[i] = round(security_status_persons_grp['Food secure'].iloc[i]/security_status_persons_grp['total'].iloc[i]*100, 3)\n",
    "security_status_persons_grp = security_status_persons_grp.sort_values(['Food secure'], ascending=False)\n",
    "security_status_persons_grp.drop(columns='total', inplace=True)\n",
    "\n",
    "x_labels = security_status_persons_grp.index.tolist()\n",
    "categories = security_status_persons_grp.columns\n",
    "y_values = [security_status_persons_grp[category].tolist() for category in categories]\n",
    "\n",
    "fig = go.Figure()\n",
    "for i, category in enumerate(categories):\n",
    "    fig.add_trace(go.Bar(x=x_labels, y=y_values[i], name=category))\n",
    "\n",
    "fig.update_layout(\n",
    "    barmode='stack',\n",
    "    title='Household Food Security Status by Demographic Characteristics (100% Stacked)',\n",
    "    xaxis_title='Demographic Characteristics',\n",
    "    yaxis_title='Percent of People (100% Stacked)',\n",
    "    width=2000,\n",
    "    height=1000\n",
    ")\n",
    "\n",
    "fig.write_json('security_status_grp_100.json')\n",
    "\n",
    "fig.show()"
   ]
  },
  {
   "cell_type": "code",
   "execution_count": 509,
   "metadata": {},
   "outputs": [
    {
     "data": {
      "application/vnd.plotly.v1+json": {
       "config": {
        "plotlyServerURL": "https://plot.ly"
       },
       "data": [
        {
         "name": "Food insecure",
         "type": "bar",
         "x": [
          "Persons 65 years and over",
          "Persons 55 to 64 years",
          "Persons 45 to 54 years",
          "Persons 18 to 64 years",
          "Persons 18 to 24 years",
          "Persons 25 to 34 years",
          "Persons 35 to 44 years",
          "Persons under 18 years"
         ],
         "y": [
          7.828,
          11.359,
          13.376,
          13.598,
          14.389,
          14.141,
          15.014,
          15.988
         ]
        },
        {
         "name": "Food insecure, marginal",
         "type": "bar",
         "x": [
          "Persons 65 years and over",
          "Persons 55 to 64 years",
          "Persons 45 to 54 years",
          "Persons 18 to 64 years",
          "Persons 18 to 24 years",
          "Persons 25 to 34 years",
          "Persons 35 to 44 years",
          "Persons under 18 years"
         ],
         "y": [
          2.842,
          3.058,
          3.669,
          3.895,
          3.699,
          3.871,
          4.643,
          5.1
         ]
        },
        {
         "name": "Food insecure, moderate",
         "type": "bar",
         "x": [
          "Persons 65 years and over",
          "Persons 55 to 64 years",
          "Persons 45 to 54 years",
          "Persons 18 to 64 years",
          "Persons 18 to 24 years",
          "Persons 25 to 34 years",
          "Persons 35 to 44 years",
          "Persons under 18 years"
         ],
         "y": [
          3.603,
          5.192,
          6.31,
          6.404,
          6.813,
          6.672,
          7.092,
          8.05
         ]
        },
        {
         "name": "Food insecure, moderate or severe",
         "type": "bar",
         "x": [
          "Persons 65 years and over",
          "Persons 55 to 64 years",
          "Persons 45 to 54 years",
          "Persons 18 to 64 years",
          "Persons 18 to 24 years",
          "Persons 25 to 34 years",
          "Persons 35 to 44 years",
          "Persons under 18 years"
         ],
         "y": [
          4.975,
          8.236,
          9.676,
          9.704,
          10.213,
          10.233,
          10.341,
          10.881
         ]
        },
        {
         "name": "Food insecure, severe",
         "type": "bar",
         "x": [
          "Persons 65 years and over",
          "Persons 55 to 64 years",
          "Persons 45 to 54 years",
          "Persons 18 to 64 years",
          "Persons 18 to 24 years",
          "Persons 25 to 34 years",
          "Persons 35 to 44 years",
          "Persons under 18 years"
         ],
         "y": [
          1.283,
          3.002,
          3.301,
          3.301,
          3.03,
          3.494,
          3.195,
          2.774
         ]
        },
        {
         "name": "Food secure",
         "type": "bar",
         "x": [
          "Persons 65 years and over",
          "Persons 55 to 64 years",
          "Persons 45 to 54 years",
          "Persons 18 to 64 years",
          "Persons 18 to 24 years",
          "Persons 25 to 34 years",
          "Persons 35 to 44 years",
          "Persons under 18 years"
         ],
         "y": [
          79.47,
          69.153,
          63.668,
          63.099,
          61.854,
          61.589,
          59.716,
          57.206
         ]
        }
       ],
       "layout": {
        "barmode": "stack",
        "height": 600,
        "template": {
         "data": {
          "bar": [
           {
            "error_x": {
             "color": "#2a3f5f"
            },
            "error_y": {
             "color": "#2a3f5f"
            },
            "marker": {
             "line": {
              "color": "#E5ECF6",
              "width": 0.5
             },
             "pattern": {
              "fillmode": "overlay",
              "size": 10,
              "solidity": 0.2
             }
            },
            "type": "bar"
           }
          ],
          "barpolar": [
           {
            "marker": {
             "line": {
              "color": "#E5ECF6",
              "width": 0.5
             },
             "pattern": {
              "fillmode": "overlay",
              "size": 10,
              "solidity": 0.2
             }
            },
            "type": "barpolar"
           }
          ],
          "carpet": [
           {
            "aaxis": {
             "endlinecolor": "#2a3f5f",
             "gridcolor": "white",
             "linecolor": "white",
             "minorgridcolor": "white",
             "startlinecolor": "#2a3f5f"
            },
            "baxis": {
             "endlinecolor": "#2a3f5f",
             "gridcolor": "white",
             "linecolor": "white",
             "minorgridcolor": "white",
             "startlinecolor": "#2a3f5f"
            },
            "type": "carpet"
           }
          ],
          "choropleth": [
           {
            "colorbar": {
             "outlinewidth": 0,
             "ticks": ""
            },
            "type": "choropleth"
           }
          ],
          "contour": [
           {
            "colorbar": {
             "outlinewidth": 0,
             "ticks": ""
            },
            "colorscale": [
             [
              0,
              "#0d0887"
             ],
             [
              0.1111111111111111,
              "#46039f"
             ],
             [
              0.2222222222222222,
              "#7201a8"
             ],
             [
              0.3333333333333333,
              "#9c179e"
             ],
             [
              0.4444444444444444,
              "#bd3786"
             ],
             [
              0.5555555555555556,
              "#d8576b"
             ],
             [
              0.6666666666666666,
              "#ed7953"
             ],
             [
              0.7777777777777778,
              "#fb9f3a"
             ],
             [
              0.8888888888888888,
              "#fdca26"
             ],
             [
              1,
              "#f0f921"
             ]
            ],
            "type": "contour"
           }
          ],
          "contourcarpet": [
           {
            "colorbar": {
             "outlinewidth": 0,
             "ticks": ""
            },
            "type": "contourcarpet"
           }
          ],
          "heatmap": [
           {
            "colorbar": {
             "outlinewidth": 0,
             "ticks": ""
            },
            "colorscale": [
             [
              0,
              "#0d0887"
             ],
             [
              0.1111111111111111,
              "#46039f"
             ],
             [
              0.2222222222222222,
              "#7201a8"
             ],
             [
              0.3333333333333333,
              "#9c179e"
             ],
             [
              0.4444444444444444,
              "#bd3786"
             ],
             [
              0.5555555555555556,
              "#d8576b"
             ],
             [
              0.6666666666666666,
              "#ed7953"
             ],
             [
              0.7777777777777778,
              "#fb9f3a"
             ],
             [
              0.8888888888888888,
              "#fdca26"
             ],
             [
              1,
              "#f0f921"
             ]
            ],
            "type": "heatmap"
           }
          ],
          "heatmapgl": [
           {
            "colorbar": {
             "outlinewidth": 0,
             "ticks": ""
            },
            "colorscale": [
             [
              0,
              "#0d0887"
             ],
             [
              0.1111111111111111,
              "#46039f"
             ],
             [
              0.2222222222222222,
              "#7201a8"
             ],
             [
              0.3333333333333333,
              "#9c179e"
             ],
             [
              0.4444444444444444,
              "#bd3786"
             ],
             [
              0.5555555555555556,
              "#d8576b"
             ],
             [
              0.6666666666666666,
              "#ed7953"
             ],
             [
              0.7777777777777778,
              "#fb9f3a"
             ],
             [
              0.8888888888888888,
              "#fdca26"
             ],
             [
              1,
              "#f0f921"
             ]
            ],
            "type": "heatmapgl"
           }
          ],
          "histogram": [
           {
            "marker": {
             "pattern": {
              "fillmode": "overlay",
              "size": 10,
              "solidity": 0.2
             }
            },
            "type": "histogram"
           }
          ],
          "histogram2d": [
           {
            "colorbar": {
             "outlinewidth": 0,
             "ticks": ""
            },
            "colorscale": [
             [
              0,
              "#0d0887"
             ],
             [
              0.1111111111111111,
              "#46039f"
             ],
             [
              0.2222222222222222,
              "#7201a8"
             ],
             [
              0.3333333333333333,
              "#9c179e"
             ],
             [
              0.4444444444444444,
              "#bd3786"
             ],
             [
              0.5555555555555556,
              "#d8576b"
             ],
             [
              0.6666666666666666,
              "#ed7953"
             ],
             [
              0.7777777777777778,
              "#fb9f3a"
             ],
             [
              0.8888888888888888,
              "#fdca26"
             ],
             [
              1,
              "#f0f921"
             ]
            ],
            "type": "histogram2d"
           }
          ],
          "histogram2dcontour": [
           {
            "colorbar": {
             "outlinewidth": 0,
             "ticks": ""
            },
            "colorscale": [
             [
              0,
              "#0d0887"
             ],
             [
              0.1111111111111111,
              "#46039f"
             ],
             [
              0.2222222222222222,
              "#7201a8"
             ],
             [
              0.3333333333333333,
              "#9c179e"
             ],
             [
              0.4444444444444444,
              "#bd3786"
             ],
             [
              0.5555555555555556,
              "#d8576b"
             ],
             [
              0.6666666666666666,
              "#ed7953"
             ],
             [
              0.7777777777777778,
              "#fb9f3a"
             ],
             [
              0.8888888888888888,
              "#fdca26"
             ],
             [
              1,
              "#f0f921"
             ]
            ],
            "type": "histogram2dcontour"
           }
          ],
          "mesh3d": [
           {
            "colorbar": {
             "outlinewidth": 0,
             "ticks": ""
            },
            "type": "mesh3d"
           }
          ],
          "parcoords": [
           {
            "line": {
             "colorbar": {
              "outlinewidth": 0,
              "ticks": ""
             }
            },
            "type": "parcoords"
           }
          ],
          "pie": [
           {
            "automargin": true,
            "type": "pie"
           }
          ],
          "scatter": [
           {
            "fillpattern": {
             "fillmode": "overlay",
             "size": 10,
             "solidity": 0.2
            },
            "type": "scatter"
           }
          ],
          "scatter3d": [
           {
            "line": {
             "colorbar": {
              "outlinewidth": 0,
              "ticks": ""
             }
            },
            "marker": {
             "colorbar": {
              "outlinewidth": 0,
              "ticks": ""
             }
            },
            "type": "scatter3d"
           }
          ],
          "scattercarpet": [
           {
            "marker": {
             "colorbar": {
              "outlinewidth": 0,
              "ticks": ""
             }
            },
            "type": "scattercarpet"
           }
          ],
          "scattergeo": [
           {
            "marker": {
             "colorbar": {
              "outlinewidth": 0,
              "ticks": ""
             }
            },
            "type": "scattergeo"
           }
          ],
          "scattergl": [
           {
            "marker": {
             "colorbar": {
              "outlinewidth": 0,
              "ticks": ""
             }
            },
            "type": "scattergl"
           }
          ],
          "scattermapbox": [
           {
            "marker": {
             "colorbar": {
              "outlinewidth": 0,
              "ticks": ""
             }
            },
            "type": "scattermapbox"
           }
          ],
          "scatterpolar": [
           {
            "marker": {
             "colorbar": {
              "outlinewidth": 0,
              "ticks": ""
             }
            },
            "type": "scatterpolar"
           }
          ],
          "scatterpolargl": [
           {
            "marker": {
             "colorbar": {
              "outlinewidth": 0,
              "ticks": ""
             }
            },
            "type": "scatterpolargl"
           }
          ],
          "scatterternary": [
           {
            "marker": {
             "colorbar": {
              "outlinewidth": 0,
              "ticks": ""
             }
            },
            "type": "scatterternary"
           }
          ],
          "surface": [
           {
            "colorbar": {
             "outlinewidth": 0,
             "ticks": ""
            },
            "colorscale": [
             [
              0,
              "#0d0887"
             ],
             [
              0.1111111111111111,
              "#46039f"
             ],
             [
              0.2222222222222222,
              "#7201a8"
             ],
             [
              0.3333333333333333,
              "#9c179e"
             ],
             [
              0.4444444444444444,
              "#bd3786"
             ],
             [
              0.5555555555555556,
              "#d8576b"
             ],
             [
              0.6666666666666666,
              "#ed7953"
             ],
             [
              0.7777777777777778,
              "#fb9f3a"
             ],
             [
              0.8888888888888888,
              "#fdca26"
             ],
             [
              1,
              "#f0f921"
             ]
            ],
            "type": "surface"
           }
          ],
          "table": [
           {
            "cells": {
             "fill": {
              "color": "#EBF0F8"
             },
             "line": {
              "color": "white"
             }
            },
            "header": {
             "fill": {
              "color": "#C8D4E3"
             },
             "line": {
              "color": "white"
             }
            },
            "type": "table"
           }
          ]
         },
         "layout": {
          "annotationdefaults": {
           "arrowcolor": "#2a3f5f",
           "arrowhead": 0,
           "arrowwidth": 1
          },
          "autotypenumbers": "strict",
          "coloraxis": {
           "colorbar": {
            "outlinewidth": 0,
            "ticks": ""
           }
          },
          "colorscale": {
           "diverging": [
            [
             0,
             "#8e0152"
            ],
            [
             0.1,
             "#c51b7d"
            ],
            [
             0.2,
             "#de77ae"
            ],
            [
             0.3,
             "#f1b6da"
            ],
            [
             0.4,
             "#fde0ef"
            ],
            [
             0.5,
             "#f7f7f7"
            ],
            [
             0.6,
             "#e6f5d0"
            ],
            [
             0.7,
             "#b8e186"
            ],
            [
             0.8,
             "#7fbc41"
            ],
            [
             0.9,
             "#4d9221"
            ],
            [
             1,
             "#276419"
            ]
           ],
           "sequential": [
            [
             0,
             "#0d0887"
            ],
            [
             0.1111111111111111,
             "#46039f"
            ],
            [
             0.2222222222222222,
             "#7201a8"
            ],
            [
             0.3333333333333333,
             "#9c179e"
            ],
            [
             0.4444444444444444,
             "#bd3786"
            ],
            [
             0.5555555555555556,
             "#d8576b"
            ],
            [
             0.6666666666666666,
             "#ed7953"
            ],
            [
             0.7777777777777778,
             "#fb9f3a"
            ],
            [
             0.8888888888888888,
             "#fdca26"
            ],
            [
             1,
             "#f0f921"
            ]
           ],
           "sequentialminus": [
            [
             0,
             "#0d0887"
            ],
            [
             0.1111111111111111,
             "#46039f"
            ],
            [
             0.2222222222222222,
             "#7201a8"
            ],
            [
             0.3333333333333333,
             "#9c179e"
            ],
            [
             0.4444444444444444,
             "#bd3786"
            ],
            [
             0.5555555555555556,
             "#d8576b"
            ],
            [
             0.6666666666666666,
             "#ed7953"
            ],
            [
             0.7777777777777778,
             "#fb9f3a"
            ],
            [
             0.8888888888888888,
             "#fdca26"
            ],
            [
             1,
             "#f0f921"
            ]
           ]
          },
          "colorway": [
           "#636efa",
           "#EF553B",
           "#00cc96",
           "#ab63fa",
           "#FFA15A",
           "#19d3f3",
           "#FF6692",
           "#B6E880",
           "#FF97FF",
           "#FECB52"
          ],
          "font": {
           "color": "#2a3f5f"
          },
          "geo": {
           "bgcolor": "white",
           "lakecolor": "white",
           "landcolor": "#E5ECF6",
           "showlakes": true,
           "showland": true,
           "subunitcolor": "white"
          },
          "hoverlabel": {
           "align": "left"
          },
          "hovermode": "closest",
          "mapbox": {
           "style": "light"
          },
          "paper_bgcolor": "white",
          "plot_bgcolor": "#E5ECF6",
          "polar": {
           "angularaxis": {
            "gridcolor": "white",
            "linecolor": "white",
            "ticks": ""
           },
           "bgcolor": "#E5ECF6",
           "radialaxis": {
            "gridcolor": "white",
            "linecolor": "white",
            "ticks": ""
           }
          },
          "scene": {
           "xaxis": {
            "backgroundcolor": "#E5ECF6",
            "gridcolor": "white",
            "gridwidth": 2,
            "linecolor": "white",
            "showbackground": true,
            "ticks": "",
            "zerolinecolor": "white"
           },
           "yaxis": {
            "backgroundcolor": "#E5ECF6",
            "gridcolor": "white",
            "gridwidth": 2,
            "linecolor": "white",
            "showbackground": true,
            "ticks": "",
            "zerolinecolor": "white"
           },
           "zaxis": {
            "backgroundcolor": "#E5ECF6",
            "gridcolor": "white",
            "gridwidth": 2,
            "linecolor": "white",
            "showbackground": true,
            "ticks": "",
            "zerolinecolor": "white"
           }
          },
          "shapedefaults": {
           "line": {
            "color": "#2a3f5f"
           }
          },
          "ternary": {
           "aaxis": {
            "gridcolor": "white",
            "linecolor": "white",
            "ticks": ""
           },
           "baxis": {
            "gridcolor": "white",
            "linecolor": "white",
            "ticks": ""
           },
           "bgcolor": "#E5ECF6",
           "caxis": {
            "gridcolor": "white",
            "linecolor": "white",
            "ticks": ""
           }
          },
          "title": {
           "x": 0.05
          },
          "xaxis": {
           "automargin": true,
           "gridcolor": "white",
           "linecolor": "white",
           "ticks": "",
           "title": {
            "standoff": 15
           },
           "zerolinecolor": "white",
           "zerolinewidth": 2
          },
          "yaxis": {
           "automargin": true,
           "gridcolor": "white",
           "linecolor": "white",
           "ticks": "",
           "title": {
            "standoff": 15
           },
           "zerolinecolor": "white",
           "zerolinewidth": 2
          }
         }
        },
        "title": {
         "text": "Household Food Security Status by Age Group (100% Stacked)"
        },
        "width": 1000,
        "xaxis": {
         "title": {
          "text": "Demographic Characteristics"
         }
        },
        "yaxis": {
         "title": {
          "text": "Percent of People (100% Stacked)"
         }
        }
       }
      }
     },
     "metadata": {},
     "output_type": "display_data"
    }
   ],
   "source": [
    "persons_df = food_df[food_df['Demographic characteristics'].apply(lambda row: 'Persons' in row and len(row.split(' ')) <= 5)]\n",
    "security_status_persons_grp = persons_df[persons_df['UOM']=='Number'].groupby(['Household food security status', 'Demographic characteristics']).sum(numeric_only=True)[['VALUE']].unstack('Household food security status')\n",
    "security_status_persons_grp = security_status_persons_grp['VALUE']\n",
    "security_status_persons_grp['total'] = security_status_persons_grp.T.sum()\n",
    "for i in range(len(security_status_persons_grp)):\n",
    "    security_status_persons_grp['Food insecure'].iloc[i] = round(security_status_persons_grp['Food insecure'].iloc[i]/security_status_persons_grp['total'].iloc[i]*100, 3)\n",
    "    security_status_persons_grp['Food insecure, marginal'].iloc[i] = round(security_status_persons_grp['Food insecure, marginal'].iloc[i]/security_status_persons_grp['total'].iloc[i]*100, 3)\n",
    "    security_status_persons_grp['Food insecure, moderate'].iloc[i] = round(security_status_persons_grp['Food insecure, moderate'].iloc[i]/security_status_persons_grp['total'].iloc[i]*100, 3)\n",
    "    security_status_persons_grp['Food insecure, moderate or severe'].iloc[i] = round(security_status_persons_grp['Food insecure, moderate or severe'].iloc[i]/security_status_persons_grp['total'].iloc[i]*100, 3)\n",
    "    security_status_persons_grp['Food insecure, severe'].iloc[i] = round(security_status_persons_grp['Food insecure, severe'].iloc[i]/security_status_persons_grp['total'].iloc[i]*100, 3)\n",
    "    security_status_persons_grp['Food secure'].iloc[i] = round(security_status_persons_grp['Food secure'].iloc[i]/security_status_persons_grp['total'].iloc[i]*100, 3)\n",
    "security_status_persons_grp = security_status_persons_grp.sort_values(['Food secure'], ascending=False)\n",
    "security_status_persons_grp.drop(columns='total', inplace=True)\n",
    "\n",
    "x_labels = security_status_persons_grp.index.tolist()\n",
    "categories = security_status_persons_grp.columns\n",
    "y_values = [security_status_persons_grp[category].tolist() for category in categories]\n",
    "\n",
    "fig = go.Figure()\n",
    "for i, category in enumerate(categories):\n",
    "    fig.add_trace(go.Bar(x=x_labels, y=y_values[i], name=category))\n",
    "\n",
    "fig.update_layout(\n",
    "    barmode='stack',\n",
    "    title='Household Food Security Status by Age Group (100% Stacked)',\n",
    "    xaxis_title='Demographic Characteristics',\n",
    "    yaxis_title='Percent of People (100% Stacked)',\n",
    "    width=1000,\n",
    "    height=600\n",
    ")\n",
    "\n",
    "fig.write_json('persons_grp_100.json')\n",
    "\n",
    "fig.show()"
   ]
  },
  {
   "cell_type": "code",
   "execution_count": 510,
   "metadata": {},
   "outputs": [
    {
     "data": {
      "application/vnd.plotly.v1+json": {
       "config": {
        "plotlyServerURL": "https://plot.ly"
       },
       "data": [
        {
         "name": "Food insecure",
         "type": "bar",
         "x": [
          "Males, 65 years and over",
          "Females, 65 years and over",
          "Males",
          "Males, 18 to 64 years",
          "Females",
          "Females, 18 to 64 years",
          "Females, under 18 years",
          "Males, under 18 years"
         ],
         "y": [
          7.639,
          8.039,
          13.04,
          13.247,
          13.333,
          13.946,
          15.835,
          16.194
         ]
        },
        {
         "name": "Food insecure, marginal",
         "type": "bar",
         "x": [
          "Males, 65 years and over",
          "Females, 65 years and over",
          "Males",
          "Males, 18 to 64 years",
          "Females",
          "Females, 18 to 64 years",
          "Females, under 18 years",
          "Males, under 18 years"
         ],
         "y": [
          2.62,
          2.786,
          3.943,
          3.773,
          4.018,
          4.015,
          4.91,
          5.186
         ]
        },
        {
         "name": "Food insecure, moderate",
         "type": "bar",
         "x": [
          "Males, 65 years and over",
          "Females, 65 years and over",
          "Males",
          "Males, 18 to 64 years",
          "Females",
          "Females, 18 to 64 years",
          "Females, under 18 years",
          "Males, under 18 years"
         ],
         "y": [
          3.336,
          3.683,
          6.191,
          6.185,
          6.413,
          6.617,
          7.978,
          8.122
         ]
        },
        {
         "name": "Food insecure, moderate or severe",
         "type": "bar",
         "x": [
          "Males, 65 years and over",
          "Females, 65 years and over",
          "Males",
          "Males, 18 to 64 years",
          "Females",
          "Females, 18 to 64 years",
          "Females, under 18 years",
          "Males, under 18 years"
         ],
         "y": [
          4.785,
          5.13,
          9.098,
          9.478,
          9.316,
          9.93,
          10.862,
          10.943
         ]
        },
        {
         "name": "Food insecure, severe",
         "type": "bar",
         "x": [
          "Males, 65 years and over",
          "Females, 65 years and over",
          "Males",
          "Males, 18 to 64 years",
          "Females",
          "Females, 18 to 64 years",
          "Females, under 18 years",
          "Males, under 18 years"
         ],
         "y": [
          0.996,
          1.097,
          2.906,
          3.279,
          2.903,
          3.314,
          2.637,
          2.683
         ]
        },
        {
         "name": "Food secure",
         "type": "bar",
         "x": [
          "Males, 65 years and over",
          "Females, 65 years and over",
          "Males",
          "Males, 18 to 64 years",
          "Females",
          "Females, 18 to 64 years",
          "Females, under 18 years",
          "Males, under 18 years"
         ],
         "y": [
          80.624,
          79.265,
          64.822,
          64.038,
          64.016,
          62.177,
          57.778,
          56.872
         ]
        }
       ],
       "layout": {
        "barmode": "stack",
        "height": 600,
        "template": {
         "data": {
          "bar": [
           {
            "error_x": {
             "color": "#2a3f5f"
            },
            "error_y": {
             "color": "#2a3f5f"
            },
            "marker": {
             "line": {
              "color": "#E5ECF6",
              "width": 0.5
             },
             "pattern": {
              "fillmode": "overlay",
              "size": 10,
              "solidity": 0.2
             }
            },
            "type": "bar"
           }
          ],
          "barpolar": [
           {
            "marker": {
             "line": {
              "color": "#E5ECF6",
              "width": 0.5
             },
             "pattern": {
              "fillmode": "overlay",
              "size": 10,
              "solidity": 0.2
             }
            },
            "type": "barpolar"
           }
          ],
          "carpet": [
           {
            "aaxis": {
             "endlinecolor": "#2a3f5f",
             "gridcolor": "white",
             "linecolor": "white",
             "minorgridcolor": "white",
             "startlinecolor": "#2a3f5f"
            },
            "baxis": {
             "endlinecolor": "#2a3f5f",
             "gridcolor": "white",
             "linecolor": "white",
             "minorgridcolor": "white",
             "startlinecolor": "#2a3f5f"
            },
            "type": "carpet"
           }
          ],
          "choropleth": [
           {
            "colorbar": {
             "outlinewidth": 0,
             "ticks": ""
            },
            "type": "choropleth"
           }
          ],
          "contour": [
           {
            "colorbar": {
             "outlinewidth": 0,
             "ticks": ""
            },
            "colorscale": [
             [
              0,
              "#0d0887"
             ],
             [
              0.1111111111111111,
              "#46039f"
             ],
             [
              0.2222222222222222,
              "#7201a8"
             ],
             [
              0.3333333333333333,
              "#9c179e"
             ],
             [
              0.4444444444444444,
              "#bd3786"
             ],
             [
              0.5555555555555556,
              "#d8576b"
             ],
             [
              0.6666666666666666,
              "#ed7953"
             ],
             [
              0.7777777777777778,
              "#fb9f3a"
             ],
             [
              0.8888888888888888,
              "#fdca26"
             ],
             [
              1,
              "#f0f921"
             ]
            ],
            "type": "contour"
           }
          ],
          "contourcarpet": [
           {
            "colorbar": {
             "outlinewidth": 0,
             "ticks": ""
            },
            "type": "contourcarpet"
           }
          ],
          "heatmap": [
           {
            "colorbar": {
             "outlinewidth": 0,
             "ticks": ""
            },
            "colorscale": [
             [
              0,
              "#0d0887"
             ],
             [
              0.1111111111111111,
              "#46039f"
             ],
             [
              0.2222222222222222,
              "#7201a8"
             ],
             [
              0.3333333333333333,
              "#9c179e"
             ],
             [
              0.4444444444444444,
              "#bd3786"
             ],
             [
              0.5555555555555556,
              "#d8576b"
             ],
             [
              0.6666666666666666,
              "#ed7953"
             ],
             [
              0.7777777777777778,
              "#fb9f3a"
             ],
             [
              0.8888888888888888,
              "#fdca26"
             ],
             [
              1,
              "#f0f921"
             ]
            ],
            "type": "heatmap"
           }
          ],
          "heatmapgl": [
           {
            "colorbar": {
             "outlinewidth": 0,
             "ticks": ""
            },
            "colorscale": [
             [
              0,
              "#0d0887"
             ],
             [
              0.1111111111111111,
              "#46039f"
             ],
             [
              0.2222222222222222,
              "#7201a8"
             ],
             [
              0.3333333333333333,
              "#9c179e"
             ],
             [
              0.4444444444444444,
              "#bd3786"
             ],
             [
              0.5555555555555556,
              "#d8576b"
             ],
             [
              0.6666666666666666,
              "#ed7953"
             ],
             [
              0.7777777777777778,
              "#fb9f3a"
             ],
             [
              0.8888888888888888,
              "#fdca26"
             ],
             [
              1,
              "#f0f921"
             ]
            ],
            "type": "heatmapgl"
           }
          ],
          "histogram": [
           {
            "marker": {
             "pattern": {
              "fillmode": "overlay",
              "size": 10,
              "solidity": 0.2
             }
            },
            "type": "histogram"
           }
          ],
          "histogram2d": [
           {
            "colorbar": {
             "outlinewidth": 0,
             "ticks": ""
            },
            "colorscale": [
             [
              0,
              "#0d0887"
             ],
             [
              0.1111111111111111,
              "#46039f"
             ],
             [
              0.2222222222222222,
              "#7201a8"
             ],
             [
              0.3333333333333333,
              "#9c179e"
             ],
             [
              0.4444444444444444,
              "#bd3786"
             ],
             [
              0.5555555555555556,
              "#d8576b"
             ],
             [
              0.6666666666666666,
              "#ed7953"
             ],
             [
              0.7777777777777778,
              "#fb9f3a"
             ],
             [
              0.8888888888888888,
              "#fdca26"
             ],
             [
              1,
              "#f0f921"
             ]
            ],
            "type": "histogram2d"
           }
          ],
          "histogram2dcontour": [
           {
            "colorbar": {
             "outlinewidth": 0,
             "ticks": ""
            },
            "colorscale": [
             [
              0,
              "#0d0887"
             ],
             [
              0.1111111111111111,
              "#46039f"
             ],
             [
              0.2222222222222222,
              "#7201a8"
             ],
             [
              0.3333333333333333,
              "#9c179e"
             ],
             [
              0.4444444444444444,
              "#bd3786"
             ],
             [
              0.5555555555555556,
              "#d8576b"
             ],
             [
              0.6666666666666666,
              "#ed7953"
             ],
             [
              0.7777777777777778,
              "#fb9f3a"
             ],
             [
              0.8888888888888888,
              "#fdca26"
             ],
             [
              1,
              "#f0f921"
             ]
            ],
            "type": "histogram2dcontour"
           }
          ],
          "mesh3d": [
           {
            "colorbar": {
             "outlinewidth": 0,
             "ticks": ""
            },
            "type": "mesh3d"
           }
          ],
          "parcoords": [
           {
            "line": {
             "colorbar": {
              "outlinewidth": 0,
              "ticks": ""
             }
            },
            "type": "parcoords"
           }
          ],
          "pie": [
           {
            "automargin": true,
            "type": "pie"
           }
          ],
          "scatter": [
           {
            "fillpattern": {
             "fillmode": "overlay",
             "size": 10,
             "solidity": 0.2
            },
            "type": "scatter"
           }
          ],
          "scatter3d": [
           {
            "line": {
             "colorbar": {
              "outlinewidth": 0,
              "ticks": ""
             }
            },
            "marker": {
             "colorbar": {
              "outlinewidth": 0,
              "ticks": ""
             }
            },
            "type": "scatter3d"
           }
          ],
          "scattercarpet": [
           {
            "marker": {
             "colorbar": {
              "outlinewidth": 0,
              "ticks": ""
             }
            },
            "type": "scattercarpet"
           }
          ],
          "scattergeo": [
           {
            "marker": {
             "colorbar": {
              "outlinewidth": 0,
              "ticks": ""
             }
            },
            "type": "scattergeo"
           }
          ],
          "scattergl": [
           {
            "marker": {
             "colorbar": {
              "outlinewidth": 0,
              "ticks": ""
             }
            },
            "type": "scattergl"
           }
          ],
          "scattermapbox": [
           {
            "marker": {
             "colorbar": {
              "outlinewidth": 0,
              "ticks": ""
             }
            },
            "type": "scattermapbox"
           }
          ],
          "scatterpolar": [
           {
            "marker": {
             "colorbar": {
              "outlinewidth": 0,
              "ticks": ""
             }
            },
            "type": "scatterpolar"
           }
          ],
          "scatterpolargl": [
           {
            "marker": {
             "colorbar": {
              "outlinewidth": 0,
              "ticks": ""
             }
            },
            "type": "scatterpolargl"
           }
          ],
          "scatterternary": [
           {
            "marker": {
             "colorbar": {
              "outlinewidth": 0,
              "ticks": ""
             }
            },
            "type": "scatterternary"
           }
          ],
          "surface": [
           {
            "colorbar": {
             "outlinewidth": 0,
             "ticks": ""
            },
            "colorscale": [
             [
              0,
              "#0d0887"
             ],
             [
              0.1111111111111111,
              "#46039f"
             ],
             [
              0.2222222222222222,
              "#7201a8"
             ],
             [
              0.3333333333333333,
              "#9c179e"
             ],
             [
              0.4444444444444444,
              "#bd3786"
             ],
             [
              0.5555555555555556,
              "#d8576b"
             ],
             [
              0.6666666666666666,
              "#ed7953"
             ],
             [
              0.7777777777777778,
              "#fb9f3a"
             ],
             [
              0.8888888888888888,
              "#fdca26"
             ],
             [
              1,
              "#f0f921"
             ]
            ],
            "type": "surface"
           }
          ],
          "table": [
           {
            "cells": {
             "fill": {
              "color": "#EBF0F8"
             },
             "line": {
              "color": "white"
             }
            },
            "header": {
             "fill": {
              "color": "#C8D4E3"
             },
             "line": {
              "color": "white"
             }
            },
            "type": "table"
           }
          ]
         },
         "layout": {
          "annotationdefaults": {
           "arrowcolor": "#2a3f5f",
           "arrowhead": 0,
           "arrowwidth": 1
          },
          "autotypenumbers": "strict",
          "coloraxis": {
           "colorbar": {
            "outlinewidth": 0,
            "ticks": ""
           }
          },
          "colorscale": {
           "diverging": [
            [
             0,
             "#8e0152"
            ],
            [
             0.1,
             "#c51b7d"
            ],
            [
             0.2,
             "#de77ae"
            ],
            [
             0.3,
             "#f1b6da"
            ],
            [
             0.4,
             "#fde0ef"
            ],
            [
             0.5,
             "#f7f7f7"
            ],
            [
             0.6,
             "#e6f5d0"
            ],
            [
             0.7,
             "#b8e186"
            ],
            [
             0.8,
             "#7fbc41"
            ],
            [
             0.9,
             "#4d9221"
            ],
            [
             1,
             "#276419"
            ]
           ],
           "sequential": [
            [
             0,
             "#0d0887"
            ],
            [
             0.1111111111111111,
             "#46039f"
            ],
            [
             0.2222222222222222,
             "#7201a8"
            ],
            [
             0.3333333333333333,
             "#9c179e"
            ],
            [
             0.4444444444444444,
             "#bd3786"
            ],
            [
             0.5555555555555556,
             "#d8576b"
            ],
            [
             0.6666666666666666,
             "#ed7953"
            ],
            [
             0.7777777777777778,
             "#fb9f3a"
            ],
            [
             0.8888888888888888,
             "#fdca26"
            ],
            [
             1,
             "#f0f921"
            ]
           ],
           "sequentialminus": [
            [
             0,
             "#0d0887"
            ],
            [
             0.1111111111111111,
             "#46039f"
            ],
            [
             0.2222222222222222,
             "#7201a8"
            ],
            [
             0.3333333333333333,
             "#9c179e"
            ],
            [
             0.4444444444444444,
             "#bd3786"
            ],
            [
             0.5555555555555556,
             "#d8576b"
            ],
            [
             0.6666666666666666,
             "#ed7953"
            ],
            [
             0.7777777777777778,
             "#fb9f3a"
            ],
            [
             0.8888888888888888,
             "#fdca26"
            ],
            [
             1,
             "#f0f921"
            ]
           ]
          },
          "colorway": [
           "#636efa",
           "#EF553B",
           "#00cc96",
           "#ab63fa",
           "#FFA15A",
           "#19d3f3",
           "#FF6692",
           "#B6E880",
           "#FF97FF",
           "#FECB52"
          ],
          "font": {
           "color": "#2a3f5f"
          },
          "geo": {
           "bgcolor": "white",
           "lakecolor": "white",
           "landcolor": "#E5ECF6",
           "showlakes": true,
           "showland": true,
           "subunitcolor": "white"
          },
          "hoverlabel": {
           "align": "left"
          },
          "hovermode": "closest",
          "mapbox": {
           "style": "light"
          },
          "paper_bgcolor": "white",
          "plot_bgcolor": "#E5ECF6",
          "polar": {
           "angularaxis": {
            "gridcolor": "white",
            "linecolor": "white",
            "ticks": ""
           },
           "bgcolor": "#E5ECF6",
           "radialaxis": {
            "gridcolor": "white",
            "linecolor": "white",
            "ticks": ""
           }
          },
          "scene": {
           "xaxis": {
            "backgroundcolor": "#E5ECF6",
            "gridcolor": "white",
            "gridwidth": 2,
            "linecolor": "white",
            "showbackground": true,
            "ticks": "",
            "zerolinecolor": "white"
           },
           "yaxis": {
            "backgroundcolor": "#E5ECF6",
            "gridcolor": "white",
            "gridwidth": 2,
            "linecolor": "white",
            "showbackground": true,
            "ticks": "",
            "zerolinecolor": "white"
           },
           "zaxis": {
            "backgroundcolor": "#E5ECF6",
            "gridcolor": "white",
            "gridwidth": 2,
            "linecolor": "white",
            "showbackground": true,
            "ticks": "",
            "zerolinecolor": "white"
           }
          },
          "shapedefaults": {
           "line": {
            "color": "#2a3f5f"
           }
          },
          "ternary": {
           "aaxis": {
            "gridcolor": "white",
            "linecolor": "white",
            "ticks": ""
           },
           "baxis": {
            "gridcolor": "white",
            "linecolor": "white",
            "ticks": ""
           },
           "bgcolor": "#E5ECF6",
           "caxis": {
            "gridcolor": "white",
            "linecolor": "white",
            "ticks": ""
           }
          },
          "title": {
           "x": 0.05
          },
          "xaxis": {
           "automargin": true,
           "gridcolor": "white",
           "linecolor": "white",
           "ticks": "",
           "title": {
            "standoff": 15
           },
           "zerolinecolor": "white",
           "zerolinewidth": 2
          },
          "yaxis": {
           "automargin": true,
           "gridcolor": "white",
           "linecolor": "white",
           "ticks": "",
           "title": {
            "standoff": 15
           },
           "zerolinecolor": "white",
           "zerolinewidth": 2
          }
         }
        },
        "title": {
         "text": "Household Food Security Status by Gender and Age (100% Stacked)"
        },
        "width": 1000,
        "xaxis": {
         "title": {
          "text": "Demographic Characteristics"
         }
        },
        "yaxis": {
         "title": {
          "text": "Percent of People (100% Stacked)"
         }
        }
       }
      }
     },
     "metadata": {},
     "output_type": "display_data"
    }
   ],
   "source": [
    "persons_df = food_df[food_df['Demographic characteristics'].apply(lambda row: 'Males' in row or 'Females' in row)]\n",
    "security_status_persons_grp = persons_df[persons_df['UOM']=='Number'].groupby(['Household food security status', 'Demographic characteristics']).sum(numeric_only=True)[['VALUE']].unstack('Household food security status')\n",
    "security_status_persons_grp = security_status_persons_grp['VALUE']\n",
    "security_status_persons_grp['total'] = security_status_persons_grp.T.sum()\n",
    "for i in range(len(security_status_persons_grp)):\n",
    "    security_status_persons_grp['Food insecure'].iloc[i] = round(security_status_persons_grp['Food insecure'].iloc[i]/security_status_persons_grp['total'].iloc[i]*100, 3)\n",
    "    security_status_persons_grp['Food insecure, marginal'].iloc[i] = round(security_status_persons_grp['Food insecure, marginal'].iloc[i]/security_status_persons_grp['total'].iloc[i]*100, 3)\n",
    "    security_status_persons_grp['Food insecure, moderate'].iloc[i] = round(security_status_persons_grp['Food insecure, moderate'].iloc[i]/security_status_persons_grp['total'].iloc[i]*100, 3)\n",
    "    security_status_persons_grp['Food insecure, moderate or severe'].iloc[i] = round(security_status_persons_grp['Food insecure, moderate or severe'].iloc[i]/security_status_persons_grp['total'].iloc[i]*100, 3)\n",
    "    security_status_persons_grp['Food insecure, severe'].iloc[i] = round(security_status_persons_grp['Food insecure, severe'].iloc[i]/security_status_persons_grp['total'].iloc[i]*100, 3)\n",
    "    security_status_persons_grp['Food secure'].iloc[i] = round(security_status_persons_grp['Food secure'].iloc[i]/security_status_persons_grp['total'].iloc[i]*100, 3)\n",
    "security_status_persons_grp = security_status_persons_grp.sort_values(['Food secure'], ascending=False)\n",
    "security_status_persons_grp.drop(columns='total', inplace=True)\n",
    "\n",
    "x_labels = security_status_persons_grp.index.tolist()\n",
    "categories = security_status_persons_grp.columns\n",
    "y_values = [security_status_persons_grp[category].tolist() for category in categories]\n",
    "\n",
    "fig = go.Figure()\n",
    "for i, category in enumerate(categories):\n",
    "    fig.add_trace(go.Bar(x=x_labels, y=y_values[i], name=category))\n",
    "\n",
    "fig.update_layout(\n",
    "    barmode='stack',\n",
    "    title='Household Food Security Status by Gender and Age (100% Stacked)',\n",
    "    xaxis_title='Demographic Characteristics',\n",
    "    yaxis_title='Percent of People (100% Stacked)',\n",
    "    width=1000,\n",
    "    height=600\n",
    ")\n",
    "\n",
    "fig.write_json('gender_grp_100.json')\n",
    "\n",
    "fig.show()"
   ]
  },
  {
   "cell_type": "code",
   "execution_count": 512,
   "metadata": {},
   "outputs": [
    {
     "data": {
      "application/vnd.plotly.v1+json": {
       "config": {
        "plotlyServerURL": "https://plot.ly"
       },
       "data": [
        {
         "name": "Food insecure",
         "type": "bar",
         "x": [
          "Chinese",
          "Not a visible minority nor Indigenous",
          "Southeast Asian",
          "Not a visible minority",
          "Non-Indigenous population aged 16 years and over",
          "Non-Indigenous population",
          "Other visible minority",
          "South Asian",
          "Immigrants aged 16 years and over",
          "Latin American",
          "Arab",
          "Very recent immigrants (5 years or less) aged 16 years and over",
          "Visible minority population",
          "Recent immigrants (10 years or less) aged 16 years and over",
          "Métis aged 16 years and over",
          "Filipino",
          "Indigenous population aged 16 years and over",
          "Black",
          "First Nations aged 16 years and over",
          "Indigenous population"
         ],
         "y": [
          12.676,
          11.739,
          15.663,
          12.186,
          12.325,
          13.165,
          14.998,
          14.062,
          14.291,
          17.358,
          18.635,
          17.582,
          16.443,
          17.758,
          18.44,
          20.197,
          19.372,
          20.706,
          20.757,
          20.749
         ]
        },
        {
         "name": "Food insecure, marginal",
         "type": "bar",
         "x": [
          "Chinese",
          "Not a visible minority nor Indigenous",
          "Southeast Asian",
          "Not a visible minority",
          "Non-Indigenous population aged 16 years and over",
          "Non-Indigenous population",
          "Other visible minority",
          "South Asian",
          "Immigrants aged 16 years and over",
          "Latin American",
          "Arab",
          "Very recent immigrants (5 years or less) aged 16 years and over",
          "Visible minority population",
          "Recent immigrants (10 years or less) aged 16 years and over",
          "Métis aged 16 years and over",
          "Filipino",
          "Indigenous population aged 16 years and over",
          "Black",
          "First Nations aged 16 years and over",
          "Indigenous population"
         ],
         "y": [
          3.112,
          3.475,
          0.88,
          3.528,
          3.713,
          3.915,
          3.337,
          3.125,
          4.65,
          2.151,
          5.696,
          4.689,
          4.87,
          5.621,
          2.626,
          3.754,
          3.165,
          3.975,
          2.254,
          3.567
         ]
        },
        {
         "name": "Food insecure, moderate",
         "type": "bar",
         "x": [
          "Chinese",
          "Not a visible minority nor Indigenous",
          "Southeast Asian",
          "Not a visible minority",
          "Non-Indigenous population aged 16 years and over",
          "Non-Indigenous population",
          "Other visible minority",
          "South Asian",
          "Immigrants aged 16 years and over",
          "Latin American",
          "Arab",
          "Very recent immigrants (5 years or less) aged 16 years and over",
          "Visible minority population",
          "Recent immigrants (10 years or less) aged 16 years and over",
          "Métis aged 16 years and over",
          "Filipino",
          "Indigenous population aged 16 years and over",
          "Black",
          "First Nations aged 16 years and over",
          "Indigenous population"
         ],
         "y": [
          5.71,
          5.308,
          6.477,
          5.519,
          5.81,
          6.334,
          7.448,
          7.623,
          7.251,
          7.158,
          6.481,
          7.713,
          8.65,
          8.707,
          6.306,
          8.906,
          8.589,
          9.279,
          9.075,
          9.188
         ]
        },
        {
         "name": "Food insecure, moderate or severe",
         "type": "bar",
         "x": [
          "Chinese",
          "Not a visible minority nor Indigenous",
          "Southeast Asian",
          "Not a visible minority",
          "Non-Indigenous population aged 16 years and over",
          "Non-Indigenous population",
          "Other visible minority",
          "South Asian",
          "Immigrants aged 16 years and over",
          "Latin American",
          "Arab",
          "Very recent immigrants (5 years or less) aged 16 years and over",
          "Visible minority population",
          "Recent immigrants (10 years or less) aged 16 years and over",
          "Métis aged 16 years and over",
          "Filipino",
          "Indigenous population aged 16 years and over",
          "Black",
          "First Nations aged 16 years and over",
          "Indigenous population"
         ],
         "y": [
          8.327,
          8.266,
          8.694,
          8.655,
          8.611,
          9.251,
          9.976,
          9.767,
          9.555,
          10.661,
          9.41,
          10.689,
          11.472,
          11.457,
          13.984,
          13.735,
          15.073,
          15.049,
          16.425,
          16.027
         ]
        },
        {
         "name": "Food insecure, severe",
         "type": "bar",
         "x": [
          "Chinese",
          "Not a visible minority nor Indigenous",
          "Southeast Asian",
          "Not a visible minority",
          "Non-Indigenous population aged 16 years and over",
          "Non-Indigenous population",
          "Other visible minority",
          "South Asian",
          "Immigrants aged 16 years and over",
          "Latin American",
          "Arab",
          "Very recent immigrants (5 years or less) aged 16 years and over",
          "Visible minority population",
          "Recent immigrants (10 years or less) aged 16 years and over",
          "Métis aged 16 years and over",
          "Filipino",
          "Indigenous population aged 16 years and over",
          "Black",
          "First Nations aged 16 years and over",
          "Indigenous population"
         ],
         "y": [
          1.551,
          2.955,
          0.81,
          3.136,
          2.802,
          2.916,
          null,
          1.197,
          2.158,
          2.058,
          0.969,
          1.488,
          2.702,
          1.473,
          4.555,
          null,
          6.04,
          3.56,
          5.037,
          5.877
         ]
        },
        {
         "name": "Food secure",
         "type": "bar",
         "x": [
          "Chinese",
          "Not a visible minority nor Indigenous",
          "Southeast Asian",
          "Not a visible minority",
          "Non-Indigenous population aged 16 years and over",
          "Non-Indigenous population",
          "Other visible minority",
          "South Asian",
          "Immigrants aged 16 years and over",
          "Latin American",
          "Arab",
          "Very recent immigrants (5 years or less) aged 16 years and over",
          "Visible minority population",
          "Recent immigrants (10 years or less) aged 16 years and over",
          "Métis aged 16 years and over",
          "Filipino",
          "Indigenous population aged 16 years and over",
          "Black",
          "First Nations aged 16 years and over",
          "Indigenous population"
         ],
         "y": [
          68.624,
          68.257,
          67.476,
          66.975,
          66.739,
          64.42,
          64.241,
          64.225,
          62.094,
          60.614,
          58.81,
          57.839,
          55.862,
          54.983,
          54.088,
          53.408,
          47.76,
          47.431,
          46.452,
          44.591
         ]
        }
       ],
       "layout": {
        "barmode": "stack",
        "height": 800,
        "template": {
         "data": {
          "bar": [
           {
            "error_x": {
             "color": "#2a3f5f"
            },
            "error_y": {
             "color": "#2a3f5f"
            },
            "marker": {
             "line": {
              "color": "#E5ECF6",
              "width": 0.5
             },
             "pattern": {
              "fillmode": "overlay",
              "size": 10,
              "solidity": 0.2
             }
            },
            "type": "bar"
           }
          ],
          "barpolar": [
           {
            "marker": {
             "line": {
              "color": "#E5ECF6",
              "width": 0.5
             },
             "pattern": {
              "fillmode": "overlay",
              "size": 10,
              "solidity": 0.2
             }
            },
            "type": "barpolar"
           }
          ],
          "carpet": [
           {
            "aaxis": {
             "endlinecolor": "#2a3f5f",
             "gridcolor": "white",
             "linecolor": "white",
             "minorgridcolor": "white",
             "startlinecolor": "#2a3f5f"
            },
            "baxis": {
             "endlinecolor": "#2a3f5f",
             "gridcolor": "white",
             "linecolor": "white",
             "minorgridcolor": "white",
             "startlinecolor": "#2a3f5f"
            },
            "type": "carpet"
           }
          ],
          "choropleth": [
           {
            "colorbar": {
             "outlinewidth": 0,
             "ticks": ""
            },
            "type": "choropleth"
           }
          ],
          "contour": [
           {
            "colorbar": {
             "outlinewidth": 0,
             "ticks": ""
            },
            "colorscale": [
             [
              0,
              "#0d0887"
             ],
             [
              0.1111111111111111,
              "#46039f"
             ],
             [
              0.2222222222222222,
              "#7201a8"
             ],
             [
              0.3333333333333333,
              "#9c179e"
             ],
             [
              0.4444444444444444,
              "#bd3786"
             ],
             [
              0.5555555555555556,
              "#d8576b"
             ],
             [
              0.6666666666666666,
              "#ed7953"
             ],
             [
              0.7777777777777778,
              "#fb9f3a"
             ],
             [
              0.8888888888888888,
              "#fdca26"
             ],
             [
              1,
              "#f0f921"
             ]
            ],
            "type": "contour"
           }
          ],
          "contourcarpet": [
           {
            "colorbar": {
             "outlinewidth": 0,
             "ticks": ""
            },
            "type": "contourcarpet"
           }
          ],
          "heatmap": [
           {
            "colorbar": {
             "outlinewidth": 0,
             "ticks": ""
            },
            "colorscale": [
             [
              0,
              "#0d0887"
             ],
             [
              0.1111111111111111,
              "#46039f"
             ],
             [
              0.2222222222222222,
              "#7201a8"
             ],
             [
              0.3333333333333333,
              "#9c179e"
             ],
             [
              0.4444444444444444,
              "#bd3786"
             ],
             [
              0.5555555555555556,
              "#d8576b"
             ],
             [
              0.6666666666666666,
              "#ed7953"
             ],
             [
              0.7777777777777778,
              "#fb9f3a"
             ],
             [
              0.8888888888888888,
              "#fdca26"
             ],
             [
              1,
              "#f0f921"
             ]
            ],
            "type": "heatmap"
           }
          ],
          "heatmapgl": [
           {
            "colorbar": {
             "outlinewidth": 0,
             "ticks": ""
            },
            "colorscale": [
             [
              0,
              "#0d0887"
             ],
             [
              0.1111111111111111,
              "#46039f"
             ],
             [
              0.2222222222222222,
              "#7201a8"
             ],
             [
              0.3333333333333333,
              "#9c179e"
             ],
             [
              0.4444444444444444,
              "#bd3786"
             ],
             [
              0.5555555555555556,
              "#d8576b"
             ],
             [
              0.6666666666666666,
              "#ed7953"
             ],
             [
              0.7777777777777778,
              "#fb9f3a"
             ],
             [
              0.8888888888888888,
              "#fdca26"
             ],
             [
              1,
              "#f0f921"
             ]
            ],
            "type": "heatmapgl"
           }
          ],
          "histogram": [
           {
            "marker": {
             "pattern": {
              "fillmode": "overlay",
              "size": 10,
              "solidity": 0.2
             }
            },
            "type": "histogram"
           }
          ],
          "histogram2d": [
           {
            "colorbar": {
             "outlinewidth": 0,
             "ticks": ""
            },
            "colorscale": [
             [
              0,
              "#0d0887"
             ],
             [
              0.1111111111111111,
              "#46039f"
             ],
             [
              0.2222222222222222,
              "#7201a8"
             ],
             [
              0.3333333333333333,
              "#9c179e"
             ],
             [
              0.4444444444444444,
              "#bd3786"
             ],
             [
              0.5555555555555556,
              "#d8576b"
             ],
             [
              0.6666666666666666,
              "#ed7953"
             ],
             [
              0.7777777777777778,
              "#fb9f3a"
             ],
             [
              0.8888888888888888,
              "#fdca26"
             ],
             [
              1,
              "#f0f921"
             ]
            ],
            "type": "histogram2d"
           }
          ],
          "histogram2dcontour": [
           {
            "colorbar": {
             "outlinewidth": 0,
             "ticks": ""
            },
            "colorscale": [
             [
              0,
              "#0d0887"
             ],
             [
              0.1111111111111111,
              "#46039f"
             ],
             [
              0.2222222222222222,
              "#7201a8"
             ],
             [
              0.3333333333333333,
              "#9c179e"
             ],
             [
              0.4444444444444444,
              "#bd3786"
             ],
             [
              0.5555555555555556,
              "#d8576b"
             ],
             [
              0.6666666666666666,
              "#ed7953"
             ],
             [
              0.7777777777777778,
              "#fb9f3a"
             ],
             [
              0.8888888888888888,
              "#fdca26"
             ],
             [
              1,
              "#f0f921"
             ]
            ],
            "type": "histogram2dcontour"
           }
          ],
          "mesh3d": [
           {
            "colorbar": {
             "outlinewidth": 0,
             "ticks": ""
            },
            "type": "mesh3d"
           }
          ],
          "parcoords": [
           {
            "line": {
             "colorbar": {
              "outlinewidth": 0,
              "ticks": ""
             }
            },
            "type": "parcoords"
           }
          ],
          "pie": [
           {
            "automargin": true,
            "type": "pie"
           }
          ],
          "scatter": [
           {
            "fillpattern": {
             "fillmode": "overlay",
             "size": 10,
             "solidity": 0.2
            },
            "type": "scatter"
           }
          ],
          "scatter3d": [
           {
            "line": {
             "colorbar": {
              "outlinewidth": 0,
              "ticks": ""
             }
            },
            "marker": {
             "colorbar": {
              "outlinewidth": 0,
              "ticks": ""
             }
            },
            "type": "scatter3d"
           }
          ],
          "scattercarpet": [
           {
            "marker": {
             "colorbar": {
              "outlinewidth": 0,
              "ticks": ""
             }
            },
            "type": "scattercarpet"
           }
          ],
          "scattergeo": [
           {
            "marker": {
             "colorbar": {
              "outlinewidth": 0,
              "ticks": ""
             }
            },
            "type": "scattergeo"
           }
          ],
          "scattergl": [
           {
            "marker": {
             "colorbar": {
              "outlinewidth": 0,
              "ticks": ""
             }
            },
            "type": "scattergl"
           }
          ],
          "scattermapbox": [
           {
            "marker": {
             "colorbar": {
              "outlinewidth": 0,
              "ticks": ""
             }
            },
            "type": "scattermapbox"
           }
          ],
          "scatterpolar": [
           {
            "marker": {
             "colorbar": {
              "outlinewidth": 0,
              "ticks": ""
             }
            },
            "type": "scatterpolar"
           }
          ],
          "scatterpolargl": [
           {
            "marker": {
             "colorbar": {
              "outlinewidth": 0,
              "ticks": ""
             }
            },
            "type": "scatterpolargl"
           }
          ],
          "scatterternary": [
           {
            "marker": {
             "colorbar": {
              "outlinewidth": 0,
              "ticks": ""
             }
            },
            "type": "scatterternary"
           }
          ],
          "surface": [
           {
            "colorbar": {
             "outlinewidth": 0,
             "ticks": ""
            },
            "colorscale": [
             [
              0,
              "#0d0887"
             ],
             [
              0.1111111111111111,
              "#46039f"
             ],
             [
              0.2222222222222222,
              "#7201a8"
             ],
             [
              0.3333333333333333,
              "#9c179e"
             ],
             [
              0.4444444444444444,
              "#bd3786"
             ],
             [
              0.5555555555555556,
              "#d8576b"
             ],
             [
              0.6666666666666666,
              "#ed7953"
             ],
             [
              0.7777777777777778,
              "#fb9f3a"
             ],
             [
              0.8888888888888888,
              "#fdca26"
             ],
             [
              1,
              "#f0f921"
             ]
            ],
            "type": "surface"
           }
          ],
          "table": [
           {
            "cells": {
             "fill": {
              "color": "#EBF0F8"
             },
             "line": {
              "color": "white"
             }
            },
            "header": {
             "fill": {
              "color": "#C8D4E3"
             },
             "line": {
              "color": "white"
             }
            },
            "type": "table"
           }
          ]
         },
         "layout": {
          "annotationdefaults": {
           "arrowcolor": "#2a3f5f",
           "arrowhead": 0,
           "arrowwidth": 1
          },
          "autotypenumbers": "strict",
          "coloraxis": {
           "colorbar": {
            "outlinewidth": 0,
            "ticks": ""
           }
          },
          "colorscale": {
           "diverging": [
            [
             0,
             "#8e0152"
            ],
            [
             0.1,
             "#c51b7d"
            ],
            [
             0.2,
             "#de77ae"
            ],
            [
             0.3,
             "#f1b6da"
            ],
            [
             0.4,
             "#fde0ef"
            ],
            [
             0.5,
             "#f7f7f7"
            ],
            [
             0.6,
             "#e6f5d0"
            ],
            [
             0.7,
             "#b8e186"
            ],
            [
             0.8,
             "#7fbc41"
            ],
            [
             0.9,
             "#4d9221"
            ],
            [
             1,
             "#276419"
            ]
           ],
           "sequential": [
            [
             0,
             "#0d0887"
            ],
            [
             0.1111111111111111,
             "#46039f"
            ],
            [
             0.2222222222222222,
             "#7201a8"
            ],
            [
             0.3333333333333333,
             "#9c179e"
            ],
            [
             0.4444444444444444,
             "#bd3786"
            ],
            [
             0.5555555555555556,
             "#d8576b"
            ],
            [
             0.6666666666666666,
             "#ed7953"
            ],
            [
             0.7777777777777778,
             "#fb9f3a"
            ],
            [
             0.8888888888888888,
             "#fdca26"
            ],
            [
             1,
             "#f0f921"
            ]
           ],
           "sequentialminus": [
            [
             0,
             "#0d0887"
            ],
            [
             0.1111111111111111,
             "#46039f"
            ],
            [
             0.2222222222222222,
             "#7201a8"
            ],
            [
             0.3333333333333333,
             "#9c179e"
            ],
            [
             0.4444444444444444,
             "#bd3786"
            ],
            [
             0.5555555555555556,
             "#d8576b"
            ],
            [
             0.6666666666666666,
             "#ed7953"
            ],
            [
             0.7777777777777778,
             "#fb9f3a"
            ],
            [
             0.8888888888888888,
             "#fdca26"
            ],
            [
             1,
             "#f0f921"
            ]
           ]
          },
          "colorway": [
           "#636efa",
           "#EF553B",
           "#00cc96",
           "#ab63fa",
           "#FFA15A",
           "#19d3f3",
           "#FF6692",
           "#B6E880",
           "#FF97FF",
           "#FECB52"
          ],
          "font": {
           "color": "#2a3f5f"
          },
          "geo": {
           "bgcolor": "white",
           "lakecolor": "white",
           "landcolor": "#E5ECF6",
           "showlakes": true,
           "showland": true,
           "subunitcolor": "white"
          },
          "hoverlabel": {
           "align": "left"
          },
          "hovermode": "closest",
          "mapbox": {
           "style": "light"
          },
          "paper_bgcolor": "white",
          "plot_bgcolor": "#E5ECF6",
          "polar": {
           "angularaxis": {
            "gridcolor": "white",
            "linecolor": "white",
            "ticks": ""
           },
           "bgcolor": "#E5ECF6",
           "radialaxis": {
            "gridcolor": "white",
            "linecolor": "white",
            "ticks": ""
           }
          },
          "scene": {
           "xaxis": {
            "backgroundcolor": "#E5ECF6",
            "gridcolor": "white",
            "gridwidth": 2,
            "linecolor": "white",
            "showbackground": true,
            "ticks": "",
            "zerolinecolor": "white"
           },
           "yaxis": {
            "backgroundcolor": "#E5ECF6",
            "gridcolor": "white",
            "gridwidth": 2,
            "linecolor": "white",
            "showbackground": true,
            "ticks": "",
            "zerolinecolor": "white"
           },
           "zaxis": {
            "backgroundcolor": "#E5ECF6",
            "gridcolor": "white",
            "gridwidth": 2,
            "linecolor": "white",
            "showbackground": true,
            "ticks": "",
            "zerolinecolor": "white"
           }
          },
          "shapedefaults": {
           "line": {
            "color": "#2a3f5f"
           }
          },
          "ternary": {
           "aaxis": {
            "gridcolor": "white",
            "linecolor": "white",
            "ticks": ""
           },
           "baxis": {
            "gridcolor": "white",
            "linecolor": "white",
            "ticks": ""
           },
           "bgcolor": "#E5ECF6",
           "caxis": {
            "gridcolor": "white",
            "linecolor": "white",
            "ticks": ""
           }
          },
          "title": {
           "x": 0.05
          },
          "xaxis": {
           "automargin": true,
           "gridcolor": "white",
           "linecolor": "white",
           "ticks": "",
           "title": {
            "standoff": 15
           },
           "zerolinecolor": "white",
           "zerolinewidth": 2
          },
          "yaxis": {
           "automargin": true,
           "gridcolor": "white",
           "linecolor": "white",
           "ticks": "",
           "title": {
            "standoff": 15
           },
           "zerolinecolor": "white",
           "zerolinewidth": 2
          }
         }
        },
        "title": {
         "text": "Household Food Security Status by Ethnicity (100% Stacked)"
        },
        "width": 1000,
        "xaxis": {
         "title": {
          "text": "Demographic Characteristics"
         }
        },
        "yaxis": {
         "title": {
          "text": "Percent of People (100% Stacked)"
         }
        }
       }
      }
     },
     "metadata": {},
     "output_type": "display_data"
    }
   ],
   "source": [
    "persons_df = food_df[food_df['Demographic characteristics'].apply(lambda row: 'Males' not in row and 'Females' not in row and ('persons' not in row.lower()))]\n",
    "security_status_persons_grp = persons_df[persons_df['UOM']=='Number'].groupby(['Household food security status', 'Demographic characteristics']).sum(numeric_only=True)[['VALUE']].unstack('Household food security status')\n",
    "security_status_persons_grp = security_status_persons_grp['VALUE']\n",
    "security_status_persons_grp['total'] = security_status_persons_grp.T.sum()\n",
    "for i in range(len(security_status_persons_grp)):\n",
    "    security_status_persons_grp['Food insecure'].iloc[i] = round(security_status_persons_grp['Food insecure'].iloc[i]/security_status_persons_grp['total'].iloc[i]*100, 3)\n",
    "    security_status_persons_grp['Food insecure, marginal'].iloc[i] = round(security_status_persons_grp['Food insecure, marginal'].iloc[i]/security_status_persons_grp['total'].iloc[i]*100, 3)\n",
    "    security_status_persons_grp['Food insecure, moderate'].iloc[i] = round(security_status_persons_grp['Food insecure, moderate'].iloc[i]/security_status_persons_grp['total'].iloc[i]*100, 3)\n",
    "    security_status_persons_grp['Food insecure, moderate or severe'].iloc[i] = round(security_status_persons_grp['Food insecure, moderate or severe'].iloc[i]/security_status_persons_grp['total'].iloc[i]*100, 3)\n",
    "    security_status_persons_grp['Food insecure, severe'].iloc[i] = round(security_status_persons_grp['Food insecure, severe'].iloc[i]/security_status_persons_grp['total'].iloc[i]*100, 3)\n",
    "    security_status_persons_grp['Food secure'].iloc[i] = round(security_status_persons_grp['Food secure'].iloc[i]/security_status_persons_grp['total'].iloc[i]*100, 3)\n",
    "security_status_persons_grp = security_status_persons_grp.sort_values(['Food secure'], ascending=False)\n",
    "security_status_persons_grp.drop(columns='total', inplace=True)\n",
    "\n",
    "x_labels = security_status_persons_grp.index.tolist()\n",
    "categories = security_status_persons_grp.columns\n",
    "y_values = [security_status_persons_grp[category].tolist() for category in categories]\n",
    "\n",
    "fig = go.Figure()\n",
    "for i, category in enumerate(categories):\n",
    "    fig.add_trace(go.Bar(x=x_labels, y=y_values[i], name=category))\n",
    "\n",
    "fig.update_layout(\n",
    "    barmode='stack',\n",
    "    title='Household Food Security Status by Ethnicity (100% Stacked)',\n",
    "    xaxis_title='Demographic Characteristics',\n",
    "    yaxis_title='Percent of People (100% Stacked)',\n",
    "    width=1000,\n",
    "    height=800\n",
    ")\n",
    "\n",
    "fig.write_json('ethnicity_grp_100.json')\n",
    "\n",
    "fig.show()"
   ]
  },
  {
   "cell_type": "code",
   "execution_count": null,
   "metadata": {},
   "outputs": [],
   "source": []
  }
 ],
 "metadata": {
  "kernelspec": {
   "display_name": "base",
   "language": "python",
   "name": "python3"
  },
  "language_info": {
   "codemirror_mode": {
    "name": "ipython",
    "version": 3
   },
   "file_extension": ".py",
   "mimetype": "text/x-python",
   "name": "python",
   "nbconvert_exporter": "python",
   "pygments_lexer": "ipython3",
   "version": "3.10.9"
  },
  "orig_nbformat": 4
 },
 "nbformat": 4,
 "nbformat_minor": 2
}
